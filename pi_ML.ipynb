{
 "cells": [
  {
   "cell_type": "markdown",
   "id": "23faf85b",
   "metadata": {},
   "source": [
    "# PI-MACHINE LEARNING"
   ]
  },
  {
   "cell_type": "markdown",
   "id": "48356181",
   "metadata": {},
   "source": [
    "#### Consingna  : \n",
    "Implementar un modelo que nos permita predecir si un envío llegará a tiempo o no, según la información contenida en el dataset E-Commerce_test."
   ]
  },
  {
   "cell_type": "code",
   "execution_count": 1,
   "id": "daaffa1c-6aca-464a-930c-1642052a7d7a",
   "metadata": {},
   "outputs": [],
   "source": [
    "#Importamos algunas librerias que utilizaremos (mas adelante importare algunas mas)\n",
    "import pandas as pd\n",
    "import numpy as np\n",
    "import matplotlib.pyplot as plt\n",
    "import seaborn as sns"
   ]
  },
  {
   "cell_type": "markdown",
   "id": "51879c13",
   "metadata": {},
   "source": [
    "Creo mi dataframe llamado \"data\""
   ]
  },
  {
   "cell_type": "code",
   "execution_count": 2,
   "id": "db16eb99-e157-427f-abd3-ea6d2d410186",
   "metadata": {},
   "outputs": [],
   "source": [
    "data = pd.read_excel(\"E-Commerce_train.xlsx\")"
   ]
  },
  {
   "cell_type": "code",
   "execution_count": 3,
   "id": "36994745-9cb1-489d-b955-3c201d611249",
   "metadata": {},
   "outputs": [
    {
     "data": {
      "text/html": [
       "<div>\n",
       "<style scoped>\n",
       "    .dataframe tbody tr th:only-of-type {\n",
       "        vertical-align: middle;\n",
       "    }\n",
       "\n",
       "    .dataframe tbody tr th {\n",
       "        vertical-align: top;\n",
       "    }\n",
       "\n",
       "    .dataframe thead th {\n",
       "        text-align: right;\n",
       "    }\n",
       "</style>\n",
       "<table border=\"1\" class=\"dataframe\">\n",
       "  <thead>\n",
       "    <tr style=\"text-align: right;\">\n",
       "      <th></th>\n",
       "      <th>ID</th>\n",
       "      <th>Warehouse_block</th>\n",
       "      <th>Mode_of_Shipment</th>\n",
       "      <th>Customer_care_calls</th>\n",
       "      <th>Customer_rating</th>\n",
       "      <th>Cost_of_the_Product</th>\n",
       "      <th>Prior_purchases</th>\n",
       "      <th>Product_importance</th>\n",
       "      <th>Gender</th>\n",
       "      <th>Discount_offered</th>\n",
       "      <th>Weight_in_gms</th>\n",
       "      <th>Reached.on.Time_Y.N</th>\n",
       "    </tr>\n",
       "  </thead>\n",
       "  <tbody>\n",
       "    <tr>\n",
       "      <th>0</th>\n",
       "      <td>1</td>\n",
       "      <td>D</td>\n",
       "      <td>Flight</td>\n",
       "      <td>4</td>\n",
       "      <td>2</td>\n",
       "      <td>177</td>\n",
       "      <td>3</td>\n",
       "      <td>low</td>\n",
       "      <td>F</td>\n",
       "      <td>44</td>\n",
       "      <td>1233</td>\n",
       "      <td>1</td>\n",
       "    </tr>\n",
       "    <tr>\n",
       "      <th>1</th>\n",
       "      <td>2</td>\n",
       "      <td>F</td>\n",
       "      <td>Flight</td>\n",
       "      <td>4</td>\n",
       "      <td>5</td>\n",
       "      <td>216</td>\n",
       "      <td>2</td>\n",
       "      <td>low</td>\n",
       "      <td>M</td>\n",
       "      <td>59</td>\n",
       "      <td>3088</td>\n",
       "      <td>1</td>\n",
       "    </tr>\n",
       "    <tr>\n",
       "      <th>2</th>\n",
       "      <td>3</td>\n",
       "      <td>A</td>\n",
       "      <td>Flight</td>\n",
       "      <td>2</td>\n",
       "      <td>2</td>\n",
       "      <td>183</td>\n",
       "      <td>4</td>\n",
       "      <td>low</td>\n",
       "      <td>M</td>\n",
       "      <td>48</td>\n",
       "      <td>3374</td>\n",
       "      <td>1</td>\n",
       "    </tr>\n",
       "    <tr>\n",
       "      <th>3</th>\n",
       "      <td>4</td>\n",
       "      <td>B</td>\n",
       "      <td>Flight</td>\n",
       "      <td>3</td>\n",
       "      <td>3</td>\n",
       "      <td>176</td>\n",
       "      <td>4</td>\n",
       "      <td>medium</td>\n",
       "      <td>M</td>\n",
       "      <td>10</td>\n",
       "      <td>1177</td>\n",
       "      <td>1</td>\n",
       "    </tr>\n",
       "    <tr>\n",
       "      <th>4</th>\n",
       "      <td>5</td>\n",
       "      <td>C</td>\n",
       "      <td>Flight</td>\n",
       "      <td>2</td>\n",
       "      <td>2</td>\n",
       "      <td>184</td>\n",
       "      <td>3</td>\n",
       "      <td>medium</td>\n",
       "      <td>F</td>\n",
       "      <td>46</td>\n",
       "      <td>2484</td>\n",
       "      <td>1</td>\n",
       "    </tr>\n",
       "    <tr>\n",
       "      <th>...</th>\n",
       "      <td>...</td>\n",
       "      <td>...</td>\n",
       "      <td>...</td>\n",
       "      <td>...</td>\n",
       "      <td>...</td>\n",
       "      <td>...</td>\n",
       "      <td>...</td>\n",
       "      <td>...</td>\n",
       "      <td>...</td>\n",
       "      <td>...</td>\n",
       "      <td>...</td>\n",
       "      <td>...</td>\n",
       "    </tr>\n",
       "    <tr>\n",
       "      <th>8994</th>\n",
       "      <td>8995</td>\n",
       "      <td>D</td>\n",
       "      <td>Ship</td>\n",
       "      <td>3</td>\n",
       "      <td>1</td>\n",
       "      <td>217</td>\n",
       "      <td>3</td>\n",
       "      <td>low</td>\n",
       "      <td>F</td>\n",
       "      <td>1</td>\n",
       "      <td>4177</td>\n",
       "      <td>1</td>\n",
       "    </tr>\n",
       "    <tr>\n",
       "      <th>8995</th>\n",
       "      <td>8996</td>\n",
       "      <td>F</td>\n",
       "      <td>Ship</td>\n",
       "      <td>5</td>\n",
       "      <td>3</td>\n",
       "      <td>232</td>\n",
       "      <td>3</td>\n",
       "      <td>medium</td>\n",
       "      <td>M</td>\n",
       "      <td>3</td>\n",
       "      <td>4526</td>\n",
       "      <td>0</td>\n",
       "    </tr>\n",
       "    <tr>\n",
       "      <th>8996</th>\n",
       "      <td>8997</td>\n",
       "      <td>A</td>\n",
       "      <td>Ship</td>\n",
       "      <td>4</td>\n",
       "      <td>5</td>\n",
       "      <td>260</td>\n",
       "      <td>3</td>\n",
       "      <td>medium</td>\n",
       "      <td>F</td>\n",
       "      <td>6</td>\n",
       "      <td>4221</td>\n",
       "      <td>0</td>\n",
       "    </tr>\n",
       "    <tr>\n",
       "      <th>8997</th>\n",
       "      <td>8998</td>\n",
       "      <td>B</td>\n",
       "      <td>Ship</td>\n",
       "      <td>4</td>\n",
       "      <td>2</td>\n",
       "      <td>184</td>\n",
       "      <td>3</td>\n",
       "      <td>medium</td>\n",
       "      <td>F</td>\n",
       "      <td>5</td>\n",
       "      <td>5931</td>\n",
       "      <td>1</td>\n",
       "    </tr>\n",
       "    <tr>\n",
       "      <th>8998</th>\n",
       "      <td>8999</td>\n",
       "      <td>C</td>\n",
       "      <td>Ship</td>\n",
       "      <td>5</td>\n",
       "      <td>4</td>\n",
       "      <td>145</td>\n",
       "      <td>4</td>\n",
       "      <td>low</td>\n",
       "      <td>M</td>\n",
       "      <td>4</td>\n",
       "      <td>4790</td>\n",
       "      <td>0</td>\n",
       "    </tr>\n",
       "  </tbody>\n",
       "</table>\n",
       "<p>8999 rows × 12 columns</p>\n",
       "</div>"
      ],
      "text/plain": [
       "        ID Warehouse_block Mode_of_Shipment  Customer_care_calls  \\\n",
       "0        1               D           Flight                    4   \n",
       "1        2               F           Flight                    4   \n",
       "2        3               A           Flight                    2   \n",
       "3        4               B           Flight                    3   \n",
       "4        5               C           Flight                    2   \n",
       "...    ...             ...              ...                  ...   \n",
       "8994  8995               D             Ship                    3   \n",
       "8995  8996               F             Ship                    5   \n",
       "8996  8997               A             Ship                    4   \n",
       "8997  8998               B             Ship                    4   \n",
       "8998  8999               C             Ship                    5   \n",
       "\n",
       "      Customer_rating  Cost_of_the_Product  Prior_purchases  \\\n",
       "0                   2                  177                3   \n",
       "1                   5                  216                2   \n",
       "2                   2                  183                4   \n",
       "3                   3                  176                4   \n",
       "4                   2                  184                3   \n",
       "...               ...                  ...              ...   \n",
       "8994                1                  217                3   \n",
       "8995                3                  232                3   \n",
       "8996                5                  260                3   \n",
       "8997                2                  184                3   \n",
       "8998                4                  145                4   \n",
       "\n",
       "     Product_importance Gender  Discount_offered  Weight_in_gms  \\\n",
       "0                   low      F                44           1233   \n",
       "1                   low      M                59           3088   \n",
       "2                   low      M                48           3374   \n",
       "3                medium      M                10           1177   \n",
       "4                medium      F                46           2484   \n",
       "...                 ...    ...               ...            ...   \n",
       "8994                low      F                 1           4177   \n",
       "8995             medium      M                 3           4526   \n",
       "8996             medium      F                 6           4221   \n",
       "8997             medium      F                 5           5931   \n",
       "8998                low      M                 4           4790   \n",
       "\n",
       "      Reached.on.Time_Y.N  \n",
       "0                       1  \n",
       "1                       1  \n",
       "2                       1  \n",
       "3                       1  \n",
       "4                       1  \n",
       "...                   ...  \n",
       "8994                    1  \n",
       "8995                    0  \n",
       "8996                    0  \n",
       "8997                    1  \n",
       "8998                    0  \n",
       "\n",
       "[8999 rows x 12 columns]"
      ]
     },
     "execution_count": 3,
     "metadata": {},
     "output_type": "execute_result"
    }
   ],
   "source": [
    "data"
   ]
  },
  {
   "cell_type": "markdown",
   "id": "7f9cad01",
   "metadata": {},
   "source": [
    "## Empezamos con el Preprocesamiento de datos"
   ]
  },
  {
   "cell_type": "code",
   "execution_count": 4,
   "id": "6ba17135-4939-41ea-930b-e633d9eb598b",
   "metadata": {},
   "outputs": [
    {
     "data": {
      "text/html": [
       "<div>\n",
       "<style scoped>\n",
       "    .dataframe tbody tr th:only-of-type {\n",
       "        vertical-align: middle;\n",
       "    }\n",
       "\n",
       "    .dataframe tbody tr th {\n",
       "        vertical-align: top;\n",
       "    }\n",
       "\n",
       "    .dataframe thead th {\n",
       "        text-align: right;\n",
       "    }\n",
       "</style>\n",
       "<table border=\"1\" class=\"dataframe\">\n",
       "  <thead>\n",
       "    <tr style=\"text-align: right;\">\n",
       "      <th></th>\n",
       "      <th>ID</th>\n",
       "      <th>Warehouse_block</th>\n",
       "      <th>Mode_of_Shipment</th>\n",
       "      <th>Customer_care_calls</th>\n",
       "      <th>Customer_rating</th>\n",
       "      <th>Cost_of_the_Product</th>\n",
       "      <th>Prior_purchases</th>\n",
       "      <th>Product_importance</th>\n",
       "      <th>Gender</th>\n",
       "      <th>Discount_offered</th>\n",
       "      <th>Weight_in_gms</th>\n",
       "      <th>Reached.on.Time_Y.N</th>\n",
       "    </tr>\n",
       "  </thead>\n",
       "  <tbody>\n",
       "  </tbody>\n",
       "</table>\n",
       "</div>"
      ],
      "text/plain": [
       "Empty DataFrame\n",
       "Columns: [ID, Warehouse_block, Mode_of_Shipment, Customer_care_calls, Customer_rating, Cost_of_the_Product, Prior_purchases, Product_importance, Gender, Discount_offered, Weight_in_gms, Reached.on.Time_Y.N]\n",
       "Index: []"
      ]
     },
     "execution_count": 4,
     "metadata": {},
     "output_type": "execute_result"
    }
   ],
   "source": [
    "#Buscamos si tenemos instancias duplicadas. Esto lo hacemos de la siguiente manera.\n",
    "data[data.duplicated()]"
   ]
  },
  {
   "cell_type": "code",
   "execution_count": 5,
   "id": "d286cf95-8af9-4c88-96e1-8e06ec4bba10",
   "metadata": {},
   "outputs": [
    {
     "name": "stdout",
     "output_type": "stream",
     "text": [
      "La cantidad de registros duplicados es: 0\n"
     ]
    }
   ],
   "source": [
    "print('La cantidad de registros duplicados es:', data.duplicated().sum())"
   ]
  },
  {
   "cell_type": "markdown",
   "id": "00e836b5-562a-4620-90c1-1e408d91e284",
   "metadata": {},
   "source": [
    "#### 1. Revisemos  los valores faltantes,\n",
    "\n",
    "    No tenemos valores faltantes pero lo hare esta vez  para cumplir la consigna."
   ]
  },
  {
   "cell_type": "code",
   "execution_count": 6,
   "id": "ba4da971-eba7-4ec3-9d84-26b24d52999a",
   "metadata": {},
   "outputs": [],
   "source": [
    "#pip install missingno \n",
    "\n",
    "import missingno as msno"
   ]
  },
  {
   "cell_type": "code",
   "execution_count": 7,
   "id": "f5baff39-15e9-4be2-9533-488eceef09e9",
   "metadata": {},
   "outputs": [
    {
     "data": {
      "image/png": "[encoded data removed]",
      "text/plain": [
       "<Figure size 1800x720 with 3 Axes>"
      ]
     },
     "metadata": {
      "needs_background": "light"
     },
     "output_type": "display_data"
    }
   ],
   "source": [
    "msno.bar(data)\n",
    "plt.show()"
   ]
  },
  {
   "cell_type": "code",
   "execution_count": 8,
   "id": "12e3db4b-ccbf-410a-8363-e4fb3c72a297",
   "metadata": {},
   "outputs": [
    {
     "data": {
      "image/png": "[encoded data removed]",
      "text/plain": [
       "<Figure size 1800x720 with 2 Axes>"
      ]
     },
     "metadata": {
      "needs_background": "light"
     },
     "output_type": "display_data"
    }
   ],
   "source": [
    "# Tomamos 200 muestras al azar de nuestra población\n",
    "\n",
    "msno.matrix(data.sample(200), labels = True, label_rotation = 90)\n",
    "plt.show()"
   ]
  },
  {
   "cell_type": "code",
   "execution_count": 9,
   "id": "21a8915d-3d31-46d9-8661-5f04d849149a",
   "metadata": {},
   "outputs": [
    {
     "data": {
      "image/png": "[encoded data removed]",
      "text/plain": [
       "<Figure size 1800x864 with 1 Axes>"
      ]
     },
     "metadata": {
      "needs_background": "light"
     },
     "output_type": "display_data"
    }
   ],
   "source": [
    "# Otra forma de visualizar la matriz con seaborn\n",
    "\n",
    "plt.figure(figsize= (25,12))\n",
    "sns.heatmap(data.isnull(), cbar=False)\n",
    "plt.show()"
   ]
  },
  {
   "cell_type": "markdown",
   "id": "122321b3-537e-48c1-aad6-3e74645edbd3",
   "metadata": {},
   "source": [
    "No definimos la estrategia que usaremos para la imputación. En este caso, por que no lo necesitamos"
   ]
  },
  {
   "cell_type": "markdown",
   "id": "0c667a5f-be61-4bfa-8281-c5d1fa6fb9db",
   "metadata": {},
   "source": [
    "Ahora identificaremos valores atípicos y apliquemos una técnica para su tratamiento a cada columna nominal."
   ]
  },
  {
   "cell_type": "markdown",
   "id": "6a23b3c6-f0f5-45ba-a5fb-856a4d3191c8",
   "metadata": {},
   "source": [
    "C o s t _ o f _ t h e _ P r o d u c t"
   ]
  },
  {
   "cell_type": "code",
   "execution_count": 11,
   "id": "5efcd664-5f8c-483f-81ca-6476f225a5e4",
   "metadata": {},
   "outputs": [
    {
     "data": {
      "image/png": "[encoded data removed]",
      "text/plain": [
       "<Figure size 432x288 with 1 Axes>"
      ]
     },
     "metadata": {
      "needs_background": "light"
     },
     "output_type": "display_data"
    }
   ],
   "source": [
    "sns.boxplot(x = 'Cost_of_the_Product', data = data)\n",
    "plt.show()"
   ]
  },
  {
   "cell_type": "markdown",
   "id": "7ab05af1-7b16-4e52-bda4-9ea13d7e0fe4",
   "metadata": {},
   "source": [
    "El diagrama de cajas nos permite identificar fácilmente, y de forma visual, si tenemos outliers."
   ]
  },
  {
   "cell_type": "code",
   "execution_count": 12,
   "id": "bebf1eb3-4c22-46b3-9e9c-059a87b1f87e",
   "metadata": {},
   "outputs": [
    {
     "data": {
      "text/plain": [
       "96"
      ]
     },
     "execution_count": 12,
     "metadata": {},
     "output_type": "execute_result"
    }
   ],
   "source": [
    "# Verificamos que hay inconsistencias. El area no puede ser menor a cero.\n",
    "\n",
    "data.Cost_of_the_Product.min()"
   ]
  },
  {
   "cell_type": "markdown",
   "id": "bc9c8bf0-9b3d-4cf7-901f-cad186ba4dc1",
   "metadata": {},
   "source": [
    "C u s t o m e r _ c a r e _ c a l l s"
   ]
  },
  {
   "cell_type": "code",
   "execution_count": 13,
   "id": "2f3783fc-eff8-46ab-938f-053cc9df2d78",
   "metadata": {},
   "outputs": [
    {
     "data": {
      "image/png": "[encoded data removed]",
      "text/plain": [
       "<Figure size 432x288 with 1 Axes>"
      ]
     },
     "metadata": {
      "needs_background": "light"
     },
     "output_type": "display_data"
    }
   ],
   "source": [
    "sns.boxplot(x = 'Customer_care_calls', data = data)\n",
    "plt.show()"
   ]
  },
  {
   "cell_type": "code",
   "execution_count": 14,
   "id": "44745511-1ad2-4dc7-80ff-6fccae6b9dca",
   "metadata": {},
   "outputs": [
    {
     "data": {
      "text/plain": [
       "2"
      ]
     },
     "execution_count": 14,
     "metadata": {},
     "output_type": "execute_result"
    }
   ],
   "source": [
    "# Verificamos que hay inconsistencias. El area no puede ser menor a cero.\n",
    "\n",
    "data.Customer_care_calls.min()"
   ]
  },
  {
   "cell_type": "markdown",
   "id": "56e94a83-275a-434b-99bb-44a762b7ba23",
   "metadata": {},
   "source": [
    "# C u s t o m e r _ r a t i n g"
   ]
  },
  {
   "cell_type": "code",
   "execution_count": 15,
   "id": "efc0d9d0-0641-47f7-b45b-fa3a8d7c990b",
   "metadata": {},
   "outputs": [
    {
     "data": {
      "image/png": "[encoded data removed]",
      "text/plain": [
       "<Figure size 432x288 with 1 Axes>"
      ]
     },
     "metadata": {
      "needs_background": "light"
     },
     "output_type": "display_data"
    }
   ],
   "source": [
    "sns.boxplot(x = 'Customer_rating', data = data)\n",
    "plt.show()"
   ]
  },
  {
   "cell_type": "code",
   "execution_count": 16,
   "id": "435ddd2f-e193-4be0-bb6f-fa1af34ebae4",
   "metadata": {},
   "outputs": [
    {
     "data": {
      "text/plain": [
       "1"
      ]
     },
     "execution_count": 16,
     "metadata": {},
     "output_type": "execute_result"
    }
   ],
   "source": [
    "# Verificamos que hay inconsistencias. El area no puede ser menor a cero.\n",
    "\n",
    "data.Customer_rating.min()"
   ]
  },
  {
   "cell_type": "markdown",
   "id": "f9dedcd2-0419-4188-a392-96f96bdc9136",
   "metadata": {},
   "source": [
    "# W e i g h t _ i n _ g m s "
   ]
  },
  {
   "cell_type": "code",
   "execution_count": 17,
   "id": "4a0b2c83-fb8a-4f35-bfd7-32d88f431fe1",
   "metadata": {},
   "outputs": [
    {
     "data": {
      "image/png": "[encoded data removed]",
      "text/plain": [
       "<Figure size 432x288 with 1 Axes>"
      ]
     },
     "metadata": {
      "needs_background": "light"
     },
     "output_type": "display_data"
    }
   ],
   "source": [
    "sns.boxplot(x = 'Weight_in_gms', data = data)\n",
    "plt.show()"
   ]
  },
  {
   "cell_type": "code",
   "execution_count": 18,
   "id": "2f34db71-4e6f-48e9-874f-eac4b697814f",
   "metadata": {},
   "outputs": [
    {
     "data": {
      "text/plain": [
       "1001"
      ]
     },
     "execution_count": 18,
     "metadata": {},
     "output_type": "execute_result"
    }
   ],
   "source": [
    "# Verificamos que hay inconsistencias. El area no puede ser menor a cero.\n",
    "\n",
    "data.Weight_in_gms.min()"
   ]
  },
  {
   "cell_type": "markdown",
   "id": "63521453-8d40-42df-a857-3a1fff76dea3",
   "metadata": {},
   "source": [
    "# D i s c o u n t _ o f f e r e d"
   ]
  },
  {
   "cell_type": "code",
   "execution_count": 19,
   "id": "304d02d4-1ec2-4655-83b3-37298859d7f7",
   "metadata": {},
   "outputs": [
    {
     "data": {
      "image/png": "[encoded data removed]",
      "text/plain": [
       "<Figure size 432x288 with 1 Axes>"
      ]
     },
     "metadata": {
      "needs_background": "light"
     },
     "output_type": "display_data"
    }
   ],
   "source": [
    "sns.boxplot(x = 'Discount_offered', data = data)\n",
    "plt.show()"
   ]
  },
  {
   "cell_type": "markdown",
   "id": "1d1c620f-5533-4780-880d-ca247842af92",
   "metadata": {},
   "source": [
    "Aqui encontramos muchos outliers"
   ]
  },
  {
   "cell_type": "code",
   "execution_count": 20,
   "id": "fb497a53-2ac5-438c-a974-2d96bd6c678f",
   "metadata": {},
   "outputs": [
    {
     "data": {
      "text/plain": [
       "1"
      ]
     },
     "execution_count": 20,
     "metadata": {},
     "output_type": "execute_result"
    }
   ],
   "source": [
    "# Verificamos que hay inconsistencias. El area no puede ser menor a cero.\n",
    "\n",
    "data.Discount_offered.min()"
   ]
  },
  {
   "cell_type": "markdown",
   "id": "b1fd70c8-abc0-4cd0-896f-d89f5d560919",
   "metadata": {},
   "source": [
    "Utilizaremos la técnica del rango intercuartílico para decidir si eliminar los  outliers en Discount_offered."
   ]
  },
  {
   "cell_type": "code",
   "execution_count": 10,
   "id": "555d7b02-6004-4d40-b873-bf57e54dd4a8",
   "metadata": {},
   "outputs": [
    {
     "name": "stdout",
     "output_type": "stream",
     "text": [
      "4.0\n",
      "19.0\n",
      "15.0\n",
      "-18.5\n",
      "41.5\n"
     ]
    }
   ],
   "source": [
    "Q1 = data['Discount_offered'].quantile(0.25)\n",
    "Q3 = data['Discount_offered'].quantile(0.75)\n",
    "IQR = Q3 - Q1\n",
    "BI = Q1 - 1.5*IQR\n",
    "BS = Q3 + 1.5*IQR\n",
    "\n",
    "print(Q1)\n",
    "print(Q3)\n",
    "print(IQR)\n",
    "print(BI)\n",
    "print(BS)"
   ]
  },
  {
   "cell_type": "code",
   "execution_count": 11,
   "id": "f6e0c7ad-8ad2-4fca-9054-00c372fffc87",
   "metadata": {},
   "outputs": [
    {
     "name": "stdout",
     "output_type": "stream",
     "text": [
      "Cantidad de registros totales: 8999\n",
      "Cantidad de outliers: 1193\n"
     ]
    }
   ],
   "source": [
    "print('Cantidad de registros totales:', data.shape[0])\n",
    "print('Cantidad de outliers:', data[(data['Discount_offered']<BI) | (data['Discount_offered']>BS)].shape[0] )"
   ]
  },
  {
   "cell_type": "markdown",
   "id": "8e46da9f-74c1-477f-b105-6a33968e0522",
   "metadata": {},
   "source": [
    "Eliminamos los outliers, es decir, aquellos valores que están por debajo del bigote inferior o por encima del bigote superior del boxplot. Para ello, recurrimos al siguiente bloque de código"
   ]
  },
  {
   "cell_type": "code",
   "execution_count": 12,
   "id": "0a1822d8-da46-41c8-8756-903d93c92626",
   "metadata": {},
   "outputs": [],
   "source": [
    "out_Discount_offered = (data['Discount_offered']<BI) | (data['Discount_offered']>BS) \n",
    "\n",
    "data = data[~out_Discount_offered]"
   ]
  },
  {
   "cell_type": "code",
   "execution_count": 13,
   "id": "e44ebc23-9eb0-4bba-8121-5d0b538b44db",
   "metadata": {},
   "outputs": [
    {
     "name": "stdout",
     "output_type": "stream",
     "text": [
      "Tamaño del dataset, luego de eliminar outliers en Discount_offered: 7806\n"
     ]
    }
   ],
   "source": [
    "print('Tamaño del dataset, luego de eliminar outliers en Discount_offered:', data.shape[0])"
   ]
  },
  {
   "cell_type": "code",
   "execution_count": 14,
   "id": "803cade8-bafa-4753-8908-98fd88d4bf9f",
   "metadata": {},
   "outputs": [
    {
     "data": {
      "image/png": "[encoded data removed]",
      "text/plain": [
       "<Figure size 432x288 with 1 Axes>"
      ]
     },
     "metadata": {
      "needs_background": "light"
     },
     "output_type": "display_data"
    }
   ],
   "source": [
    "# Comprobamos que, haciendo una primera eliminación de outliers, la cantidad de valores extremos ahora se redujo notoriamente\n",
    "\n",
    "sns.boxplot(x = 'Discount_offered', data = data)\n",
    "plt.show()"
   ]
  },
  {
   "cell_type": "markdown",
   "id": "ecd3c489-9f0b-402f-a275-78c0d3be63c4",
   "metadata": {},
   "source": [
    "Iteramos nuevamente para disminuir aun mas los outliers"
   ]
  },
  {
   "cell_type": "code",
   "execution_count": 15,
   "id": "ddc7fe29-9eba-48d1-970d-d8729f02c2a5",
   "metadata": {},
   "outputs": [
    {
     "name": "stdout",
     "output_type": "stream",
     "text": [
      "4.0\n",
      "10.0\n",
      "6.0\n",
      "-5.0\n",
      "19.0\n"
     ]
    }
   ],
   "source": [
    "Q1 = data['Discount_offered'].quantile(0.25)\n",
    "Q3 = data['Discount_offered'].quantile(0.75)\n",
    "IQR = Q3 - Q1\n",
    "BI = Q1 - 1.5*IQR\n",
    "BS = Q3 + 1.5*IQR\n",
    "\n",
    "print(Q1)\n",
    "print(Q3)\n",
    "print(IQR)\n",
    "print(BI)\n",
    "print(BS)"
   ]
  },
  {
   "cell_type": "code",
   "execution_count": 16,
   "id": "2b43a10a-b6df-488f-9c07-4c5fff26eaa9",
   "metadata": {},
   "outputs": [],
   "source": [
    "out_Discount_offered = (data['Discount_offered']<BI) | (data['Discount_offered']>BS) \n",
    "\n",
    "data = data[~out_Discount_offered]"
   ]
  },
  {
   "cell_type": "code",
   "execution_count": 17,
   "id": "7b1978ae-203e-4edc-bb0e-8613bd4be439",
   "metadata": {},
   "outputs": [
    {
     "name": "stdout",
     "output_type": "stream",
     "text": [
      "Tamaño del dataset, luego de eliminar por segunda vez outliers en Discount_offered: 6790\n"
     ]
    }
   ],
   "source": [
    "print('Tamaño del dataset, luego de eliminar por segunda vez outliers en Discount_offered:', data.shape[0])"
   ]
  },
  {
   "cell_type": "code",
   "execution_count": 18,
   "id": "e3c8c42a-3637-41c4-9fe0-71af2fd99c16",
   "metadata": {},
   "outputs": [
    {
     "data": {
      "image/png": "[encoded data removed]",
      "text/plain": [
       "<Figure size 432x288 with 1 Axes>"
      ]
     },
     "metadata": {
      "needs_background": "light"
     },
     "output_type": "display_data"
    }
   ],
   "source": [
    "# Comprobamos que, haciendo una primera eliminación de outliers, la cantidad de valores extremos ahora se redujo notoriamente\n",
    "\n",
    "sns.boxplot(x = 'Discount_offered', data = data)\n",
    "plt.show()"
   ]
  },
  {
   "cell_type": "markdown",
   "id": "9393fbe7-5c43-4926-aa23-7452654f4122",
   "metadata": {},
   "source": [
    "Estos nuevos outliers parecen ser muy pocos. Queda en consideración del data scientist si seguir eliminando o con una iteracion por mi parte para ser solo dos pruebas  ya fue suficiente."
   ]
  },
  {
   "cell_type": "markdown",
   "id": "e45c7ed3-d989-4fd2-9d2a-5b493fe85ce4",
   "metadata": {},
   "source": [
    "# P r i o r _ p u r c h a s e s "
   ]
  },
  {
   "cell_type": "code",
   "execution_count": 19,
   "id": "935b631c-51e5-435b-ad79-6da3a0a08ccb",
   "metadata": {},
   "outputs": [
    {
     "data": {
      "image/png": "[encoded data removed]",
      "text/plain": [
       "<Figure size 432x288 with 1 Axes>"
      ]
     },
     "metadata": {
      "needs_background": "light"
     },
     "output_type": "display_data"
    }
   ],
   "source": [
    "sns.boxplot(x = 'Prior_purchases', data = data)\n",
    "plt.show()"
   ]
  },
  {
   "cell_type": "code",
   "execution_count": 20,
   "id": "cb599013-75bd-471e-9138-f76e3cbef347",
   "metadata": {},
   "outputs": [
    {
     "data": {
      "text/plain": [
       "2"
      ]
     },
     "execution_count": 20,
     "metadata": {},
     "output_type": "execute_result"
    }
   ],
   "source": [
    "# Verificamos que hay inconsistencias. El area no puede ser menor a cero.\n",
    "\n",
    "data.Prior_purchases.min()"
   ]
  },
  {
   "cell_type": "markdown",
   "id": "0d1b088e-aa03-4a90-806a-9fef14c0edd2",
   "metadata": {},
   "source": [
    "Utilizaremos la técnica del rango intercuartílico para decidir si  eliminar outliers en Prior_purchases."
   ]
  },
  {
   "cell_type": "code",
   "execution_count": 21,
   "id": "e2bc5aaf-8dfa-4d44-8f1a-198aae2c45af",
   "metadata": {},
   "outputs": [
    {
     "name": "stdout",
     "output_type": "stream",
     "text": [
      "3.0\n",
      "4.0\n",
      "1.0\n",
      "1.5\n",
      "5.5\n"
     ]
    }
   ],
   "source": [
    "Q1 = data['Prior_purchases'].quantile(0.25)\n",
    "Q3 = data['Prior_purchases'].quantile(0.75)\n",
    "IQR = Q3 - Q1\n",
    "BI = Q1 - 1.5*IQR\n",
    "BS = Q3 + 1.5*IQR\n",
    "\n",
    "print(Q1)\n",
    "print(Q3)\n",
    "print(IQR)\n",
    "print(BI)\n",
    "print(BS)"
   ]
  },
  {
   "cell_type": "code",
   "execution_count": 22,
   "id": "8727549e-a128-4280-a763-84bb2f75c8b8",
   "metadata": {},
   "outputs": [
    {
     "name": "stdout",
     "output_type": "stream",
     "text": [
      "Cantidad de registros totales: 6790\n",
      "Cantidad de outliers: 614\n"
     ]
    }
   ],
   "source": [
    "print('Cantidad de registros totales:', data.shape[0])\n",
    "print('Cantidad de outliers:', data[(data['Prior_purchases']<BI) | (data['Prior_purchases']>BS)].shape[0] )"
   ]
  },
  {
   "cell_type": "markdown",
   "id": "3350717d-29fd-492d-abea-54b7097d175e",
   "metadata": {},
   "source": [
    "Eliminamos los outliers, es decir, aquellos valores que están por debajo del bigote inferior o por encima del bigote superior del boxplot. Para ello, recurrimos al siguiente bloque de código"
   ]
  },
  {
   "cell_type": "code",
   "execution_count": 23,
   "id": "db65fd4f-18ce-4f5d-a43b-93beee7fb898",
   "metadata": {},
   "outputs": [],
   "source": [
    "out_Prior_purchases = (data['Prior_purchases']<BI) | (data['Prior_purchases']>BS) \n",
    "\n",
    "data = data[~out_Prior_purchases]"
   ]
  },
  {
   "cell_type": "code",
   "execution_count": 24,
   "id": "14fa95db-4f58-45b0-9044-07e12626255f",
   "metadata": {},
   "outputs": [
    {
     "name": "stdout",
     "output_type": "stream",
     "text": [
      "Tamaño del dataset, luego de eliminar outliers en Prior_purchases: 6176\n"
     ]
    }
   ],
   "source": [
    "print('Tamaño del dataset, luego de eliminar outliers en Prior_purchases:', data.shape[0])"
   ]
  },
  {
   "cell_type": "code",
   "execution_count": 25,
   "id": "9c212729-b10d-4f16-90c6-366644b88785",
   "metadata": {},
   "outputs": [
    {
     "data": {
      "image/png": "[encoded data removed]",
      "text/plain": [
       "<Figure size 432x288 with 1 Axes>"
      ]
     },
     "metadata": {
      "needs_background": "light"
     },
     "output_type": "display_data"
    }
   ],
   "source": [
    "# Comprobamos que, haciendo una primera eliminación de outliers, la cantidad de valores extremos ahora se redujo notoriamente\n",
    "\n",
    "sns.boxplot(x = 'Prior_purchases', data = data)\n",
    "plt.show()"
   ]
  },
  {
   "cell_type": "markdown",
   "id": "c5b373bf-2fce-486a-a4e1-df48b93da558",
   "metadata": {},
   "source": [
    "Estos nuevos outliers parecen ser nulos a la vista. Queda en consideración del data scientist si seguir eliminando o con una iteracion por mi parte para ser solo una prueba  ya fue suficiente."
   ]
  },
  {
   "cell_type": "markdown",
   "id": "3acb3fd6-cf89-4de1-87f6-e020d5f6cee0",
   "metadata": {},
   "source": [
    "#### Escalado/normalización (Para este método, usamos MinMaxScaler de Scikit-learn)"
   ]
  },
  {
   "cell_type": "markdown",
   "id": "e67ecaac-dcb8-40b3-8bd9-1b5ab1f3ae78",
   "metadata": {},
   "source": [
    " Escalamos todas las variables numericas con minmaxsacler para optimizar el trabajo y minimizar el esfuerzo del procesador."
   ]
  },
  {
   "cell_type": "code",
   "execution_count": 26,
   "id": "9b735676-71da-49ee-ba3a-757e6038c9f4",
   "metadata": {},
   "outputs": [],
   "source": [
    "# importamos StandarScaler\n",
    "\n",
    "from sklearn.preprocessing import StandardScaler"
   ]
  },
  {
   "cell_type": "markdown",
   "id": "4069cf4b-89e3-4cbe-815c-6ab3d84e9f61",
   "metadata": {},
   "source": [
    "# D i s c o u n t _ o f f e r e d"
   ]
  },
  {
   "cell_type": "code",
   "execution_count": 27,
   "id": "dc1c8380-ac78-4cf6-b849-a56bb0a73880",
   "metadata": {},
   "outputs": [
    {
     "data": {
      "image/png": "[encoded data removed]",
      "text/plain": [
       "<Figure size 432x288 with 1 Axes>"
      ]
     },
     "metadata": {
      "needs_background": "light"
     },
     "output_type": "display_data"
    }
   ],
   "source": [
    "# Trabajaremos con la variable Discount_offered. Veamos su distribución\n",
    "\n",
    "plt.hist(data['Discount_offered']) \n",
    "plt.show()"
   ]
  },
  {
   "cell_type": "code",
   "execution_count": 28,
   "id": "ff105e49-c612-4d19-9a72-9a6e5a1111c0",
   "metadata": {},
   "outputs": [],
   "source": [
    "# Escalamos Discount_offered\n",
    "\n",
    "scaler = StandardScaler()\n",
    "\n",
    "scaler.fit(data[['Discount_offered']])\n",
    "\n",
    "data['Discount_offered'] = scaler.transform(data[['Discount_offered']])"
   ]
  },
  {
   "cell_type": "code",
   "execution_count": 29,
   "id": "a72e207a-b545-4917-b940-27b46ccff294",
   "metadata": {},
   "outputs": [
    {
     "data": {
      "image/png": "[encoded data removed]",
      "text/plain": [
       "<Figure size 432x288 with 1 Axes>"
      ]
     },
     "metadata": {
      "needs_background": "light"
     },
     "output_type": "display_data"
    }
   ],
   "source": [
    "# Observamos cómo quedó la distribución luego de escalar\n",
    "\n",
    "plt.hist(data['Discount_offered']) \n",
    "plt.show()"
   ]
  },
  {
   "cell_type": "markdown",
   "id": "dcd94e5a-8694-4830-9775-f6bc8db5747f",
   "metadata": {},
   "source": [
    "# P r i o r _ p u r c h a s e s"
   ]
  },
  {
   "cell_type": "code",
   "execution_count": 30,
   "id": "dcabecc1-016a-4be9-b5a1-2942dfcd4148",
   "metadata": {},
   "outputs": [
    {
     "data": {
      "image/png": "[encoded data removed]",
      "text/plain": [
       "<Figure size 432x288 with 1 Axes>"
      ]
     },
     "metadata": {
      "needs_background": "light"
     },
     "output_type": "display_data"
    }
   ],
   "source": [
    "# Trabajaremos con la variable Prior_purchases. Veamos su distribución\n",
    "\n",
    "plt.hist(data['Prior_purchases']) \n",
    "plt.show()"
   ]
  },
  {
   "cell_type": "code",
   "execution_count": 31,
   "id": "6edef605-0ee9-450c-98da-d4eab0ca2ef7",
   "metadata": {},
   "outputs": [],
   "source": [
    "# Escalamos Prior_purchases\n",
    "\n",
    "scaler = StandardScaler()\n",
    "\n",
    "scaler.fit(data[['Prior_purchases']])\n",
    "\n",
    "data[\"Prior_purchases\"] = scaler.transform(data[['Prior_purchases']])"
   ]
  },
  {
   "cell_type": "code",
   "execution_count": 32,
   "id": "74989bcc-ac4d-46c0-a4fc-5d3e69415dd5",
   "metadata": {},
   "outputs": [
    {
     "data": {
      "image/png": "[encoded data removed]",
      "text/plain": [
       "<Figure size 432x288 with 1 Axes>"
      ]
     },
     "metadata": {
      "needs_background": "light"
     },
     "output_type": "display_data"
    }
   ],
   "source": [
    "# Observamos cómo quedó la distribución luego de escalar\n",
    "\n",
    "plt.hist(data['Prior_purchases']) \n",
    "plt.show()"
   ]
  },
  {
   "cell_type": "code",
   "execution_count": null,
   "id": "60f2800a-9210-4a80-8bc2-cc9f63b97747",
   "metadata": {},
   "outputs": [],
   "source": [
    "C o s t _ o f _ t h e _ P r o d u c t"
   ]
  },
  {
   "cell_type": "code",
   "execution_count": 33,
   "id": "8c1045dc-41cd-4fa3-91dd-000e6fa640ec",
   "metadata": {},
   "outputs": [
    {
     "data": {
      "image/png": "[encoded data removed]",
      "text/plain": [
       "<Figure size 432x288 with 1 Axes>"
      ]
     },
     "metadata": {
      "needs_background": "light"
     },
     "output_type": "display_data"
    }
   ],
   "source": [
    "# Trabajaremos con la variable Cost_of_the_Product. Veamos su distribución\n",
    "\n",
    "plt.hist(data['Cost_of_the_Product']) \n",
    "plt.show()"
   ]
  },
  {
   "cell_type": "code",
   "execution_count": 34,
   "id": "3b79ec01-fc21-4e4d-be69-09d2fe014fba",
   "metadata": {},
   "outputs": [],
   "source": [
    "# Escalamos Cost_of_the_Product\n",
    "\n",
    "scaler = StandardScaler()\n",
    "\n",
    "scaler.fit(data[['Cost_of_the_Product']])\n",
    "\n",
    "data[\"Cost_of_the_Product\"] = scaler.transform(data[['Cost_of_the_Product']])"
   ]
  },
  {
   "cell_type": "code",
   "execution_count": 35,
   "id": "0c62284d-e36b-4c67-9007-afdc3bc3fad7",
   "metadata": {},
   "outputs": [
    {
     "data": {
      "image/png": "[encoded data removed]",
      "text/plain": [
       "<Figure size 432x288 with 1 Axes>"
      ]
     },
     "metadata": {
      "needs_background": "light"
     },
     "output_type": "display_data"
    }
   ],
   "source": [
    "# Observamos cómo quedó la distribución luego de escalar\n",
    "\n",
    "plt.hist(data['Cost_of_the_Product']) \n",
    "plt.show()"
   ]
  },
  {
   "cell_type": "markdown",
   "id": "d84aafa1-7563-4bfd-a3d2-5f9aa90296a5",
   "metadata": {},
   "source": [
    "C u s t o m e r _ c a r e _ c a l l s"
   ]
  },
  {
   "cell_type": "code",
   "execution_count": 36,
   "id": "b4cf084c-e07b-4952-86cd-fabfa7adee33",
   "metadata": {},
   "outputs": [
    {
     "data": {
      "image/png": "[encoded data removed]",
      "text/plain": [
       "<Figure size 432x288 with 1 Axes>"
      ]
     },
     "metadata": {
      "needs_background": "light"
     },
     "output_type": "display_data"
    }
   ],
   "source": [
    "# Trabajaremos con la variable Customer_care_calls. Veamos su distribución\n",
    "\n",
    "plt.hist(data['Customer_care_calls']) \n",
    "plt.show()"
   ]
  },
  {
   "cell_type": "code",
   "execution_count": 37,
   "id": "78447e6a-deed-4ec8-b127-5ae79d302600",
   "metadata": {},
   "outputs": [],
   "source": [
    "# Escalamos Customer_care_calls\n",
    "\n",
    "scaler = StandardScaler()\n",
    "\n",
    "scaler.fit(data[['Customer_care_calls']])\n",
    "\n",
    "data[\"Customer_care_calls\"] = scaler.transform(data[['Customer_care_calls']])"
   ]
  },
  {
   "cell_type": "code",
   "execution_count": 38,
   "id": "1dd42a02-acdd-47d3-869f-e46636853cbc",
   "metadata": {},
   "outputs": [
    {
     "data": {
      "image/png": "[encoded data removed]",
      "text/plain": [
       "<Figure size 432x288 with 1 Axes>"
      ]
     },
     "metadata": {
      "needs_background": "light"
     },
     "output_type": "display_data"
    }
   ],
   "source": [
    "# Observamos cómo quedó la distribución luego de escalar\n",
    "\n",
    "plt.hist(data['Customer_care_calls']) \n",
    "plt.show()"
   ]
  },
  {
   "cell_type": "markdown",
   "id": "f2873ba0-29f3-4554-a9ca-a1e73978a380",
   "metadata": {},
   "source": [
    "C u s t o m e r _ r a t i n g"
   ]
  },
  {
   "cell_type": "code",
   "execution_count": 39,
   "id": "f5bddb88-19b3-4770-9249-61ad1b3b0d32",
   "metadata": {},
   "outputs": [
    {
     "data": {
      "image/png": "[encoded data removed]",
      "text/plain": [
       "<Figure size 432x288 with 1 Axes>"
      ]
     },
     "metadata": {
      "needs_background": "light"
     },
     "output_type": "display_data"
    }
   ],
   "source": [
    "# Trabajaremos con la variable Customer_rating. Veamos su distribución\n",
    "\n",
    "plt.hist(data['Customer_rating']) \n",
    "plt.show()"
   ]
  },
  {
   "cell_type": "code",
   "execution_count": 40,
   "id": "0dd5e1da-798f-46cf-be9a-0d6d2836eaa1",
   "metadata": {},
   "outputs": [],
   "source": [
    "# Escalamos Customer_rating\n",
    "\n",
    "scaler = StandardScaler()\n",
    "\n",
    "scaler.fit(data[['Customer_rating']])\n",
    "\n",
    "data[\"Customer_rating\"] = scaler.transform(data[['Customer_rating']])"
   ]
  },
  {
   "cell_type": "code",
   "execution_count": 41,
   "id": "7a3d86fc-bbdf-4db7-a666-2670d55ecf16",
   "metadata": {},
   "outputs": [
    {
     "data": {
      "image/png": "[encoded data removed]",
      "text/plain": [
       "<Figure size 432x288 with 1 Axes>"
      ]
     },
     "metadata": {
      "needs_background": "light"
     },
     "output_type": "display_data"
    }
   ],
   "source": [
    "# Observamos cómo quedó la distribución luego de escalar\n",
    "\n",
    "plt.hist(data['Customer_rating']) \n",
    "plt.show()"
   ]
  },
  {
   "cell_type": "markdown",
   "id": "7a98501d-6ce0-4c8b-bead-ba07c87eb563",
   "metadata": {},
   "source": [
    "W e i g h t _ i n _ g m s"
   ]
  },
  {
   "cell_type": "code",
   "execution_count": 42,
   "id": "770b3351-115e-42dc-a615-587b12a9f523",
   "metadata": {},
   "outputs": [
    {
     "data": {
      "image/png": "[encoded data removed]",
      "text/plain": [
       "<Figure size 432x288 with 1 Axes>"
      ]
     },
     "metadata": {
      "needs_background": "light"
     },
     "output_type": "display_data"
    }
   ],
   "source": [
    "# Trabajaremos con la variable Weight_in_gms. Veamos su distribución\n",
    "\n",
    "plt.hist(data['Weight_in_gms']) \n",
    "plt.show()"
   ]
  },
  {
   "cell_type": "code",
   "execution_count": 43,
   "id": "826780fc-ab55-4cd1-8c6f-f6d2ebedd27d",
   "metadata": {},
   "outputs": [],
   "source": [
    "# Escalamos Weight_in_gms\n",
    "\n",
    "scaler = StandardScaler()\n",
    "\n",
    "scaler.fit(data[['Weight_in_gms']])\n",
    "\n",
    "data[\"Weight_in_gms\"] = scaler.transform(data[['Weight_in_gms']])"
   ]
  },
  {
   "cell_type": "code",
   "execution_count": 44,
   "id": "ca972e06-7d38-4b9d-85e4-3248460f42dd",
   "metadata": {},
   "outputs": [
    {
     "data": {
      "image/png": "[encoded data removed]",
      "text/plain": [
       "<Figure size 432x288 with 1 Axes>"
      ]
     },
     "metadata": {
      "needs_background": "light"
     },
     "output_type": "display_data"
    }
   ],
   "source": [
    "# Observamos cómo quedó la distribución luego de escalar\n",
    "\n",
    "plt.hist(data['Weight_in_gms']) \n",
    "plt.show()"
   ]
  },
  {
   "cell_type": "markdown",
   "id": "1e38593e-ad8a-4bbd-ac14-4293bf64cd36",
   "metadata": {},
   "source": [
    "#### Codificación de variables categóricas\n",
    "Veamos la aplicación de Label Encoder para alguna variable ordinal de nuestro dataset, One Hot Encoder o crearemos variables dummy para codificar una variable nominal."
   ]
  },
  {
   "cell_type": "markdown",
   "id": "a5e57b3e-8a03-4bbd-b332-5ae872a5c019",
   "metadata": {},
   "source": [
    "Para las variables nominales generaremos variables dummy."
   ]
  },
  {
   "cell_type": "code",
   "execution_count": null,
   "id": "73dcf369-de68-4ae3-9de5-5b3e77d88264",
   "metadata": {},
   "outputs": [],
   "source": [
    "#Columnas con variables nominales\n",
    "Gender,Warehouse_block"
   ]
  },
  {
   "cell_type": "markdown",
   "id": "ae06c05e-2a35-4322-806a-0d0bfbd5eb15",
   "metadata": {},
   "source": [
    "Para las variables nominales,podemos usar la clase Label Encoder"
   ]
  },
  {
   "cell_type": "code",
   "execution_count": null,
   "id": "083a15ea-c6aa-4cfc-a91d-19e72497f5ea",
   "metadata": {},
   "outputs": [],
   "source": [
    "#Columnas con variables ordinales\n",
    "Mode_of_Shipment,Product_importance"
   ]
  },
  {
   "cell_type": "markdown",
   "id": "74dd86fa-b891-4195-9dbc-5b74e6640452",
   "metadata": {},
   "source": [
    "# W a r e h o u s e _ b l o c k"
   ]
  },
  {
   "cell_type": "code",
   "execution_count": 45,
   "id": "923b5797-9e80-4ac4-ad2b-4f3b13ebddb1",
   "metadata": {},
   "outputs": [],
   "source": [
    "# Trabajaremos con la variable Warehouse_block generando variables dummy\n",
    "Warehouse_block_dummy=pd.get_dummies(data[\"Warehouse_block\"],prefix=\"Warehouse_block\")"
   ]
  },
  {
   "cell_type": "code",
   "execution_count": 46,
   "id": "4d589d67-2864-4e86-9ee5-52656114a39d",
   "metadata": {},
   "outputs": [],
   "source": [
    "data=pd.concat([data,Warehouse_block_dummy],axis=1)"
   ]
  },
  {
   "cell_type": "code",
   "execution_count": 47,
   "id": "893d2ec5-4472-4b0a-a15f-623a7af079d9",
   "metadata": {},
   "outputs": [],
   "source": [
    "data.drop(columns=\"Warehouse_block\",inplace=True)"
   ]
  },
  {
   "cell_type": "code",
   "execution_count": 48,
   "id": "f9c6391f-1bad-4527-ab53-9bb2f58331e5",
   "metadata": {},
   "outputs": [
    {
     "data": {
      "text/html": [
       "<div>\n",
       "<style scoped>\n",
       "    .dataframe tbody tr th:only-of-type {\n",
       "        vertical-align: middle;\n",
       "    }\n",
       "\n",
       "    .dataframe tbody tr th {\n",
       "        vertical-align: top;\n",
       "    }\n",
       "\n",
       "    .dataframe thead th {\n",
       "        text-align: right;\n",
       "    }\n",
       "</style>\n",
       "<table border=\"1\" class=\"dataframe\">\n",
       "  <thead>\n",
       "    <tr style=\"text-align: right;\">\n",
       "      <th></th>\n",
       "      <th>ID</th>\n",
       "      <th>Mode_of_Shipment</th>\n",
       "      <th>Customer_care_calls</th>\n",
       "      <th>Customer_rating</th>\n",
       "      <th>Cost_of_the_Product</th>\n",
       "      <th>Prior_purchases</th>\n",
       "      <th>Product_importance</th>\n",
       "      <th>Gender</th>\n",
       "      <th>Discount_offered</th>\n",
       "      <th>Weight_in_gms</th>\n",
       "      <th>Reached.on.Time_Y.N</th>\n",
       "      <th>Warehouse_block_A</th>\n",
       "      <th>Warehouse_block_B</th>\n",
       "      <th>Warehouse_block_C</th>\n",
       "      <th>Warehouse_block_D</th>\n",
       "      <th>Warehouse_block_F</th>\n",
       "    </tr>\n",
       "  </thead>\n",
       "  <tbody>\n",
       "    <tr>\n",
       "      <th>3</th>\n",
       "      <td>4</td>\n",
       "      <td>Flight</td>\n",
       "      <td>-0.937701</td>\n",
       "      <td>-0.000574</td>\n",
       "      <td>-0.755493</td>\n",
       "      <td>0.811368</td>\n",
       "      <td>medium</td>\n",
       "      <td>M</td>\n",
       "      <td>1.055817</td>\n",
       "      <td>-1.744383</td>\n",
       "      <td>1</td>\n",
       "      <td>0</td>\n",
       "      <td>1</td>\n",
       "      <td>0</td>\n",
       "      <td>0</td>\n",
       "      <td>0</td>\n",
       "    </tr>\n",
       "    <tr>\n",
       "      <th>5</th>\n",
       "      <td>6</td>\n",
       "      <td>Flight</td>\n",
       "      <td>-0.937701</td>\n",
       "      <td>-1.418293</td>\n",
       "      <td>-1.043894</td>\n",
       "      <td>-0.228692</td>\n",
       "      <td>medium</td>\n",
       "      <td>F</td>\n",
       "      <td>1.594520</td>\n",
       "      <td>-1.594343</td>\n",
       "      <td>1</td>\n",
       "      <td>0</td>\n",
       "      <td>0</td>\n",
       "      <td>0</td>\n",
       "      <td>0</td>\n",
       "      <td>1</td>\n",
       "    </tr>\n",
       "    <tr>\n",
       "      <th>6</th>\n",
       "      <td>7</td>\n",
       "      <td>Flight</td>\n",
       "      <td>-0.937701</td>\n",
       "      <td>0.708286</td>\n",
       "      <td>0.768909</td>\n",
       "      <td>-0.228692</td>\n",
       "      <td>low</td>\n",
       "      <td>F</td>\n",
       "      <td>-0.829642</td>\n",
       "      <td>-0.997933</td>\n",
       "      <td>1</td>\n",
       "      <td>0</td>\n",
       "      <td>0</td>\n",
       "      <td>0</td>\n",
       "      <td>1</td>\n",
       "      <td>0</td>\n",
       "    </tr>\n",
       "    <tr>\n",
       "      <th>8</th>\n",
       "      <td>9</td>\n",
       "      <td>Flight</td>\n",
       "      <td>-0.937701</td>\n",
       "      <td>0.708286</td>\n",
       "      <td>-1.291094</td>\n",
       "      <td>-0.228692</td>\n",
       "      <td>low</td>\n",
       "      <td>F</td>\n",
       "      <td>1.325168</td>\n",
       "      <td>-1.316768</td>\n",
       "      <td>1</td>\n",
       "      <td>1</td>\n",
       "      <td>0</td>\n",
       "      <td>0</td>\n",
       "      <td>0</td>\n",
       "      <td>0</td>\n",
       "    </tr>\n",
       "    <tr>\n",
       "      <th>10</th>\n",
       "      <td>11</td>\n",
       "      <td>Flight</td>\n",
       "      <td>-0.937701</td>\n",
       "      <td>0.708286</td>\n",
       "      <td>-0.487693</td>\n",
       "      <td>-1.268752</td>\n",
       "      <td>medium</td>\n",
       "      <td>M</td>\n",
       "      <td>1.594520</td>\n",
       "      <td>-0.674721</td>\n",
       "      <td>1</td>\n",
       "      <td>0</td>\n",
       "      <td>0</td>\n",
       "      <td>1</td>\n",
       "      <td>0</td>\n",
       "      <td>0</td>\n",
       "    </tr>\n",
       "    <tr>\n",
       "      <th>...</th>\n",
       "      <td>...</td>\n",
       "      <td>...</td>\n",
       "      <td>...</td>\n",
       "      <td>...</td>\n",
       "      <td>...</td>\n",
       "      <td>...</td>\n",
       "      <td>...</td>\n",
       "      <td>...</td>\n",
       "      <td>...</td>\n",
       "      <td>...</td>\n",
       "      <td>...</td>\n",
       "      <td>...</td>\n",
       "      <td>...</td>\n",
       "      <td>...</td>\n",
       "      <td>...</td>\n",
       "      <td>...</td>\n",
       "    </tr>\n",
       "    <tr>\n",
       "      <th>8994</th>\n",
       "      <td>8995</td>\n",
       "      <td>Ship</td>\n",
       "      <td>-0.937701</td>\n",
       "      <td>-1.418293</td>\n",
       "      <td>0.089108</td>\n",
       "      <td>-0.228692</td>\n",
       "      <td>low</td>\n",
       "      <td>F</td>\n",
       "      <td>-1.368345</td>\n",
       "      <td>0.131119</td>\n",
       "      <td>1</td>\n",
       "      <td>0</td>\n",
       "      <td>0</td>\n",
       "      <td>0</td>\n",
       "      <td>1</td>\n",
       "      <td>0</td>\n",
       "    </tr>\n",
       "    <tr>\n",
       "      <th>8995</th>\n",
       "      <td>8996</td>\n",
       "      <td>Ship</td>\n",
       "      <td>0.754902</td>\n",
       "      <td>-0.000574</td>\n",
       "      <td>0.398108</td>\n",
       "      <td>-0.228692</td>\n",
       "      <td>medium</td>\n",
       "      <td>M</td>\n",
       "      <td>-0.829642</td>\n",
       "      <td>0.349303</td>\n",
       "      <td>0</td>\n",
       "      <td>0</td>\n",
       "      <td>0</td>\n",
       "      <td>0</td>\n",
       "      <td>0</td>\n",
       "      <td>1</td>\n",
       "    </tr>\n",
       "    <tr>\n",
       "      <th>8996</th>\n",
       "      <td>8997</td>\n",
       "      <td>Ship</td>\n",
       "      <td>-0.091400</td>\n",
       "      <td>1.417145</td>\n",
       "      <td>0.974909</td>\n",
       "      <td>-0.228692</td>\n",
       "      <td>medium</td>\n",
       "      <td>F</td>\n",
       "      <td>-0.021588</td>\n",
       "      <td>0.158627</td>\n",
       "      <td>0</td>\n",
       "      <td>1</td>\n",
       "      <td>0</td>\n",
       "      <td>0</td>\n",
       "      <td>0</td>\n",
       "      <td>0</td>\n",
       "    </tr>\n",
       "    <tr>\n",
       "      <th>8997</th>\n",
       "      <td>8998</td>\n",
       "      <td>Ship</td>\n",
       "      <td>-0.091400</td>\n",
       "      <td>-0.709433</td>\n",
       "      <td>-0.590693</td>\n",
       "      <td>-0.228692</td>\n",
       "      <td>medium</td>\n",
       "      <td>F</td>\n",
       "      <td>-0.290940</td>\n",
       "      <td>1.227663</td>\n",
       "      <td>1</td>\n",
       "      <td>0</td>\n",
       "      <td>1</td>\n",
       "      <td>0</td>\n",
       "      <td>0</td>\n",
       "      <td>0</td>\n",
       "    </tr>\n",
       "    <tr>\n",
       "      <th>8998</th>\n",
       "      <td>8999</td>\n",
       "      <td>Ship</td>\n",
       "      <td>0.754902</td>\n",
       "      <td>0.708286</td>\n",
       "      <td>-1.394094</td>\n",
       "      <td>0.811368</td>\n",
       "      <td>low</td>\n",
       "      <td>M</td>\n",
       "      <td>-0.560291</td>\n",
       "      <td>0.514347</td>\n",
       "      <td>0</td>\n",
       "      <td>0</td>\n",
       "      <td>0</td>\n",
       "      <td>1</td>\n",
       "      <td>0</td>\n",
       "      <td>0</td>\n",
       "    </tr>\n",
       "  </tbody>\n",
       "</table>\n",
       "<p>6176 rows × 16 columns</p>\n",
       "</div>"
      ],
      "text/plain": [
       "        ID Mode_of_Shipment  Customer_care_calls  Customer_rating  \\\n",
       "3        4           Flight            -0.937701        -0.000574   \n",
       "5        6           Flight            -0.937701        -1.418293   \n",
       "6        7           Flight            -0.937701         0.708286   \n",
       "8        9           Flight            -0.937701         0.708286   \n",
       "10      11           Flight            -0.937701         0.708286   \n",
       "...    ...              ...                  ...              ...   \n",
       "8994  8995             Ship            -0.937701        -1.418293   \n",
       "8995  8996             Ship             0.754902        -0.000574   \n",
       "8996  8997             Ship            -0.091400         1.417145   \n",
       "8997  8998             Ship            -0.091400        -0.709433   \n",
       "8998  8999             Ship             0.754902         0.708286   \n",
       "\n",
       "      Cost_of_the_Product  Prior_purchases Product_importance Gender  \\\n",
       "3               -0.755493         0.811368             medium      M   \n",
       "5               -1.043894        -0.228692             medium      F   \n",
       "6                0.768909        -0.228692                low      F   \n",
       "8               -1.291094        -0.228692                low      F   \n",
       "10              -0.487693        -1.268752             medium      M   \n",
       "...                   ...              ...                ...    ...   \n",
       "8994             0.089108        -0.228692                low      F   \n",
       "8995             0.398108        -0.228692             medium      M   \n",
       "8996             0.974909        -0.228692             medium      F   \n",
       "8997            -0.590693        -0.228692             medium      F   \n",
       "8998            -1.394094         0.811368                low      M   \n",
       "\n",
       "      Discount_offered  Weight_in_gms  Reached.on.Time_Y.N  Warehouse_block_A  \\\n",
       "3             1.055817      -1.744383                    1                  0   \n",
       "5             1.594520      -1.594343                    1                  0   \n",
       "6            -0.829642      -0.997933                    1                  0   \n",
       "8             1.325168      -1.316768                    1                  1   \n",
       "10            1.594520      -0.674721                    1                  0   \n",
       "...                ...            ...                  ...                ...   \n",
       "8994         -1.368345       0.131119                    1                  0   \n",
       "8995         -0.829642       0.349303                    0                  0   \n",
       "8996         -0.021588       0.158627                    0                  1   \n",
       "8997         -0.290940       1.227663                    1                  0   \n",
       "8998         -0.560291       0.514347                    0                  0   \n",
       "\n",
       "      Warehouse_block_B  Warehouse_block_C  Warehouse_block_D  \\\n",
       "3                     1                  0                  0   \n",
       "5                     0                  0                  0   \n",
       "6                     0                  0                  1   \n",
       "8                     0                  0                  0   \n",
       "10                    0                  1                  0   \n",
       "...                 ...                ...                ...   \n",
       "8994                  0                  0                  1   \n",
       "8995                  0                  0                  0   \n",
       "8996                  0                  0                  0   \n",
       "8997                  1                  0                  0   \n",
       "8998                  0                  1                  0   \n",
       "\n",
       "      Warehouse_block_F  \n",
       "3                     0  \n",
       "5                     1  \n",
       "6                     0  \n",
       "8                     0  \n",
       "10                    0  \n",
       "...                 ...  \n",
       "8994                  0  \n",
       "8995                  1  \n",
       "8996                  0  \n",
       "8997                  0  \n",
       "8998                  0  \n",
       "\n",
       "[6176 rows x 16 columns]"
      ]
     },
     "execution_count": 48,
     "metadata": {},
     "output_type": "execute_result"
    }
   ],
   "source": [
    "data"
   ]
  },
  {
   "cell_type": "markdown",
   "id": "4045cea3-352b-4f7d-bc64-48c36937a967",
   "metadata": {},
   "source": [
    "# G e n d e r"
   ]
  },
  {
   "cell_type": "code",
   "execution_count": 49,
   "id": "82293907-3cbc-474c-89d2-37cfb4b433b6",
   "metadata": {},
   "outputs": [],
   "source": [
    "# Trabajaremos con la variable Gender generando variables dummy\n",
    "gender_dummy=pd.get_dummies(data[\"Gender\"],prefix=\"Gender\")"
   ]
  },
  {
   "cell_type": "code",
   "execution_count": 50,
   "id": "4ee4a154-40dd-4ee6-928d-18b531b76be7",
   "metadata": {},
   "outputs": [],
   "source": [
    "data=pd.concat([data,gender_dummy],axis=1)"
   ]
  },
  {
   "cell_type": "code",
   "execution_count": 51,
   "id": "8cf4a8f0-97a4-4419-a9dd-1d727b5fe110",
   "metadata": {},
   "outputs": [],
   "source": [
    "data.drop(columns=\"Gender\",inplace=True)"
   ]
  },
  {
   "cell_type": "code",
   "execution_count": 52,
   "id": "595409e6-fe06-4e6e-ae73-3ac7ccad148b",
   "metadata": {},
   "outputs": [
    {
     "data": {
      "text/html": [
       "<div>\n",
       "<style scoped>\n",
       "    .dataframe tbody tr th:only-of-type {\n",
       "        vertical-align: middle;\n",
       "    }\n",
       "\n",
       "    .dataframe tbody tr th {\n",
       "        vertical-align: top;\n",
       "    }\n",
       "\n",
       "    .dataframe thead th {\n",
       "        text-align: right;\n",
       "    }\n",
       "</style>\n",
       "<table border=\"1\" class=\"dataframe\">\n",
       "  <thead>\n",
       "    <tr style=\"text-align: right;\">\n",
       "      <th></th>\n",
       "      <th>ID</th>\n",
       "      <th>Mode_of_Shipment</th>\n",
       "      <th>Customer_care_calls</th>\n",
       "      <th>Customer_rating</th>\n",
       "      <th>Cost_of_the_Product</th>\n",
       "      <th>Prior_purchases</th>\n",
       "      <th>Product_importance</th>\n",
       "      <th>Discount_offered</th>\n",
       "      <th>Weight_in_gms</th>\n",
       "      <th>Reached.on.Time_Y.N</th>\n",
       "      <th>Warehouse_block_A</th>\n",
       "      <th>Warehouse_block_B</th>\n",
       "      <th>Warehouse_block_C</th>\n",
       "      <th>Warehouse_block_D</th>\n",
       "      <th>Warehouse_block_F</th>\n",
       "      <th>Gender_F</th>\n",
       "      <th>Gender_M</th>\n",
       "    </tr>\n",
       "  </thead>\n",
       "  <tbody>\n",
       "    <tr>\n",
       "      <th>3</th>\n",
       "      <td>4</td>\n",
       "      <td>Flight</td>\n",
       "      <td>-0.937701</td>\n",
       "      <td>-0.000574</td>\n",
       "      <td>-0.755493</td>\n",
       "      <td>0.811368</td>\n",
       "      <td>medium</td>\n",
       "      <td>1.055817</td>\n",
       "      <td>-1.744383</td>\n",
       "      <td>1</td>\n",
       "      <td>0</td>\n",
       "      <td>1</td>\n",
       "      <td>0</td>\n",
       "      <td>0</td>\n",
       "      <td>0</td>\n",
       "      <td>0</td>\n",
       "      <td>1</td>\n",
       "    </tr>\n",
       "    <tr>\n",
       "      <th>5</th>\n",
       "      <td>6</td>\n",
       "      <td>Flight</td>\n",
       "      <td>-0.937701</td>\n",
       "      <td>-1.418293</td>\n",
       "      <td>-1.043894</td>\n",
       "      <td>-0.228692</td>\n",
       "      <td>medium</td>\n",
       "      <td>1.594520</td>\n",
       "      <td>-1.594343</td>\n",
       "      <td>1</td>\n",
       "      <td>0</td>\n",
       "      <td>0</td>\n",
       "      <td>0</td>\n",
       "      <td>0</td>\n",
       "      <td>1</td>\n",
       "      <td>1</td>\n",
       "      <td>0</td>\n",
       "    </tr>\n",
       "    <tr>\n",
       "      <th>6</th>\n",
       "      <td>7</td>\n",
       "      <td>Flight</td>\n",
       "      <td>-0.937701</td>\n",
       "      <td>0.708286</td>\n",
       "      <td>0.768909</td>\n",
       "      <td>-0.228692</td>\n",
       "      <td>low</td>\n",
       "      <td>-0.829642</td>\n",
       "      <td>-0.997933</td>\n",
       "      <td>1</td>\n",
       "      <td>0</td>\n",
       "      <td>0</td>\n",
       "      <td>0</td>\n",
       "      <td>1</td>\n",
       "      <td>0</td>\n",
       "      <td>1</td>\n",
       "      <td>0</td>\n",
       "    </tr>\n",
       "    <tr>\n",
       "      <th>8</th>\n",
       "      <td>9</td>\n",
       "      <td>Flight</td>\n",
       "      <td>-0.937701</td>\n",
       "      <td>0.708286</td>\n",
       "      <td>-1.291094</td>\n",
       "      <td>-0.228692</td>\n",
       "      <td>low</td>\n",
       "      <td>1.325168</td>\n",
       "      <td>-1.316768</td>\n",
       "      <td>1</td>\n",
       "      <td>1</td>\n",
       "      <td>0</td>\n",
       "      <td>0</td>\n",
       "      <td>0</td>\n",
       "      <td>0</td>\n",
       "      <td>1</td>\n",
       "      <td>0</td>\n",
       "    </tr>\n",
       "    <tr>\n",
       "      <th>10</th>\n",
       "      <td>11</td>\n",
       "      <td>Flight</td>\n",
       "      <td>-0.937701</td>\n",
       "      <td>0.708286</td>\n",
       "      <td>-0.487693</td>\n",
       "      <td>-1.268752</td>\n",
       "      <td>medium</td>\n",
       "      <td>1.594520</td>\n",
       "      <td>-0.674721</td>\n",
       "      <td>1</td>\n",
       "      <td>0</td>\n",
       "      <td>0</td>\n",
       "      <td>1</td>\n",
       "      <td>0</td>\n",
       "      <td>0</td>\n",
       "      <td>0</td>\n",
       "      <td>1</td>\n",
       "    </tr>\n",
       "    <tr>\n",
       "      <th>...</th>\n",
       "      <td>...</td>\n",
       "      <td>...</td>\n",
       "      <td>...</td>\n",
       "      <td>...</td>\n",
       "      <td>...</td>\n",
       "      <td>...</td>\n",
       "      <td>...</td>\n",
       "      <td>...</td>\n",
       "      <td>...</td>\n",
       "      <td>...</td>\n",
       "      <td>...</td>\n",
       "      <td>...</td>\n",
       "      <td>...</td>\n",
       "      <td>...</td>\n",
       "      <td>...</td>\n",
       "      <td>...</td>\n",
       "      <td>...</td>\n",
       "    </tr>\n",
       "    <tr>\n",
       "      <th>8994</th>\n",
       "      <td>8995</td>\n",
       "      <td>Ship</td>\n",
       "      <td>-0.937701</td>\n",
       "      <td>-1.418293</td>\n",
       "      <td>0.089108</td>\n",
       "      <td>-0.228692</td>\n",
       "      <td>low</td>\n",
       "      <td>-1.368345</td>\n",
       "      <td>0.131119</td>\n",
       "      <td>1</td>\n",
       "      <td>0</td>\n",
       "      <td>0</td>\n",
       "      <td>0</td>\n",
       "      <td>1</td>\n",
       "      <td>0</td>\n",
       "      <td>1</td>\n",
       "      <td>0</td>\n",
       "    </tr>\n",
       "    <tr>\n",
       "      <th>8995</th>\n",
       "      <td>8996</td>\n",
       "      <td>Ship</td>\n",
       "      <td>0.754902</td>\n",
       "      <td>-0.000574</td>\n",
       "      <td>0.398108</td>\n",
       "      <td>-0.228692</td>\n",
       "      <td>medium</td>\n",
       "      <td>-0.829642</td>\n",
       "      <td>0.349303</td>\n",
       "      <td>0</td>\n",
       "      <td>0</td>\n",
       "      <td>0</td>\n",
       "      <td>0</td>\n",
       "      <td>0</td>\n",
       "      <td>1</td>\n",
       "      <td>0</td>\n",
       "      <td>1</td>\n",
       "    </tr>\n",
       "    <tr>\n",
       "      <th>8996</th>\n",
       "      <td>8997</td>\n",
       "      <td>Ship</td>\n",
       "      <td>-0.091400</td>\n",
       "      <td>1.417145</td>\n",
       "      <td>0.974909</td>\n",
       "      <td>-0.228692</td>\n",
       "      <td>medium</td>\n",
       "      <td>-0.021588</td>\n",
       "      <td>0.158627</td>\n",
       "      <td>0</td>\n",
       "      <td>1</td>\n",
       "      <td>0</td>\n",
       "      <td>0</td>\n",
       "      <td>0</td>\n",
       "      <td>0</td>\n",
       "      <td>1</td>\n",
       "      <td>0</td>\n",
       "    </tr>\n",
       "    <tr>\n",
       "      <th>8997</th>\n",
       "      <td>8998</td>\n",
       "      <td>Ship</td>\n",
       "      <td>-0.091400</td>\n",
       "      <td>-0.709433</td>\n",
       "      <td>-0.590693</td>\n",
       "      <td>-0.228692</td>\n",
       "      <td>medium</td>\n",
       "      <td>-0.290940</td>\n",
       "      <td>1.227663</td>\n",
       "      <td>1</td>\n",
       "      <td>0</td>\n",
       "      <td>1</td>\n",
       "      <td>0</td>\n",
       "      <td>0</td>\n",
       "      <td>0</td>\n",
       "      <td>1</td>\n",
       "      <td>0</td>\n",
       "    </tr>\n",
       "    <tr>\n",
       "      <th>8998</th>\n",
       "      <td>8999</td>\n",
       "      <td>Ship</td>\n",
       "      <td>0.754902</td>\n",
       "      <td>0.708286</td>\n",
       "      <td>-1.394094</td>\n",
       "      <td>0.811368</td>\n",
       "      <td>low</td>\n",
       "      <td>-0.560291</td>\n",
       "      <td>0.514347</td>\n",
       "      <td>0</td>\n",
       "      <td>0</td>\n",
       "      <td>0</td>\n",
       "      <td>1</td>\n",
       "      <td>0</td>\n",
       "      <td>0</td>\n",
       "      <td>0</td>\n",
       "      <td>1</td>\n",
       "    </tr>\n",
       "  </tbody>\n",
       "</table>\n",
       "<p>6176 rows × 17 columns</p>\n",
       "</div>"
      ],
      "text/plain": [
       "        ID Mode_of_Shipment  Customer_care_calls  Customer_rating  \\\n",
       "3        4           Flight            -0.937701        -0.000574   \n",
       "5        6           Flight            -0.937701        -1.418293   \n",
       "6        7           Flight            -0.937701         0.708286   \n",
       "8        9           Flight            -0.937701         0.708286   \n",
       "10      11           Flight            -0.937701         0.708286   \n",
       "...    ...              ...                  ...              ...   \n",
       "8994  8995             Ship            -0.937701        -1.418293   \n",
       "8995  8996             Ship             0.754902        -0.000574   \n",
       "8996  8997             Ship            -0.091400         1.417145   \n",
       "8997  8998             Ship            -0.091400        -0.709433   \n",
       "8998  8999             Ship             0.754902         0.708286   \n",
       "\n",
       "      Cost_of_the_Product  Prior_purchases Product_importance  \\\n",
       "3               -0.755493         0.811368             medium   \n",
       "5               -1.043894        -0.228692             medium   \n",
       "6                0.768909        -0.228692                low   \n",
       "8               -1.291094        -0.228692                low   \n",
       "10              -0.487693        -1.268752             medium   \n",
       "...                   ...              ...                ...   \n",
       "8994             0.089108        -0.228692                low   \n",
       "8995             0.398108        -0.228692             medium   \n",
       "8996             0.974909        -0.228692             medium   \n",
       "8997            -0.590693        -0.228692             medium   \n",
       "8998            -1.394094         0.811368                low   \n",
       "\n",
       "      Discount_offered  Weight_in_gms  Reached.on.Time_Y.N  Warehouse_block_A  \\\n",
       "3             1.055817      -1.744383                    1                  0   \n",
       "5             1.594520      -1.594343                    1                  0   \n",
       "6            -0.829642      -0.997933                    1                  0   \n",
       "8             1.325168      -1.316768                    1                  1   \n",
       "10            1.594520      -0.674721                    1                  0   \n",
       "...                ...            ...                  ...                ...   \n",
       "8994         -1.368345       0.131119                    1                  0   \n",
       "8995         -0.829642       0.349303                    0                  0   \n",
       "8996         -0.021588       0.158627                    0                  1   \n",
       "8997         -0.290940       1.227663                    1                  0   \n",
       "8998         -0.560291       0.514347                    0                  0   \n",
       "\n",
       "      Warehouse_block_B  Warehouse_block_C  Warehouse_block_D  \\\n",
       "3                     1                  0                  0   \n",
       "5                     0                  0                  0   \n",
       "6                     0                  0                  1   \n",
       "8                     0                  0                  0   \n",
       "10                    0                  1                  0   \n",
       "...                 ...                ...                ...   \n",
       "8994                  0                  0                  1   \n",
       "8995                  0                  0                  0   \n",
       "8996                  0                  0                  0   \n",
       "8997                  1                  0                  0   \n",
       "8998                  0                  1                  0   \n",
       "\n",
       "      Warehouse_block_F  Gender_F  Gender_M  \n",
       "3                     0         0         1  \n",
       "5                     1         1         0  \n",
       "6                     0         1         0  \n",
       "8                     0         1         0  \n",
       "10                    0         0         1  \n",
       "...                 ...       ...       ...  \n",
       "8994                  0         1         0  \n",
       "8995                  1         0         1  \n",
       "8996                  0         1         0  \n",
       "8997                  0         1         0  \n",
       "8998                  0         0         1  \n",
       "\n",
       "[6176 rows x 17 columns]"
      ]
     },
     "execution_count": 52,
     "metadata": {},
     "output_type": "execute_result"
    }
   ],
   "source": [
    "data"
   ]
  },
  {
   "cell_type": "markdown",
   "id": "c00a9d51-a4eb-43e0-b734-ebb36478ee17",
   "metadata": {},
   "source": [
    "# P r o d u c t _ i m p o r t a n c e"
   ]
  },
  {
   "cell_type": "code",
   "execution_count": 53,
   "id": "4345dd04",
   "metadata": {},
   "outputs": [],
   "source": [
    "# Trabajaremos con la variable Product_importance generando variables dummy\n",
    "Product_importance_dummy=pd.get_dummies(data[\"Product_importance\"],prefix=\"Product_importance\")"
   ]
  },
  {
   "cell_type": "code",
   "execution_count": 54,
   "id": "f98a14b0",
   "metadata": {},
   "outputs": [],
   "source": [
    "data=pd.concat([data,Product_importance_dummy],axis=1)"
   ]
  },
  {
   "cell_type": "code",
   "execution_count": 55,
   "id": "5c76f45f",
   "metadata": {},
   "outputs": [],
   "source": [
    "data.drop(columns=\"Product_importance\",inplace=True)"
   ]
  },
  {
   "cell_type": "code",
   "execution_count": 62,
   "id": "5c9da087",
   "metadata": {},
   "outputs": [
    {
     "data": {
      "text/html": [
       "<div>\n",
       "<style scoped>\n",
       "    .dataframe tbody tr th:only-of-type {\n",
       "        vertical-align: middle;\n",
       "    }\n",
       "\n",
       "    .dataframe tbody tr th {\n",
       "        vertical-align: top;\n",
       "    }\n",
       "\n",
       "    .dataframe thead th {\n",
       "        text-align: right;\n",
       "    }\n",
       "</style>\n",
       "<table border=\"1\" class=\"dataframe\">\n",
       "  <thead>\n",
       "    <tr style=\"text-align: right;\">\n",
       "      <th></th>\n",
       "      <th>ID</th>\n",
       "      <th>Customer_care_calls</th>\n",
       "      <th>Customer_rating</th>\n",
       "      <th>Cost_of_the_Product</th>\n",
       "      <th>Prior_purchases</th>\n",
       "      <th>Discount_offered</th>\n",
       "      <th>Weight_in_gms</th>\n",
       "      <th>Reached.on.Time_Y.N</th>\n",
       "      <th>Warehouse_block_A</th>\n",
       "      <th>Warehouse_block_B</th>\n",
       "      <th>...</th>\n",
       "      <th>Warehouse_block_D</th>\n",
       "      <th>Warehouse_block_F</th>\n",
       "      <th>Gender_F</th>\n",
       "      <th>Gender_M</th>\n",
       "      <th>Product_importance_high</th>\n",
       "      <th>Product_importance_low</th>\n",
       "      <th>Product_importance_medium</th>\n",
       "      <th>Mode_of_Shipment_Flight</th>\n",
       "      <th>Mode_of_Shipment_Road</th>\n",
       "      <th>Mode_of_Shipment_Ship</th>\n",
       "    </tr>\n",
       "  </thead>\n",
       "  <tbody>\n",
       "    <tr>\n",
       "      <th>3</th>\n",
       "      <td>4</td>\n",
       "      <td>-0.937701</td>\n",
       "      <td>-0.000574</td>\n",
       "      <td>-0.755493</td>\n",
       "      <td>0.811368</td>\n",
       "      <td>1.055817</td>\n",
       "      <td>-1.744383</td>\n",
       "      <td>1</td>\n",
       "      <td>0</td>\n",
       "      <td>1</td>\n",
       "      <td>...</td>\n",
       "      <td>0</td>\n",
       "      <td>0</td>\n",
       "      <td>0</td>\n",
       "      <td>1</td>\n",
       "      <td>0</td>\n",
       "      <td>0</td>\n",
       "      <td>1</td>\n",
       "      <td>1</td>\n",
       "      <td>0</td>\n",
       "      <td>0</td>\n",
       "    </tr>\n",
       "    <tr>\n",
       "      <th>5</th>\n",
       "      <td>6</td>\n",
       "      <td>-0.937701</td>\n",
       "      <td>-1.418293</td>\n",
       "      <td>-1.043894</td>\n",
       "      <td>-0.228692</td>\n",
       "      <td>1.594520</td>\n",
       "      <td>-1.594343</td>\n",
       "      <td>1</td>\n",
       "      <td>0</td>\n",
       "      <td>0</td>\n",
       "      <td>...</td>\n",
       "      <td>0</td>\n",
       "      <td>1</td>\n",
       "      <td>1</td>\n",
       "      <td>0</td>\n",
       "      <td>0</td>\n",
       "      <td>0</td>\n",
       "      <td>1</td>\n",
       "      <td>1</td>\n",
       "      <td>0</td>\n",
       "      <td>0</td>\n",
       "    </tr>\n",
       "    <tr>\n",
       "      <th>6</th>\n",
       "      <td>7</td>\n",
       "      <td>-0.937701</td>\n",
       "      <td>0.708286</td>\n",
       "      <td>0.768909</td>\n",
       "      <td>-0.228692</td>\n",
       "      <td>-0.829642</td>\n",
       "      <td>-0.997933</td>\n",
       "      <td>1</td>\n",
       "      <td>0</td>\n",
       "      <td>0</td>\n",
       "      <td>...</td>\n",
       "      <td>1</td>\n",
       "      <td>0</td>\n",
       "      <td>1</td>\n",
       "      <td>0</td>\n",
       "      <td>0</td>\n",
       "      <td>1</td>\n",
       "      <td>0</td>\n",
       "      <td>1</td>\n",
       "      <td>0</td>\n",
       "      <td>0</td>\n",
       "    </tr>\n",
       "    <tr>\n",
       "      <th>8</th>\n",
       "      <td>9</td>\n",
       "      <td>-0.937701</td>\n",
       "      <td>0.708286</td>\n",
       "      <td>-1.291094</td>\n",
       "      <td>-0.228692</td>\n",
       "      <td>1.325168</td>\n",
       "      <td>-1.316768</td>\n",
       "      <td>1</td>\n",
       "      <td>1</td>\n",
       "      <td>0</td>\n",
       "      <td>...</td>\n",
       "      <td>0</td>\n",
       "      <td>0</td>\n",
       "      <td>1</td>\n",
       "      <td>0</td>\n",
       "      <td>0</td>\n",
       "      <td>1</td>\n",
       "      <td>0</td>\n",
       "      <td>1</td>\n",
       "      <td>0</td>\n",
       "      <td>0</td>\n",
       "    </tr>\n",
       "    <tr>\n",
       "      <th>10</th>\n",
       "      <td>11</td>\n",
       "      <td>-0.937701</td>\n",
       "      <td>0.708286</td>\n",
       "      <td>-0.487693</td>\n",
       "      <td>-1.268752</td>\n",
       "      <td>1.594520</td>\n",
       "      <td>-0.674721</td>\n",
       "      <td>1</td>\n",
       "      <td>0</td>\n",
       "      <td>0</td>\n",
       "      <td>...</td>\n",
       "      <td>0</td>\n",
       "      <td>0</td>\n",
       "      <td>0</td>\n",
       "      <td>1</td>\n",
       "      <td>0</td>\n",
       "      <td>0</td>\n",
       "      <td>1</td>\n",
       "      <td>1</td>\n",
       "      <td>0</td>\n",
       "      <td>0</td>\n",
       "    </tr>\n",
       "    <tr>\n",
       "      <th>...</th>\n",
       "      <td>...</td>\n",
       "      <td>...</td>\n",
       "      <td>...</td>\n",
       "      <td>...</td>\n",
       "      <td>...</td>\n",
       "      <td>...</td>\n",
       "      <td>...</td>\n",
       "      <td>...</td>\n",
       "      <td>...</td>\n",
       "      <td>...</td>\n",
       "      <td>...</td>\n",
       "      <td>...</td>\n",
       "      <td>...</td>\n",
       "      <td>...</td>\n",
       "      <td>...</td>\n",
       "      <td>...</td>\n",
       "      <td>...</td>\n",
       "      <td>...</td>\n",
       "      <td>...</td>\n",
       "      <td>...</td>\n",
       "      <td>...</td>\n",
       "    </tr>\n",
       "    <tr>\n",
       "      <th>8994</th>\n",
       "      <td>8995</td>\n",
       "      <td>-0.937701</td>\n",
       "      <td>-1.418293</td>\n",
       "      <td>0.089108</td>\n",
       "      <td>-0.228692</td>\n",
       "      <td>-1.368345</td>\n",
       "      <td>0.131119</td>\n",
       "      <td>1</td>\n",
       "      <td>0</td>\n",
       "      <td>0</td>\n",
       "      <td>...</td>\n",
       "      <td>1</td>\n",
       "      <td>0</td>\n",
       "      <td>1</td>\n",
       "      <td>0</td>\n",
       "      <td>0</td>\n",
       "      <td>1</td>\n",
       "      <td>0</td>\n",
       "      <td>0</td>\n",
       "      <td>0</td>\n",
       "      <td>1</td>\n",
       "    </tr>\n",
       "    <tr>\n",
       "      <th>8995</th>\n",
       "      <td>8996</td>\n",
       "      <td>0.754902</td>\n",
       "      <td>-0.000574</td>\n",
       "      <td>0.398108</td>\n",
       "      <td>-0.228692</td>\n",
       "      <td>-0.829642</td>\n",
       "      <td>0.349303</td>\n",
       "      <td>0</td>\n",
       "      <td>0</td>\n",
       "      <td>0</td>\n",
       "      <td>...</td>\n",
       "      <td>0</td>\n",
       "      <td>1</td>\n",
       "      <td>0</td>\n",
       "      <td>1</td>\n",
       "      <td>0</td>\n",
       "      <td>0</td>\n",
       "      <td>1</td>\n",
       "      <td>0</td>\n",
       "      <td>0</td>\n",
       "      <td>1</td>\n",
       "    </tr>\n",
       "    <tr>\n",
       "      <th>8996</th>\n",
       "      <td>8997</td>\n",
       "      <td>-0.091400</td>\n",
       "      <td>1.417145</td>\n",
       "      <td>0.974909</td>\n",
       "      <td>-0.228692</td>\n",
       "      <td>-0.021588</td>\n",
       "      <td>0.158627</td>\n",
       "      <td>0</td>\n",
       "      <td>1</td>\n",
       "      <td>0</td>\n",
       "      <td>...</td>\n",
       "      <td>0</td>\n",
       "      <td>0</td>\n",
       "      <td>1</td>\n",
       "      <td>0</td>\n",
       "      <td>0</td>\n",
       "      <td>0</td>\n",
       "      <td>1</td>\n",
       "      <td>0</td>\n",
       "      <td>0</td>\n",
       "      <td>1</td>\n",
       "    </tr>\n",
       "    <tr>\n",
       "      <th>8997</th>\n",
       "      <td>8998</td>\n",
       "      <td>-0.091400</td>\n",
       "      <td>-0.709433</td>\n",
       "      <td>-0.590693</td>\n",
       "      <td>-0.228692</td>\n",
       "      <td>-0.290940</td>\n",
       "      <td>1.227663</td>\n",
       "      <td>1</td>\n",
       "      <td>0</td>\n",
       "      <td>1</td>\n",
       "      <td>...</td>\n",
       "      <td>0</td>\n",
       "      <td>0</td>\n",
       "      <td>1</td>\n",
       "      <td>0</td>\n",
       "      <td>0</td>\n",
       "      <td>0</td>\n",
       "      <td>1</td>\n",
       "      <td>0</td>\n",
       "      <td>0</td>\n",
       "      <td>1</td>\n",
       "    </tr>\n",
       "    <tr>\n",
       "      <th>8998</th>\n",
       "      <td>8999</td>\n",
       "      <td>0.754902</td>\n",
       "      <td>0.708286</td>\n",
       "      <td>-1.394094</td>\n",
       "      <td>0.811368</td>\n",
       "      <td>-0.560291</td>\n",
       "      <td>0.514347</td>\n",
       "      <td>0</td>\n",
       "      <td>0</td>\n",
       "      <td>0</td>\n",
       "      <td>...</td>\n",
       "      <td>0</td>\n",
       "      <td>0</td>\n",
       "      <td>0</td>\n",
       "      <td>1</td>\n",
       "      <td>0</td>\n",
       "      <td>1</td>\n",
       "      <td>0</td>\n",
       "      <td>0</td>\n",
       "      <td>0</td>\n",
       "      <td>1</td>\n",
       "    </tr>\n",
       "  </tbody>\n",
       "</table>\n",
       "<p>6176 rows × 21 columns</p>\n",
       "</div>"
      ],
      "text/plain": [
       "        ID  Customer_care_calls  Customer_rating  Cost_of_the_Product  \\\n",
       "3        4            -0.937701        -0.000574            -0.755493   \n",
       "5        6            -0.937701        -1.418293            -1.043894   \n",
       "6        7            -0.937701         0.708286             0.768909   \n",
       "8        9            -0.937701         0.708286            -1.291094   \n",
       "10      11            -0.937701         0.708286            -0.487693   \n",
       "...    ...                  ...              ...                  ...   \n",
       "8994  8995            -0.937701        -1.418293             0.089108   \n",
       "8995  8996             0.754902        -0.000574             0.398108   \n",
       "8996  8997            -0.091400         1.417145             0.974909   \n",
       "8997  8998            -0.091400        -0.709433            -0.590693   \n",
       "8998  8999             0.754902         0.708286            -1.394094   \n",
       "\n",
       "      Prior_purchases  Discount_offered  Weight_in_gms  Reached.on.Time_Y.N  \\\n",
       "3            0.811368          1.055817      -1.744383                    1   \n",
       "5           -0.228692          1.594520      -1.594343                    1   \n",
       "6           -0.228692         -0.829642      -0.997933                    1   \n",
       "8           -0.228692          1.325168      -1.316768                    1   \n",
       "10          -1.268752          1.594520      -0.674721                    1   \n",
       "...               ...               ...            ...                  ...   \n",
       "8994        -0.228692         -1.368345       0.131119                    1   \n",
       "8995        -0.228692         -0.829642       0.349303                    0   \n",
       "8996        -0.228692         -0.021588       0.158627                    0   \n",
       "8997        -0.228692         -0.290940       1.227663                    1   \n",
       "8998         0.811368         -0.560291       0.514347                    0   \n",
       "\n",
       "      Warehouse_block_A  Warehouse_block_B  ...  Warehouse_block_D  \\\n",
       "3                     0                  1  ...                  0   \n",
       "5                     0                  0  ...                  0   \n",
       "6                     0                  0  ...                  1   \n",
       "8                     1                  0  ...                  0   \n",
       "10                    0                  0  ...                  0   \n",
       "...                 ...                ...  ...                ...   \n",
       "8994                  0                  0  ...                  1   \n",
       "8995                  0                  0  ...                  0   \n",
       "8996                  1                  0  ...                  0   \n",
       "8997                  0                  1  ...                  0   \n",
       "8998                  0                  0  ...                  0   \n",
       "\n",
       "      Warehouse_block_F  Gender_F  Gender_M  Product_importance_high  \\\n",
       "3                     0         0         1                        0   \n",
       "5                     1         1         0                        0   \n",
       "6                     0         1         0                        0   \n",
       "8                     0         1         0                        0   \n",
       "10                    0         0         1                        0   \n",
       "...                 ...       ...       ...                      ...   \n",
       "8994                  0         1         0                        0   \n",
       "8995                  1         0         1                        0   \n",
       "8996                  0         1         0                        0   \n",
       "8997                  0         1         0                        0   \n",
       "8998                  0         0         1                        0   \n",
       "\n",
       "      Product_importance_low  Product_importance_medium  \\\n",
       "3                          0                          1   \n",
       "5                          0                          1   \n",
       "6                          1                          0   \n",
       "8                          1                          0   \n",
       "10                         0                          1   \n",
       "...                      ...                        ...   \n",
       "8994                       1                          0   \n",
       "8995                       0                          1   \n",
       "8996                       0                          1   \n",
       "8997                       0                          1   \n",
       "8998                       1                          0   \n",
       "\n",
       "      Mode_of_Shipment_Flight  Mode_of_Shipment_Road  Mode_of_Shipment_Ship  \n",
       "3                           1                      0                      0  \n",
       "5                           1                      0                      0  \n",
       "6                           1                      0                      0  \n",
       "8                           1                      0                      0  \n",
       "10                          1                      0                      0  \n",
       "...                       ...                    ...                    ...  \n",
       "8994                        0                      0                      1  \n",
       "8995                        0                      0                      1  \n",
       "8996                        0                      0                      1  \n",
       "8997                        0                      0                      1  \n",
       "8998                        0                      0                      1  \n",
       "\n",
       "[6176 rows x 21 columns]"
      ]
     },
     "execution_count": 62,
     "metadata": {},
     "output_type": "execute_result"
    }
   ],
   "source": [
    "data"
   ]
  },
  {
   "cell_type": "markdown",
   "id": "5f3c0480-7a8f-4a3a-aa06-6438496b86cd",
   "metadata": {},
   "source": [
    "# M o d e _ o f _ S h i p m e n t"
   ]
  },
  {
   "cell_type": "code",
   "execution_count": 57,
   "id": "889aae6b",
   "metadata": {},
   "outputs": [],
   "source": [
    "# Trabajaremos con la variable Mode_of_Shipment generando variables dummy\n",
    "Mode_of_Shipment_dummy=pd.get_dummies(data[\"Mode_of_Shipment\"],prefix=\"Mode_of_Shipment\")"
   ]
  },
  {
   "cell_type": "code",
   "execution_count": 58,
   "id": "d0baf92a",
   "metadata": {},
   "outputs": [],
   "source": [
    "data=pd.concat([data,Mode_of_Shipment_dummy],axis=1)"
   ]
  },
  {
   "cell_type": "code",
   "execution_count": 59,
   "id": "a6afa654",
   "metadata": {},
   "outputs": [],
   "source": [
    "data.drop(columns=\"Mode_of_Shipment\",inplace=True)"
   ]
  },
  {
   "cell_type": "code",
   "execution_count": 60,
   "id": "b84dfd4f",
   "metadata": {},
   "outputs": [
    {
     "data": {
      "text/html": [
       "<div>\n",
       "<style scoped>\n",
       "    .dataframe tbody tr th:only-of-type {\n",
       "        vertical-align: middle;\n",
       "    }\n",
       "\n",
       "    .dataframe tbody tr th {\n",
       "        vertical-align: top;\n",
       "    }\n",
       "\n",
       "    .dataframe thead th {\n",
       "        text-align: right;\n",
       "    }\n",
       "</style>\n",
       "<table border=\"1\" class=\"dataframe\">\n",
       "  <thead>\n",
       "    <tr style=\"text-align: right;\">\n",
       "      <th></th>\n",
       "      <th>ID</th>\n",
       "      <th>Customer_care_calls</th>\n",
       "      <th>Customer_rating</th>\n",
       "      <th>Cost_of_the_Product</th>\n",
       "      <th>Prior_purchases</th>\n",
       "      <th>Discount_offered</th>\n",
       "      <th>Weight_in_gms</th>\n",
       "      <th>Reached.on.Time_Y.N</th>\n",
       "      <th>Warehouse_block_A</th>\n",
       "      <th>Warehouse_block_B</th>\n",
       "      <th>...</th>\n",
       "      <th>Warehouse_block_D</th>\n",
       "      <th>Warehouse_block_F</th>\n",
       "      <th>Gender_F</th>\n",
       "      <th>Gender_M</th>\n",
       "      <th>Product_importance_high</th>\n",
       "      <th>Product_importance_low</th>\n",
       "      <th>Product_importance_medium</th>\n",
       "      <th>Mode_of_Shipment_Flight</th>\n",
       "      <th>Mode_of_Shipment_Road</th>\n",
       "      <th>Mode_of_Shipment_Ship</th>\n",
       "    </tr>\n",
       "  </thead>\n",
       "  <tbody>\n",
       "    <tr>\n",
       "      <th>3</th>\n",
       "      <td>4</td>\n",
       "      <td>-0.937701</td>\n",
       "      <td>-0.000574</td>\n",
       "      <td>-0.755493</td>\n",
       "      <td>0.811368</td>\n",
       "      <td>1.055817</td>\n",
       "      <td>-1.744383</td>\n",
       "      <td>1</td>\n",
       "      <td>0</td>\n",
       "      <td>1</td>\n",
       "      <td>...</td>\n",
       "      <td>0</td>\n",
       "      <td>0</td>\n",
       "      <td>0</td>\n",
       "      <td>1</td>\n",
       "      <td>0</td>\n",
       "      <td>0</td>\n",
       "      <td>1</td>\n",
       "      <td>1</td>\n",
       "      <td>0</td>\n",
       "      <td>0</td>\n",
       "    </tr>\n",
       "    <tr>\n",
       "      <th>5</th>\n",
       "      <td>6</td>\n",
       "      <td>-0.937701</td>\n",
       "      <td>-1.418293</td>\n",
       "      <td>-1.043894</td>\n",
       "      <td>-0.228692</td>\n",
       "      <td>1.594520</td>\n",
       "      <td>-1.594343</td>\n",
       "      <td>1</td>\n",
       "      <td>0</td>\n",
       "      <td>0</td>\n",
       "      <td>...</td>\n",
       "      <td>0</td>\n",
       "      <td>1</td>\n",
       "      <td>1</td>\n",
       "      <td>0</td>\n",
       "      <td>0</td>\n",
       "      <td>0</td>\n",
       "      <td>1</td>\n",
       "      <td>1</td>\n",
       "      <td>0</td>\n",
       "      <td>0</td>\n",
       "    </tr>\n",
       "    <tr>\n",
       "      <th>6</th>\n",
       "      <td>7</td>\n",
       "      <td>-0.937701</td>\n",
       "      <td>0.708286</td>\n",
       "      <td>0.768909</td>\n",
       "      <td>-0.228692</td>\n",
       "      <td>-0.829642</td>\n",
       "      <td>-0.997933</td>\n",
       "      <td>1</td>\n",
       "      <td>0</td>\n",
       "      <td>0</td>\n",
       "      <td>...</td>\n",
       "      <td>1</td>\n",
       "      <td>0</td>\n",
       "      <td>1</td>\n",
       "      <td>0</td>\n",
       "      <td>0</td>\n",
       "      <td>1</td>\n",
       "      <td>0</td>\n",
       "      <td>1</td>\n",
       "      <td>0</td>\n",
       "      <td>0</td>\n",
       "    </tr>\n",
       "    <tr>\n",
       "      <th>8</th>\n",
       "      <td>9</td>\n",
       "      <td>-0.937701</td>\n",
       "      <td>0.708286</td>\n",
       "      <td>-1.291094</td>\n",
       "      <td>-0.228692</td>\n",
       "      <td>1.325168</td>\n",
       "      <td>-1.316768</td>\n",
       "      <td>1</td>\n",
       "      <td>1</td>\n",
       "      <td>0</td>\n",
       "      <td>...</td>\n",
       "      <td>0</td>\n",
       "      <td>0</td>\n",
       "      <td>1</td>\n",
       "      <td>0</td>\n",
       "      <td>0</td>\n",
       "      <td>1</td>\n",
       "      <td>0</td>\n",
       "      <td>1</td>\n",
       "      <td>0</td>\n",
       "      <td>0</td>\n",
       "    </tr>\n",
       "    <tr>\n",
       "      <th>10</th>\n",
       "      <td>11</td>\n",
       "      <td>-0.937701</td>\n",
       "      <td>0.708286</td>\n",
       "      <td>-0.487693</td>\n",
       "      <td>-1.268752</td>\n",
       "      <td>1.594520</td>\n",
       "      <td>-0.674721</td>\n",
       "      <td>1</td>\n",
       "      <td>0</td>\n",
       "      <td>0</td>\n",
       "      <td>...</td>\n",
       "      <td>0</td>\n",
       "      <td>0</td>\n",
       "      <td>0</td>\n",
       "      <td>1</td>\n",
       "      <td>0</td>\n",
       "      <td>0</td>\n",
       "      <td>1</td>\n",
       "      <td>1</td>\n",
       "      <td>0</td>\n",
       "      <td>0</td>\n",
       "    </tr>\n",
       "    <tr>\n",
       "      <th>...</th>\n",
       "      <td>...</td>\n",
       "      <td>...</td>\n",
       "      <td>...</td>\n",
       "      <td>...</td>\n",
       "      <td>...</td>\n",
       "      <td>...</td>\n",
       "      <td>...</td>\n",
       "      <td>...</td>\n",
       "      <td>...</td>\n",
       "      <td>...</td>\n",
       "      <td>...</td>\n",
       "      <td>...</td>\n",
       "      <td>...</td>\n",
       "      <td>...</td>\n",
       "      <td>...</td>\n",
       "      <td>...</td>\n",
       "      <td>...</td>\n",
       "      <td>...</td>\n",
       "      <td>...</td>\n",
       "      <td>...</td>\n",
       "      <td>...</td>\n",
       "    </tr>\n",
       "    <tr>\n",
       "      <th>8994</th>\n",
       "      <td>8995</td>\n",
       "      <td>-0.937701</td>\n",
       "      <td>-1.418293</td>\n",
       "      <td>0.089108</td>\n",
       "      <td>-0.228692</td>\n",
       "      <td>-1.368345</td>\n",
       "      <td>0.131119</td>\n",
       "      <td>1</td>\n",
       "      <td>0</td>\n",
       "      <td>0</td>\n",
       "      <td>...</td>\n",
       "      <td>1</td>\n",
       "      <td>0</td>\n",
       "      <td>1</td>\n",
       "      <td>0</td>\n",
       "      <td>0</td>\n",
       "      <td>1</td>\n",
       "      <td>0</td>\n",
       "      <td>0</td>\n",
       "      <td>0</td>\n",
       "      <td>1</td>\n",
       "    </tr>\n",
       "    <tr>\n",
       "      <th>8995</th>\n",
       "      <td>8996</td>\n",
       "      <td>0.754902</td>\n",
       "      <td>-0.000574</td>\n",
       "      <td>0.398108</td>\n",
       "      <td>-0.228692</td>\n",
       "      <td>-0.829642</td>\n",
       "      <td>0.349303</td>\n",
       "      <td>0</td>\n",
       "      <td>0</td>\n",
       "      <td>0</td>\n",
       "      <td>...</td>\n",
       "      <td>0</td>\n",
       "      <td>1</td>\n",
       "      <td>0</td>\n",
       "      <td>1</td>\n",
       "      <td>0</td>\n",
       "      <td>0</td>\n",
       "      <td>1</td>\n",
       "      <td>0</td>\n",
       "      <td>0</td>\n",
       "      <td>1</td>\n",
       "    </tr>\n",
       "    <tr>\n",
       "      <th>8996</th>\n",
       "      <td>8997</td>\n",
       "      <td>-0.091400</td>\n",
       "      <td>1.417145</td>\n",
       "      <td>0.974909</td>\n",
       "      <td>-0.228692</td>\n",
       "      <td>-0.021588</td>\n",
       "      <td>0.158627</td>\n",
       "      <td>0</td>\n",
       "      <td>1</td>\n",
       "      <td>0</td>\n",
       "      <td>...</td>\n",
       "      <td>0</td>\n",
       "      <td>0</td>\n",
       "      <td>1</td>\n",
       "      <td>0</td>\n",
       "      <td>0</td>\n",
       "      <td>0</td>\n",
       "      <td>1</td>\n",
       "      <td>0</td>\n",
       "      <td>0</td>\n",
       "      <td>1</td>\n",
       "    </tr>\n",
       "    <tr>\n",
       "      <th>8997</th>\n",
       "      <td>8998</td>\n",
       "      <td>-0.091400</td>\n",
       "      <td>-0.709433</td>\n",
       "      <td>-0.590693</td>\n",
       "      <td>-0.228692</td>\n",
       "      <td>-0.290940</td>\n",
       "      <td>1.227663</td>\n",
       "      <td>1</td>\n",
       "      <td>0</td>\n",
       "      <td>1</td>\n",
       "      <td>...</td>\n",
       "      <td>0</td>\n",
       "      <td>0</td>\n",
       "      <td>1</td>\n",
       "      <td>0</td>\n",
       "      <td>0</td>\n",
       "      <td>0</td>\n",
       "      <td>1</td>\n",
       "      <td>0</td>\n",
       "      <td>0</td>\n",
       "      <td>1</td>\n",
       "    </tr>\n",
       "    <tr>\n",
       "      <th>8998</th>\n",
       "      <td>8999</td>\n",
       "      <td>0.754902</td>\n",
       "      <td>0.708286</td>\n",
       "      <td>-1.394094</td>\n",
       "      <td>0.811368</td>\n",
       "      <td>-0.560291</td>\n",
       "      <td>0.514347</td>\n",
       "      <td>0</td>\n",
       "      <td>0</td>\n",
       "      <td>0</td>\n",
       "      <td>...</td>\n",
       "      <td>0</td>\n",
       "      <td>0</td>\n",
       "      <td>0</td>\n",
       "      <td>1</td>\n",
       "      <td>0</td>\n",
       "      <td>1</td>\n",
       "      <td>0</td>\n",
       "      <td>0</td>\n",
       "      <td>0</td>\n",
       "      <td>1</td>\n",
       "    </tr>\n",
       "  </tbody>\n",
       "</table>\n",
       "<p>6176 rows × 21 columns</p>\n",
       "</div>"
      ],
      "text/plain": [
       "        ID  Customer_care_calls  Customer_rating  Cost_of_the_Product  \\\n",
       "3        4            -0.937701        -0.000574            -0.755493   \n",
       "5        6            -0.937701        -1.418293            -1.043894   \n",
       "6        7            -0.937701         0.708286             0.768909   \n",
       "8        9            -0.937701         0.708286            -1.291094   \n",
       "10      11            -0.937701         0.708286            -0.487693   \n",
       "...    ...                  ...              ...                  ...   \n",
       "8994  8995            -0.937701        -1.418293             0.089108   \n",
       "8995  8996             0.754902        -0.000574             0.398108   \n",
       "8996  8997            -0.091400         1.417145             0.974909   \n",
       "8997  8998            -0.091400        -0.709433            -0.590693   \n",
       "8998  8999             0.754902         0.708286            -1.394094   \n",
       "\n",
       "      Prior_purchases  Discount_offered  Weight_in_gms  Reached.on.Time_Y.N  \\\n",
       "3            0.811368          1.055817      -1.744383                    1   \n",
       "5           -0.228692          1.594520      -1.594343                    1   \n",
       "6           -0.228692         -0.829642      -0.997933                    1   \n",
       "8           -0.228692          1.325168      -1.316768                    1   \n",
       "10          -1.268752          1.594520      -0.674721                    1   \n",
       "...               ...               ...            ...                  ...   \n",
       "8994        -0.228692         -1.368345       0.131119                    1   \n",
       "8995        -0.228692         -0.829642       0.349303                    0   \n",
       "8996        -0.228692         -0.021588       0.158627                    0   \n",
       "8997        -0.228692         -0.290940       1.227663                    1   \n",
       "8998         0.811368         -0.560291       0.514347                    0   \n",
       "\n",
       "      Warehouse_block_A  Warehouse_block_B  ...  Warehouse_block_D  \\\n",
       "3                     0                  1  ...                  0   \n",
       "5                     0                  0  ...                  0   \n",
       "6                     0                  0  ...                  1   \n",
       "8                     1                  0  ...                  0   \n",
       "10                    0                  0  ...                  0   \n",
       "...                 ...                ...  ...                ...   \n",
       "8994                  0                  0  ...                  1   \n",
       "8995                  0                  0  ...                  0   \n",
       "8996                  1                  0  ...                  0   \n",
       "8997                  0                  1  ...                  0   \n",
       "8998                  0                  0  ...                  0   \n",
       "\n",
       "      Warehouse_block_F  Gender_F  Gender_M  Product_importance_high  \\\n",
       "3                     0         0         1                        0   \n",
       "5                     1         1         0                        0   \n",
       "6                     0         1         0                        0   \n",
       "8                     0         1         0                        0   \n",
       "10                    0         0         1                        0   \n",
       "...                 ...       ...       ...                      ...   \n",
       "8994                  0         1         0                        0   \n",
       "8995                  1         0         1                        0   \n",
       "8996                  0         1         0                        0   \n",
       "8997                  0         1         0                        0   \n",
       "8998                  0         0         1                        0   \n",
       "\n",
       "      Product_importance_low  Product_importance_medium  \\\n",
       "3                          0                          1   \n",
       "5                          0                          1   \n",
       "6                          1                          0   \n",
       "8                          1                          0   \n",
       "10                         0                          1   \n",
       "...                      ...                        ...   \n",
       "8994                       1                          0   \n",
       "8995                       0                          1   \n",
       "8996                       0                          1   \n",
       "8997                       0                          1   \n",
       "8998                       1                          0   \n",
       "\n",
       "      Mode_of_Shipment_Flight  Mode_of_Shipment_Road  Mode_of_Shipment_Ship  \n",
       "3                           1                      0                      0  \n",
       "5                           1                      0                      0  \n",
       "6                           1                      0                      0  \n",
       "8                           1                      0                      0  \n",
       "10                          1                      0                      0  \n",
       "...                       ...                    ...                    ...  \n",
       "8994                        0                      0                      1  \n",
       "8995                        0                      0                      1  \n",
       "8996                        0                      0                      1  \n",
       "8997                        0                      0                      1  \n",
       "8998                        0                      0                      1  \n",
       "\n",
       "[6176 rows x 21 columns]"
      ]
     },
     "execution_count": 60,
     "metadata": {},
     "output_type": "execute_result"
    }
   ],
   "source": [
    "data"
   ]
  },
  {
   "cell_type": "markdown",
   "id": "d3f3bc76-8164-4455-8003-da89fbb89c2f",
   "metadata": {},
   "source": [
    "# Despues de la codificacion de variables nominales y ordinales"
   ]
  },
  {
   "cell_type": "code",
   "execution_count": 63,
   "id": "51277169-da49-4e0a-8d88-103e4c67f583",
   "metadata": {},
   "outputs": [
    {
     "data": {
      "text/html": [
       "<div>\n",
       "<style scoped>\n",
       "    .dataframe tbody tr th:only-of-type {\n",
       "        vertical-align: middle;\n",
       "    }\n",
       "\n",
       "    .dataframe tbody tr th {\n",
       "        vertical-align: top;\n",
       "    }\n",
       "\n",
       "    .dataframe thead th {\n",
       "        text-align: right;\n",
       "    }\n",
       "</style>\n",
       "<table border=\"1\" class=\"dataframe\">\n",
       "  <thead>\n",
       "    <tr style=\"text-align: right;\">\n",
       "      <th></th>\n",
       "      <th>ID</th>\n",
       "      <th>Customer_care_calls</th>\n",
       "      <th>Customer_rating</th>\n",
       "      <th>Cost_of_the_Product</th>\n",
       "      <th>Prior_purchases</th>\n",
       "      <th>Discount_offered</th>\n",
       "      <th>Weight_in_gms</th>\n",
       "      <th>Reached.on.Time_Y.N</th>\n",
       "      <th>Warehouse_block_A</th>\n",
       "      <th>Warehouse_block_B</th>\n",
       "      <th>...</th>\n",
       "      <th>Warehouse_block_D</th>\n",
       "      <th>Warehouse_block_F</th>\n",
       "      <th>Gender_F</th>\n",
       "      <th>Gender_M</th>\n",
       "      <th>Product_importance_high</th>\n",
       "      <th>Product_importance_low</th>\n",
       "      <th>Product_importance_medium</th>\n",
       "      <th>Mode_of_Shipment_Flight</th>\n",
       "      <th>Mode_of_Shipment_Road</th>\n",
       "      <th>Mode_of_Shipment_Ship</th>\n",
       "    </tr>\n",
       "  </thead>\n",
       "  <tbody>\n",
       "    <tr>\n",
       "      <th>3</th>\n",
       "      <td>4</td>\n",
       "      <td>-0.937701</td>\n",
       "      <td>-0.000574</td>\n",
       "      <td>-0.755493</td>\n",
       "      <td>0.811368</td>\n",
       "      <td>1.055817</td>\n",
       "      <td>-1.744383</td>\n",
       "      <td>1</td>\n",
       "      <td>0</td>\n",
       "      <td>1</td>\n",
       "      <td>...</td>\n",
       "      <td>0</td>\n",
       "      <td>0</td>\n",
       "      <td>0</td>\n",
       "      <td>1</td>\n",
       "      <td>0</td>\n",
       "      <td>0</td>\n",
       "      <td>1</td>\n",
       "      <td>1</td>\n",
       "      <td>0</td>\n",
       "      <td>0</td>\n",
       "    </tr>\n",
       "    <tr>\n",
       "      <th>5</th>\n",
       "      <td>6</td>\n",
       "      <td>-0.937701</td>\n",
       "      <td>-1.418293</td>\n",
       "      <td>-1.043894</td>\n",
       "      <td>-0.228692</td>\n",
       "      <td>1.594520</td>\n",
       "      <td>-1.594343</td>\n",
       "      <td>1</td>\n",
       "      <td>0</td>\n",
       "      <td>0</td>\n",
       "      <td>...</td>\n",
       "      <td>0</td>\n",
       "      <td>1</td>\n",
       "      <td>1</td>\n",
       "      <td>0</td>\n",
       "      <td>0</td>\n",
       "      <td>0</td>\n",
       "      <td>1</td>\n",
       "      <td>1</td>\n",
       "      <td>0</td>\n",
       "      <td>0</td>\n",
       "    </tr>\n",
       "    <tr>\n",
       "      <th>6</th>\n",
       "      <td>7</td>\n",
       "      <td>-0.937701</td>\n",
       "      <td>0.708286</td>\n",
       "      <td>0.768909</td>\n",
       "      <td>-0.228692</td>\n",
       "      <td>-0.829642</td>\n",
       "      <td>-0.997933</td>\n",
       "      <td>1</td>\n",
       "      <td>0</td>\n",
       "      <td>0</td>\n",
       "      <td>...</td>\n",
       "      <td>1</td>\n",
       "      <td>0</td>\n",
       "      <td>1</td>\n",
       "      <td>0</td>\n",
       "      <td>0</td>\n",
       "      <td>1</td>\n",
       "      <td>0</td>\n",
       "      <td>1</td>\n",
       "      <td>0</td>\n",
       "      <td>0</td>\n",
       "    </tr>\n",
       "    <tr>\n",
       "      <th>8</th>\n",
       "      <td>9</td>\n",
       "      <td>-0.937701</td>\n",
       "      <td>0.708286</td>\n",
       "      <td>-1.291094</td>\n",
       "      <td>-0.228692</td>\n",
       "      <td>1.325168</td>\n",
       "      <td>-1.316768</td>\n",
       "      <td>1</td>\n",
       "      <td>1</td>\n",
       "      <td>0</td>\n",
       "      <td>...</td>\n",
       "      <td>0</td>\n",
       "      <td>0</td>\n",
       "      <td>1</td>\n",
       "      <td>0</td>\n",
       "      <td>0</td>\n",
       "      <td>1</td>\n",
       "      <td>0</td>\n",
       "      <td>1</td>\n",
       "      <td>0</td>\n",
       "      <td>0</td>\n",
       "    </tr>\n",
       "    <tr>\n",
       "      <th>10</th>\n",
       "      <td>11</td>\n",
       "      <td>-0.937701</td>\n",
       "      <td>0.708286</td>\n",
       "      <td>-0.487693</td>\n",
       "      <td>-1.268752</td>\n",
       "      <td>1.594520</td>\n",
       "      <td>-0.674721</td>\n",
       "      <td>1</td>\n",
       "      <td>0</td>\n",
       "      <td>0</td>\n",
       "      <td>...</td>\n",
       "      <td>0</td>\n",
       "      <td>0</td>\n",
       "      <td>0</td>\n",
       "      <td>1</td>\n",
       "      <td>0</td>\n",
       "      <td>0</td>\n",
       "      <td>1</td>\n",
       "      <td>1</td>\n",
       "      <td>0</td>\n",
       "      <td>0</td>\n",
       "    </tr>\n",
       "    <tr>\n",
       "      <th>...</th>\n",
       "      <td>...</td>\n",
       "      <td>...</td>\n",
       "      <td>...</td>\n",
       "      <td>...</td>\n",
       "      <td>...</td>\n",
       "      <td>...</td>\n",
       "      <td>...</td>\n",
       "      <td>...</td>\n",
       "      <td>...</td>\n",
       "      <td>...</td>\n",
       "      <td>...</td>\n",
       "      <td>...</td>\n",
       "      <td>...</td>\n",
       "      <td>...</td>\n",
       "      <td>...</td>\n",
       "      <td>...</td>\n",
       "      <td>...</td>\n",
       "      <td>...</td>\n",
       "      <td>...</td>\n",
       "      <td>...</td>\n",
       "      <td>...</td>\n",
       "    </tr>\n",
       "    <tr>\n",
       "      <th>8994</th>\n",
       "      <td>8995</td>\n",
       "      <td>-0.937701</td>\n",
       "      <td>-1.418293</td>\n",
       "      <td>0.089108</td>\n",
       "      <td>-0.228692</td>\n",
       "      <td>-1.368345</td>\n",
       "      <td>0.131119</td>\n",
       "      <td>1</td>\n",
       "      <td>0</td>\n",
       "      <td>0</td>\n",
       "      <td>...</td>\n",
       "      <td>1</td>\n",
       "      <td>0</td>\n",
       "      <td>1</td>\n",
       "      <td>0</td>\n",
       "      <td>0</td>\n",
       "      <td>1</td>\n",
       "      <td>0</td>\n",
       "      <td>0</td>\n",
       "      <td>0</td>\n",
       "      <td>1</td>\n",
       "    </tr>\n",
       "    <tr>\n",
       "      <th>8995</th>\n",
       "      <td>8996</td>\n",
       "      <td>0.754902</td>\n",
       "      <td>-0.000574</td>\n",
       "      <td>0.398108</td>\n",
       "      <td>-0.228692</td>\n",
       "      <td>-0.829642</td>\n",
       "      <td>0.349303</td>\n",
       "      <td>0</td>\n",
       "      <td>0</td>\n",
       "      <td>0</td>\n",
       "      <td>...</td>\n",
       "      <td>0</td>\n",
       "      <td>1</td>\n",
       "      <td>0</td>\n",
       "      <td>1</td>\n",
       "      <td>0</td>\n",
       "      <td>0</td>\n",
       "      <td>1</td>\n",
       "      <td>0</td>\n",
       "      <td>0</td>\n",
       "      <td>1</td>\n",
       "    </tr>\n",
       "    <tr>\n",
       "      <th>8996</th>\n",
       "      <td>8997</td>\n",
       "      <td>-0.091400</td>\n",
       "      <td>1.417145</td>\n",
       "      <td>0.974909</td>\n",
       "      <td>-0.228692</td>\n",
       "      <td>-0.021588</td>\n",
       "      <td>0.158627</td>\n",
       "      <td>0</td>\n",
       "      <td>1</td>\n",
       "      <td>0</td>\n",
       "      <td>...</td>\n",
       "      <td>0</td>\n",
       "      <td>0</td>\n",
       "      <td>1</td>\n",
       "      <td>0</td>\n",
       "      <td>0</td>\n",
       "      <td>0</td>\n",
       "      <td>1</td>\n",
       "      <td>0</td>\n",
       "      <td>0</td>\n",
       "      <td>1</td>\n",
       "    </tr>\n",
       "    <tr>\n",
       "      <th>8997</th>\n",
       "      <td>8998</td>\n",
       "      <td>-0.091400</td>\n",
       "      <td>-0.709433</td>\n",
       "      <td>-0.590693</td>\n",
       "      <td>-0.228692</td>\n",
       "      <td>-0.290940</td>\n",
       "      <td>1.227663</td>\n",
       "      <td>1</td>\n",
       "      <td>0</td>\n",
       "      <td>1</td>\n",
       "      <td>...</td>\n",
       "      <td>0</td>\n",
       "      <td>0</td>\n",
       "      <td>1</td>\n",
       "      <td>0</td>\n",
       "      <td>0</td>\n",
       "      <td>0</td>\n",
       "      <td>1</td>\n",
       "      <td>0</td>\n",
       "      <td>0</td>\n",
       "      <td>1</td>\n",
       "    </tr>\n",
       "    <tr>\n",
       "      <th>8998</th>\n",
       "      <td>8999</td>\n",
       "      <td>0.754902</td>\n",
       "      <td>0.708286</td>\n",
       "      <td>-1.394094</td>\n",
       "      <td>0.811368</td>\n",
       "      <td>-0.560291</td>\n",
       "      <td>0.514347</td>\n",
       "      <td>0</td>\n",
       "      <td>0</td>\n",
       "      <td>0</td>\n",
       "      <td>...</td>\n",
       "      <td>0</td>\n",
       "      <td>0</td>\n",
       "      <td>0</td>\n",
       "      <td>1</td>\n",
       "      <td>0</td>\n",
       "      <td>1</td>\n",
       "      <td>0</td>\n",
       "      <td>0</td>\n",
       "      <td>0</td>\n",
       "      <td>1</td>\n",
       "    </tr>\n",
       "  </tbody>\n",
       "</table>\n",
       "<p>6176 rows × 21 columns</p>\n",
       "</div>"
      ],
      "text/plain": [
       "        ID  Customer_care_calls  Customer_rating  Cost_of_the_Product  \\\n",
       "3        4            -0.937701        -0.000574            -0.755493   \n",
       "5        6            -0.937701        -1.418293            -1.043894   \n",
       "6        7            -0.937701         0.708286             0.768909   \n",
       "8        9            -0.937701         0.708286            -1.291094   \n",
       "10      11            -0.937701         0.708286            -0.487693   \n",
       "...    ...                  ...              ...                  ...   \n",
       "8994  8995            -0.937701        -1.418293             0.089108   \n",
       "8995  8996             0.754902        -0.000574             0.398108   \n",
       "8996  8997            -0.091400         1.417145             0.974909   \n",
       "8997  8998            -0.091400        -0.709433            -0.590693   \n",
       "8998  8999             0.754902         0.708286            -1.394094   \n",
       "\n",
       "      Prior_purchases  Discount_offered  Weight_in_gms  Reached.on.Time_Y.N  \\\n",
       "3            0.811368          1.055817      -1.744383                    1   \n",
       "5           -0.228692          1.594520      -1.594343                    1   \n",
       "6           -0.228692         -0.829642      -0.997933                    1   \n",
       "8           -0.228692          1.325168      -1.316768                    1   \n",
       "10          -1.268752          1.594520      -0.674721                    1   \n",
       "...               ...               ...            ...                  ...   \n",
       "8994        -0.228692         -1.368345       0.131119                    1   \n",
       "8995        -0.228692         -0.829642       0.349303                    0   \n",
       "8996        -0.228692         -0.021588       0.158627                    0   \n",
       "8997        -0.228692         -0.290940       1.227663                    1   \n",
       "8998         0.811368         -0.560291       0.514347                    0   \n",
       "\n",
       "      Warehouse_block_A  Warehouse_block_B  ...  Warehouse_block_D  \\\n",
       "3                     0                  1  ...                  0   \n",
       "5                     0                  0  ...                  0   \n",
       "6                     0                  0  ...                  1   \n",
       "8                     1                  0  ...                  0   \n",
       "10                    0                  0  ...                  0   \n",
       "...                 ...                ...  ...                ...   \n",
       "8994                  0                  0  ...                  1   \n",
       "8995                  0                  0  ...                  0   \n",
       "8996                  1                  0  ...                  0   \n",
       "8997                  0                  1  ...                  0   \n",
       "8998                  0                  0  ...                  0   \n",
       "\n",
       "      Warehouse_block_F  Gender_F  Gender_M  Product_importance_high  \\\n",
       "3                     0         0         1                        0   \n",
       "5                     1         1         0                        0   \n",
       "6                     0         1         0                        0   \n",
       "8                     0         1         0                        0   \n",
       "10                    0         0         1                        0   \n",
       "...                 ...       ...       ...                      ...   \n",
       "8994                  0         1         0                        0   \n",
       "8995                  1         0         1                        0   \n",
       "8996                  0         1         0                        0   \n",
       "8997                  0         1         0                        0   \n",
       "8998                  0         0         1                        0   \n",
       "\n",
       "      Product_importance_low  Product_importance_medium  \\\n",
       "3                          0                          1   \n",
       "5                          0                          1   \n",
       "6                          1                          0   \n",
       "8                          1                          0   \n",
       "10                         0                          1   \n",
       "...                      ...                        ...   \n",
       "8994                       1                          0   \n",
       "8995                       0                          1   \n",
       "8996                       0                          1   \n",
       "8997                       0                          1   \n",
       "8998                       1                          0   \n",
       "\n",
       "      Mode_of_Shipment_Flight  Mode_of_Shipment_Road  Mode_of_Shipment_Ship  \n",
       "3                           1                      0                      0  \n",
       "5                           1                      0                      0  \n",
       "6                           1                      0                      0  \n",
       "8                           1                      0                      0  \n",
       "10                          1                      0                      0  \n",
       "...                       ...                    ...                    ...  \n",
       "8994                        0                      0                      1  \n",
       "8995                        0                      0                      1  \n",
       "8996                        0                      0                      1  \n",
       "8997                        0                      0                      1  \n",
       "8998                        0                      0                      1  \n",
       "\n",
       "[6176 rows x 21 columns]"
      ]
     },
     "execution_count": 63,
     "metadata": {},
     "output_type": "execute_result"
    }
   ],
   "source": [
    "data"
   ]
  },
  {
   "cell_type": "markdown",
   "id": "043ce32b-1588-4e8d-bd74-a1959163d874",
   "metadata": {},
   "source": [
    "# Correlacion de variables"
   ]
  },
  {
   "cell_type": "markdown",
   "id": "268188bb",
   "metadata": {},
   "source": [
    "Visualizamos las variables con mas relacion mediante el mapa de calor con la libreria seaborn."
   ]
  },
  {
   "cell_type": "code",
   "execution_count": 64,
   "id": "5bba2f77-626c-4372-8f8d-3fe70c5f0b88",
   "metadata": {},
   "outputs": [],
   "source": [
    "import seaborn as sn"
   ]
  },
  {
   "cell_type": "code",
   "execution_count": 65,
   "id": "9c4416ea-3629-49a4-ba2e-18c37dc43ccf",
   "metadata": {},
   "outputs": [
    {
     "data": {
      "image/png": "[encoded data removed]",
      "text/plain": [
       "<Figure size 432x288 with 2 Axes>"
      ]
     },
     "metadata": {
      "needs_background": "light"
     },
     "output_type": "display_data"
    }
   ],
   "source": [
    "cordata=data.corr().round(2)\n",
    "sn.heatmap(cordata,annot=True)\n",
    "plt.show()"
   ]
  },
  {
   "cell_type": "markdown",
   "id": "e0f7cc0f-acc4-4498-a07a-649aa7b6aa38",
   "metadata": {},
   "source": [
    "#### Aqui un poco mas grande usando la libreria  matplotlib "
   ]
  },
  {
   "cell_type": "code",
   "execution_count": 66,
   "id": "39739eb4-c361-4983-938b-b2bf87272beb",
   "metadata": {},
   "outputs": [
    {
     "data": {
      "image/png": "[encoded data removed]",
      "text/plain": [
       "<Figure size 1440x1440 with 2 Axes>"
      ]
     },
     "metadata": {
      "needs_background": "light"
     },
     "output_type": "display_data"
    }
   ],
   "source": [
    "fig,ax=plt.subplots(figsize=(20,20))\n",
    "sn.heatmap(cordata,annot=True)\n",
    "plt.show()"
   ]
  },
  {
   "cell_type": "markdown",
   "id": "13dbb90d-b776-4c6a-a5ce-0da1503a3f01",
   "metadata": {},
   "source": [
    "# Usare Random Forest para mi modelo predictorio"
   ]
  },
  {
   "cell_type": "markdown",
   "id": "1bd6be17-2352-4916-8574-db306f4daf23",
   "metadata": {},
   "source": [
    "## Simulamos Random Forest generando muestreos"
   ]
  },
  {
   "cell_type": "markdown",
   "id": "700919cb-321e-4387-be6b-e6a7d7f6a8e0",
   "metadata": {},
   "source": [
    "### Paso 1"
   ]
  },
  {
   "cell_type": "code",
   "execution_count": 67,
   "id": "6eeba79f-c288-4d12-ad76-babf3ff87149",
   "metadata": {},
   "outputs": [
    {
     "name": "stdout",
     "output_type": "stream",
     "text": [
      "        ID  Customer_care_calls  Customer_rating  Cost_of_the_Product  \\\n",
      "3615  3616             1.601204         1.417145            -0.384693   \n",
      "4383  4384            -0.937701        -0.000574            -1.291094   \n",
      "609    610            -0.091400         0.708286            -1.126294   \n",
      "7632  7633            -0.091400        -1.418293             0.501108   \n",
      "6197  6198            -0.091400        -0.709433             1.139709   \n",
      "...    ...                  ...              ...                  ...   \n",
      "7519  7520            -0.091400         0.708286            -1.188094   \n",
      "6645  6646             1.601204        -0.709433            -0.920293   \n",
      "6573  6574            -0.091400         0.708286             0.212708   \n",
      "6641  6642             0.754902         1.417145            -1.600094   \n",
      "5704  5705            -0.937701        -1.418293             0.665908   \n",
      "\n",
      "      Prior_purchases  Discount_offered  Weight_in_gms  Reached.on.Time_Y.N  \\\n",
      "3615         1.851428          0.517114       0.506220                    0   \n",
      "4383        -1.268752         -0.829642       1.168272                    0   \n",
      "609         -0.228692          1.325168      -1.715000                    1   \n",
      "7632         0.811368         -0.560291       0.456206                    1   \n",
      "6197         0.811368         -0.829642       0.817553                    0   \n",
      "...               ...               ...            ...                  ...   \n",
      "7519        -0.228692         -1.098994       0.079231                    1   \n",
      "6645        -1.268752         -0.829642       1.178900                    0   \n",
      "6573         1.851428         -0.560291      -1.639980                    0   \n",
      "6641        -1.268752         -1.368345       0.223019                    1   \n",
      "5704        -1.268752          0.517114       0.391814                    1   \n",
      "\n",
      "      Warehouse_block_A  Warehouse_block_B  ...  Warehouse_block_D  \\\n",
      "3615                  0                  1  ...                  0   \n",
      "4383                  0                  1  ...                  0   \n",
      "609                   0                  1  ...                  0   \n",
      "7632                  0                  0  ...                  1   \n",
      "6197                  0                  0  ...                  0   \n",
      "...                 ...                ...  ...                ...   \n",
      "7519                  0                  0  ...                  0   \n",
      "6645                  0                  1  ...                  0   \n",
      "6573                  0                  1  ...                  0   \n",
      "6641                  0                  0  ...                  0   \n",
      "5704                  0                  0  ...                  0   \n",
      "\n",
      "      Warehouse_block_F  Gender_F  Gender_M  Product_importance_high  \\\n",
      "3615                  0         1         0                        0   \n",
      "4383                  0         0         1                        0   \n",
      "609                   0         0         1                        0   \n",
      "7632                  0         1         0                        0   \n",
      "6197                  1         1         0                        0   \n",
      "...                 ...       ...       ...                      ...   \n",
      "7519                  1         1         0                        0   \n",
      "6645                  0         0         1                        0   \n",
      "6573                  0         0         1                        0   \n",
      "6641                  1         1         0                        0   \n",
      "5704                  0         1         0                        0   \n",
      "\n",
      "      Product_importance_low  Product_importance_medium  \\\n",
      "3615                       1                          0   \n",
      "4383                       0                          1   \n",
      "609                        0                          1   \n",
      "7632                       1                          0   \n",
      "6197                       1                          0   \n",
      "...                      ...                        ...   \n",
      "7519                       1                          0   \n",
      "6645                       1                          0   \n",
      "6573                       0                          1   \n",
      "6641                       1                          0   \n",
      "5704                       1                          0   \n",
      "\n",
      "      Mode_of_Shipment_Flight  Mode_of_Shipment_Road  Mode_of_Shipment_Ship  \n",
      "3615                        0                      0                      1  \n",
      "4383                        1                      0                      0  \n",
      "609                         0                      0                      1  \n",
      "7632                        0                      0                      1  \n",
      "6197                        0                      0                      1  \n",
      "...                       ...                    ...                    ...  \n",
      "7519                        0                      1                      0  \n",
      "6645                        0                      0                      1  \n",
      "6573                        1                      0                      0  \n",
      "6641                        0                      0                      1  \n",
      "5704                        0                      0                      1  \n",
      "\n",
      "[4117 rows x 21 columns]\n"
     ]
    }
   ],
   "source": [
    "#imprimo un muestro usando 2/3 de los datos\n",
    "print(data.sample(frac=2/3))"
   ]
  },
  {
   "cell_type": "markdown",
   "id": "5f5e151d-7044-4971-a238-5d337ed9cac8",
   "metadata": {},
   "source": [
    "### simulacion  + bootstrap\n",
    "replace=True simularia el bootstrap"
   ]
  },
  {
   "cell_type": "code",
   "execution_count": 68,
   "id": "9ea6b9b7-a4e9-413f-b547-d30f31c0f7c2",
   "metadata": {},
   "outputs": [
    {
     "name": "stdout",
     "output_type": "stream",
     "text": [
      "        ID  Customer_care_calls  Customer_rating  Cost_of_the_Product  \\\n",
      "4857  4858            -0.091400         1.417145            -1.249894   \n",
      "7055  7056            -0.937701        -0.000574             0.995509   \n",
      "4957  4958             1.601204         0.708286            -1.270494   \n",
      "8655  8656             2.447506        -1.418293             0.665908   \n",
      "6928  6929             1.601204         0.708286             1.510509   \n",
      "...    ...                  ...              ...                  ...   \n",
      "3260  3261            -0.091400         1.417145             1.242709   \n",
      "3186  3187            -0.937701        -1.418293            -1.847295   \n",
      "3905  3906             0.754902         0.708286            -1.476494   \n",
      "4095  4096            -0.091400        -0.709433             0.542308   \n",
      "3602  3603            -0.937701        -0.709433            -1.311694   \n",
      "\n",
      "      Prior_purchases  Discount_offered  Weight_in_gms  Reached.on.Time_Y.N  \\\n",
      "4857        -0.228692         -0.290940       0.765039                    0   \n",
      "7055         0.811368         -0.829642       1.097003                    1   \n",
      "4957        -0.228692          1.055817       0.904452                    1   \n",
      "8655         0.811368         -0.560291      -1.446803                    1   \n",
      "6928         0.811368          0.517114      -1.423672                    1   \n",
      "...               ...               ...            ...                  ...   \n",
      "3260        -0.228692         -1.368345       0.672514                    1   \n",
      "3186         1.851428          1.055817       0.164878                    0   \n",
      "3905         0.811368         -0.290940       0.923207                    1   \n",
      "4095        -1.268752          0.786466       0.245525                    0   \n",
      "3602        -0.228692          0.247763       0.051098                    1   \n",
      "\n",
      "      Warehouse_block_A  Warehouse_block_B  ...  Warehouse_block_D  \\\n",
      "4857                  0                  1  ...                  0   \n",
      "7055                  0                  0  ...                  0   \n",
      "4957                  0                  0  ...                  0   \n",
      "8655                  0                  1  ...                  0   \n",
      "6928                  0                  0  ...                  0   \n",
      "...                 ...                ...  ...                ...   \n",
      "3260                  1                  0  ...                  0   \n",
      "3186                  0                  0  ...                  1   \n",
      "3905                  0                  0  ...                  0   \n",
      "4095                  0                  1  ...                  0   \n",
      "3602                  1                  0  ...                  0   \n",
      "\n",
      "      Warehouse_block_F  Gender_F  Gender_M  Product_importance_high  \\\n",
      "4857                  0         0         1                        0   \n",
      "7055                  1         0         1                        0   \n",
      "4957                  1         1         0                        0   \n",
      "8655                  0         0         1                        0   \n",
      "6928                  0         1         0                        0   \n",
      "...                 ...       ...       ...                      ...   \n",
      "3260                  0         1         0                        0   \n",
      "3186                  0         1         0                        0   \n",
      "3905                  1         1         0                        1   \n",
      "4095                  0         1         0                        0   \n",
      "3602                  0         1         0                        0   \n",
      "\n",
      "      Product_importance_low  Product_importance_medium  \\\n",
      "4857                       0                          1   \n",
      "7055                       1                          0   \n",
      "4957                       1                          0   \n",
      "8655                       0                          1   \n",
      "6928                       1                          0   \n",
      "...                      ...                        ...   \n",
      "3260                       1                          0   \n",
      "3186                       0                          1   \n",
      "3905                       0                          0   \n",
      "4095                       0                          1   \n",
      "3602                       0                          1   \n",
      "\n",
      "      Mode_of_Shipment_Flight  Mode_of_Shipment_Road  Mode_of_Shipment_Ship  \n",
      "4857                        0                      0                      1  \n",
      "7055                        0                      0                      1  \n",
      "4957                        0                      0                      1  \n",
      "8655                        0                      0                      1  \n",
      "6928                        0                      0                      1  \n",
      "...                       ...                    ...                    ...  \n",
      "3260                        0                      0                      1  \n",
      "3186                        0                      0                      1  \n",
      "3905                        0                      0                      1  \n",
      "4095                        0                      1                      0  \n",
      "3602                        0                      0                      1  \n",
      "\n",
      "[4117 rows x 21 columns]\n"
     ]
    }
   ],
   "source": [
    "print(data.sample(frac=2/3,replace=True))"
   ]
  },
  {
   "cell_type": "markdown",
   "id": "51a33602-894d-4347-993f-318f982a99ec",
   "metadata": {},
   "source": [
    "### Creo un nuevo Df sin los ID y los resultados "
   ]
  },
  {
   "cell_type": "code",
   "execution_count": 69,
   "id": "2795108a-fcb9-42ab-a70e-f057f61a4471",
   "metadata": {},
   "outputs": [],
   "source": [
    "data2=data.drop([\"Reached.on.Time_Y.N\",\"ID\"],axis=1)"
   ]
  },
  {
   "cell_type": "code",
   "execution_count": 70,
   "id": "f2f4fec5-088b-404d-9d70-1c8c08c75962",
   "metadata": {},
   "outputs": [
    {
     "data": {
      "text/html": [
       "<div>\n",
       "<style scoped>\n",
       "    .dataframe tbody tr th:only-of-type {\n",
       "        vertical-align: middle;\n",
       "    }\n",
       "\n",
       "    .dataframe tbody tr th {\n",
       "        vertical-align: top;\n",
       "    }\n",
       "\n",
       "    .dataframe thead th {\n",
       "        text-align: right;\n",
       "    }\n",
       "</style>\n",
       "<table border=\"1\" class=\"dataframe\">\n",
       "  <thead>\n",
       "    <tr style=\"text-align: right;\">\n",
       "      <th></th>\n",
       "      <th>Customer_care_calls</th>\n",
       "      <th>Customer_rating</th>\n",
       "      <th>Cost_of_the_Product</th>\n",
       "      <th>Prior_purchases</th>\n",
       "      <th>Discount_offered</th>\n",
       "      <th>Weight_in_gms</th>\n",
       "      <th>Warehouse_block_A</th>\n",
       "      <th>Warehouse_block_B</th>\n",
       "      <th>Warehouse_block_C</th>\n",
       "      <th>Warehouse_block_D</th>\n",
       "      <th>Warehouse_block_F</th>\n",
       "      <th>Gender_F</th>\n",
       "      <th>Gender_M</th>\n",
       "      <th>Product_importance_high</th>\n",
       "      <th>Product_importance_low</th>\n",
       "      <th>Product_importance_medium</th>\n",
       "      <th>Mode_of_Shipment_Flight</th>\n",
       "      <th>Mode_of_Shipment_Road</th>\n",
       "      <th>Mode_of_Shipment_Ship</th>\n",
       "    </tr>\n",
       "  </thead>\n",
       "  <tbody>\n",
       "    <tr>\n",
       "      <th>3</th>\n",
       "      <td>-0.937701</td>\n",
       "      <td>-0.000574</td>\n",
       "      <td>-0.755493</td>\n",
       "      <td>0.811368</td>\n",
       "      <td>1.055817</td>\n",
       "      <td>-1.744383</td>\n",
       "      <td>0</td>\n",
       "      <td>1</td>\n",
       "      <td>0</td>\n",
       "      <td>0</td>\n",
       "      <td>0</td>\n",
       "      <td>0</td>\n",
       "      <td>1</td>\n",
       "      <td>0</td>\n",
       "      <td>0</td>\n",
       "      <td>1</td>\n",
       "      <td>1</td>\n",
       "      <td>0</td>\n",
       "      <td>0</td>\n",
       "    </tr>\n",
       "    <tr>\n",
       "      <th>5</th>\n",
       "      <td>-0.937701</td>\n",
       "      <td>-1.418293</td>\n",
       "      <td>-1.043894</td>\n",
       "      <td>-0.228692</td>\n",
       "      <td>1.594520</td>\n",
       "      <td>-1.594343</td>\n",
       "      <td>0</td>\n",
       "      <td>0</td>\n",
       "      <td>0</td>\n",
       "      <td>0</td>\n",
       "      <td>1</td>\n",
       "      <td>1</td>\n",
       "      <td>0</td>\n",
       "      <td>0</td>\n",
       "      <td>0</td>\n",
       "      <td>1</td>\n",
       "      <td>1</td>\n",
       "      <td>0</td>\n",
       "      <td>0</td>\n",
       "    </tr>\n",
       "    <tr>\n",
       "      <th>6</th>\n",
       "      <td>-0.937701</td>\n",
       "      <td>0.708286</td>\n",
       "      <td>0.768909</td>\n",
       "      <td>-0.228692</td>\n",
       "      <td>-0.829642</td>\n",
       "      <td>-0.997933</td>\n",
       "      <td>0</td>\n",
       "      <td>0</td>\n",
       "      <td>0</td>\n",
       "      <td>1</td>\n",
       "      <td>0</td>\n",
       "      <td>1</td>\n",
       "      <td>0</td>\n",
       "      <td>0</td>\n",
       "      <td>1</td>\n",
       "      <td>0</td>\n",
       "      <td>1</td>\n",
       "      <td>0</td>\n",
       "      <td>0</td>\n",
       "    </tr>\n",
       "    <tr>\n",
       "      <th>8</th>\n",
       "      <td>-0.937701</td>\n",
       "      <td>0.708286</td>\n",
       "      <td>-1.291094</td>\n",
       "      <td>-0.228692</td>\n",
       "      <td>1.325168</td>\n",
       "      <td>-1.316768</td>\n",
       "      <td>1</td>\n",
       "      <td>0</td>\n",
       "      <td>0</td>\n",
       "      <td>0</td>\n",
       "      <td>0</td>\n",
       "      <td>1</td>\n",
       "      <td>0</td>\n",
       "      <td>0</td>\n",
       "      <td>1</td>\n",
       "      <td>0</td>\n",
       "      <td>1</td>\n",
       "      <td>0</td>\n",
       "      <td>0</td>\n",
       "    </tr>\n",
       "    <tr>\n",
       "      <th>10</th>\n",
       "      <td>-0.937701</td>\n",
       "      <td>0.708286</td>\n",
       "      <td>-0.487693</td>\n",
       "      <td>-1.268752</td>\n",
       "      <td>1.594520</td>\n",
       "      <td>-0.674721</td>\n",
       "      <td>0</td>\n",
       "      <td>0</td>\n",
       "      <td>1</td>\n",
       "      <td>0</td>\n",
       "      <td>0</td>\n",
       "      <td>0</td>\n",
       "      <td>1</td>\n",
       "      <td>0</td>\n",
       "      <td>0</td>\n",
       "      <td>1</td>\n",
       "      <td>1</td>\n",
       "      <td>0</td>\n",
       "      <td>0</td>\n",
       "    </tr>\n",
       "    <tr>\n",
       "      <th>...</th>\n",
       "      <td>...</td>\n",
       "      <td>...</td>\n",
       "      <td>...</td>\n",
       "      <td>...</td>\n",
       "      <td>...</td>\n",
       "      <td>...</td>\n",
       "      <td>...</td>\n",
       "      <td>...</td>\n",
       "      <td>...</td>\n",
       "      <td>...</td>\n",
       "      <td>...</td>\n",
       "      <td>...</td>\n",
       "      <td>...</td>\n",
       "      <td>...</td>\n",
       "      <td>...</td>\n",
       "      <td>...</td>\n",
       "      <td>...</td>\n",
       "      <td>...</td>\n",
       "      <td>...</td>\n",
       "    </tr>\n",
       "    <tr>\n",
       "      <th>8994</th>\n",
       "      <td>-0.937701</td>\n",
       "      <td>-1.418293</td>\n",
       "      <td>0.089108</td>\n",
       "      <td>-0.228692</td>\n",
       "      <td>-1.368345</td>\n",
       "      <td>0.131119</td>\n",
       "      <td>0</td>\n",
       "      <td>0</td>\n",
       "      <td>0</td>\n",
       "      <td>1</td>\n",
       "      <td>0</td>\n",
       "      <td>1</td>\n",
       "      <td>0</td>\n",
       "      <td>0</td>\n",
       "      <td>1</td>\n",
       "      <td>0</td>\n",
       "      <td>0</td>\n",
       "      <td>0</td>\n",
       "      <td>1</td>\n",
       "    </tr>\n",
       "    <tr>\n",
       "      <th>8995</th>\n",
       "      <td>0.754902</td>\n",
       "      <td>-0.000574</td>\n",
       "      <td>0.398108</td>\n",
       "      <td>-0.228692</td>\n",
       "      <td>-0.829642</td>\n",
       "      <td>0.349303</td>\n",
       "      <td>0</td>\n",
       "      <td>0</td>\n",
       "      <td>0</td>\n",
       "      <td>0</td>\n",
       "      <td>1</td>\n",
       "      <td>0</td>\n",
       "      <td>1</td>\n",
       "      <td>0</td>\n",
       "      <td>0</td>\n",
       "      <td>1</td>\n",
       "      <td>0</td>\n",
       "      <td>0</td>\n",
       "      <td>1</td>\n",
       "    </tr>\n",
       "    <tr>\n",
       "      <th>8996</th>\n",
       "      <td>-0.091400</td>\n",
       "      <td>1.417145</td>\n",
       "      <td>0.974909</td>\n",
       "      <td>-0.228692</td>\n",
       "      <td>-0.021588</td>\n",
       "      <td>0.158627</td>\n",
       "      <td>1</td>\n",
       "      <td>0</td>\n",
       "      <td>0</td>\n",
       "      <td>0</td>\n",
       "      <td>0</td>\n",
       "      <td>1</td>\n",
       "      <td>0</td>\n",
       "      <td>0</td>\n",
       "      <td>0</td>\n",
       "      <td>1</td>\n",
       "      <td>0</td>\n",
       "      <td>0</td>\n",
       "      <td>1</td>\n",
       "    </tr>\n",
       "    <tr>\n",
       "      <th>8997</th>\n",
       "      <td>-0.091400</td>\n",
       "      <td>-0.709433</td>\n",
       "      <td>-0.590693</td>\n",
       "      <td>-0.228692</td>\n",
       "      <td>-0.290940</td>\n",
       "      <td>1.227663</td>\n",
       "      <td>0</td>\n",
       "      <td>1</td>\n",
       "      <td>0</td>\n",
       "      <td>0</td>\n",
       "      <td>0</td>\n",
       "      <td>1</td>\n",
       "      <td>0</td>\n",
       "      <td>0</td>\n",
       "      <td>0</td>\n",
       "      <td>1</td>\n",
       "      <td>0</td>\n",
       "      <td>0</td>\n",
       "      <td>1</td>\n",
       "    </tr>\n",
       "    <tr>\n",
       "      <th>8998</th>\n",
       "      <td>0.754902</td>\n",
       "      <td>0.708286</td>\n",
       "      <td>-1.394094</td>\n",
       "      <td>0.811368</td>\n",
       "      <td>-0.560291</td>\n",
       "      <td>0.514347</td>\n",
       "      <td>0</td>\n",
       "      <td>0</td>\n",
       "      <td>1</td>\n",
       "      <td>0</td>\n",
       "      <td>0</td>\n",
       "      <td>0</td>\n",
       "      <td>1</td>\n",
       "      <td>0</td>\n",
       "      <td>1</td>\n",
       "      <td>0</td>\n",
       "      <td>0</td>\n",
       "      <td>0</td>\n",
       "      <td>1</td>\n",
       "    </tr>\n",
       "  </tbody>\n",
       "</table>\n",
       "<p>6176 rows × 19 columns</p>\n",
       "</div>"
      ],
      "text/plain": [
       "      Customer_care_calls  Customer_rating  Cost_of_the_Product  \\\n",
       "3               -0.937701        -0.000574            -0.755493   \n",
       "5               -0.937701        -1.418293            -1.043894   \n",
       "6               -0.937701         0.708286             0.768909   \n",
       "8               -0.937701         0.708286            -1.291094   \n",
       "10              -0.937701         0.708286            -0.487693   \n",
       "...                   ...              ...                  ...   \n",
       "8994            -0.937701        -1.418293             0.089108   \n",
       "8995             0.754902        -0.000574             0.398108   \n",
       "8996            -0.091400         1.417145             0.974909   \n",
       "8997            -0.091400        -0.709433            -0.590693   \n",
       "8998             0.754902         0.708286            -1.394094   \n",
       "\n",
       "      Prior_purchases  Discount_offered  Weight_in_gms  Warehouse_block_A  \\\n",
       "3            0.811368          1.055817      -1.744383                  0   \n",
       "5           -0.228692          1.594520      -1.594343                  0   \n",
       "6           -0.228692         -0.829642      -0.997933                  0   \n",
       "8           -0.228692          1.325168      -1.316768                  1   \n",
       "10          -1.268752          1.594520      -0.674721                  0   \n",
       "...               ...               ...            ...                ...   \n",
       "8994        -0.228692         -1.368345       0.131119                  0   \n",
       "8995        -0.228692         -0.829642       0.349303                  0   \n",
       "8996        -0.228692         -0.021588       0.158627                  1   \n",
       "8997        -0.228692         -0.290940       1.227663                  0   \n",
       "8998         0.811368         -0.560291       0.514347                  0   \n",
       "\n",
       "      Warehouse_block_B  Warehouse_block_C  Warehouse_block_D  \\\n",
       "3                     1                  0                  0   \n",
       "5                     0                  0                  0   \n",
       "6                     0                  0                  1   \n",
       "8                     0                  0                  0   \n",
       "10                    0                  1                  0   \n",
       "...                 ...                ...                ...   \n",
       "8994                  0                  0                  1   \n",
       "8995                  0                  0                  0   \n",
       "8996                  0                  0                  0   \n",
       "8997                  1                  0                  0   \n",
       "8998                  0                  1                  0   \n",
       "\n",
       "      Warehouse_block_F  Gender_F  Gender_M  Product_importance_high  \\\n",
       "3                     0         0         1                        0   \n",
       "5                     1         1         0                        0   \n",
       "6                     0         1         0                        0   \n",
       "8                     0         1         0                        0   \n",
       "10                    0         0         1                        0   \n",
       "...                 ...       ...       ...                      ...   \n",
       "8994                  0         1         0                        0   \n",
       "8995                  1         0         1                        0   \n",
       "8996                  0         1         0                        0   \n",
       "8997                  0         1         0                        0   \n",
       "8998                  0         0         1                        0   \n",
       "\n",
       "      Product_importance_low  Product_importance_medium  \\\n",
       "3                          0                          1   \n",
       "5                          0                          1   \n",
       "6                          1                          0   \n",
       "8                          1                          0   \n",
       "10                         0                          1   \n",
       "...                      ...                        ...   \n",
       "8994                       1                          0   \n",
       "8995                       0                          1   \n",
       "8996                       0                          1   \n",
       "8997                       0                          1   \n",
       "8998                       1                          0   \n",
       "\n",
       "      Mode_of_Shipment_Flight  Mode_of_Shipment_Road  Mode_of_Shipment_Ship  \n",
       "3                           1                      0                      0  \n",
       "5                           1                      0                      0  \n",
       "6                           1                      0                      0  \n",
       "8                           1                      0                      0  \n",
       "10                          1                      0                      0  \n",
       "...                       ...                    ...                    ...  \n",
       "8994                        0                      0                      1  \n",
       "8995                        0                      0                      1  \n",
       "8996                        0                      0                      1  \n",
       "8997                        0                      0                      1  \n",
       "8998                        0                      0                      1  \n",
       "\n",
       "[6176 rows x 19 columns]"
      ]
     },
     "execution_count": 70,
     "metadata": {},
     "output_type": "execute_result"
    }
   ],
   "source": [
    "data2"
   ]
  },
  {
   "cell_type": "markdown",
   "id": "5e093ffc-0034-4a41-8553-65d5eafe6100",
   "metadata": {},
   "source": [
    "# Creación de Bosque Aleatorio(Random Forest)"
   ]
  },
  {
   "cell_type": "code",
   "execution_count": 71,
   "id": "d9dd6e0d-4798-412f-bf2a-6f37202e89e0",
   "metadata": {},
   "outputs": [],
   "source": [
    "#Importamos RandomForestClassifier para crear  Random Forest\n",
    "from random import sample\n",
    "from sklearn.ensemble import RandomForestClassifier"
   ]
  },
  {
   "cell_type": "code",
   "execution_count": 72,
   "id": "1d7bd62a-5740-4156-9011-45f7821d14a4",
   "metadata": {},
   "outputs": [
    {
     "data": {
      "text/html": [
       "<style>#sk-container-id-1 {color: black;background-color: white;}#sk-container-id-1 pre{padding: 0;}#sk-container-id-1 div.sk-toggleable {background-color: white;}#sk-container-id-1 label.sk-toggleable__label {cursor: pointer;display: block;width: 100%;margin-bottom: 0;padding: 0.3em;box-sizing: border-box;text-align: center;}#sk-container-id-1 label.sk-toggleable__label-arrow:before {content: \"▸\";float: left;margin-right: 0.25em;color: #696969;}#sk-container-id-1 label.sk-toggleable__label-arrow:hover:before {color: black;}#sk-container-id-1 div.sk-estimator:hover label.sk-toggleable__label-arrow:before {color: black;}#sk-container-id-1 div.sk-toggleable__content {max-height: 0;max-width: 0;overflow: hidden;text-align: left;background-color: #f0f8ff;}#sk-container-id-1 div.sk-toggleable__content pre {margin: 0.2em;color: black;border-radius: 0.25em;background-color: #f0f8ff;}#sk-container-id-1 input.sk-toggleable__control:checked~div.sk-toggleable__content {max-height: 200px;max-width: 100%;overflow: auto;}#sk-container-id-1 input.sk-toggleable__control:checked~label.sk-toggleable__label-arrow:before {content: \"▾\";}#sk-container-id-1 div.sk-estimator input.sk-toggleable__control:checked~label.sk-toggleable__label {background-color: #d4ebff;}#sk-container-id-1 div.sk-label input.sk-toggleable__control:checked~label.sk-toggleable__label {background-color: #d4ebff;}#sk-container-id-1 input.sk-hidden--visually {border: 0;clip: rect(1px 1px 1px 1px);clip: rect(1px, 1px, 1px, 1px);height: 1px;margin: -1px;overflow: hidden;padding: 0;position: absolute;width: 1px;}#sk-container-id-1 div.sk-estimator {font-family: monospace;background-color: #f0f8ff;border: 1px dotted black;border-radius: 0.25em;box-sizing: border-box;margin-bottom: 0.5em;}#sk-container-id-1 div.sk-estimator:hover {background-color: #d4ebff;}#sk-container-id-1 div.sk-parallel-item::after {content: \"\";width: 100%;border-bottom: 1px solid gray;flex-grow: 1;}#sk-container-id-1 div.sk-label:hover label.sk-toggleable__label {background-color: #d4ebff;}#sk-container-id-1 div.sk-serial::before {content: \"\";position: absolute;border-left: 1px solid gray;box-sizing: border-box;top: 0;bottom: 0;left: 50%;z-index: 0;}#sk-container-id-1 div.sk-serial {display: flex;flex-direction: column;align-items: center;background-color: white;padding-right: 0.2em;padding-left: 0.2em;position: relative;}#sk-container-id-1 div.sk-item {position: relative;z-index: 1;}#sk-container-id-1 div.sk-parallel {display: flex;align-items: stretch;justify-content: center;background-color: white;position: relative;}#sk-container-id-1 div.sk-item::before, #sk-container-id-1 div.sk-parallel-item::before {content: \"\";position: absolute;border-left: 1px solid gray;box-sizing: border-box;top: 0;bottom: 0;left: 50%;z-index: -1;}#sk-container-id-1 div.sk-parallel-item {display: flex;flex-direction: column;z-index: 1;position: relative;background-color: white;}#sk-container-id-1 div.sk-parallel-item:first-child::after {align-self: flex-end;width: 50%;}#sk-container-id-1 div.sk-parallel-item:last-child::after {align-self: flex-start;width: 50%;}#sk-container-id-1 div.sk-parallel-item:only-child::after {width: 0;}#sk-container-id-1 div.sk-dashed-wrapped {border: 1px dashed gray;margin: 0 0.4em 0.5em 0.4em;box-sizing: border-box;padding-bottom: 0.4em;background-color: white;}#sk-container-id-1 div.sk-label label {font-family: monospace;font-weight: bold;display: inline-block;line-height: 1.2em;}#sk-container-id-1 div.sk-label-container {text-align: center;}#sk-container-id-1 div.sk-container {/* jupyter's `normalize.less` sets `[hidden] { display: none; }` but bootstrap.min.css set `[hidden] { display: none !important; }` so we also need the `!important` here to be able to override the default hidden behavior on the sphinx rendered scikit-learn.org. See: https://github.com/scikit-learn/scikit-learn/issues/21755 */display: inline-block !important;position: relative;}#sk-container-id-1 div.sk-text-repr-fallback {display: none;}</style><div id=\"sk-container-id-1\" class=\"sk-top-container\"><div class=\"sk-text-repr-fallback\"><pre>RandomForestClassifier(max_samples=0.3333333333333333, n_estimators=150,\n",
       "                       oob_score=True)</pre><b>In a Jupyter environment, please rerun this cell to show the HTML representation or trust the notebook. <br />On GitHub, the HTML representation is unable to render, please try loading this page with nbviewer.org.</b></div><div class=\"sk-container\" hidden><div class=\"sk-item\"><div class=\"sk-estimator sk-toggleable\"><input class=\"sk-toggleable__control sk-hidden--visually\" id=\"sk-estimator-id-1\" type=\"checkbox\" checked><label for=\"sk-estimator-id-1\" class=\"sk-toggleable__label sk-toggleable__label-arrow\">RandomForestClassifier</label><div class=\"sk-toggleable__content\"><pre>RandomForestClassifier(max_samples=0.3333333333333333, n_estimators=150,\n",
       "                       oob_score=True)</pre></div></div></div></div></div>"
      ],
      "text/plain": [
       "RandomForestClassifier(max_samples=0.3333333333333333, n_estimators=150,\n",
       "                       oob_score=True)"
      ]
     },
     "execution_count": 72,
     "metadata": {},
     "output_type": "execute_result"
    }
   ],
   "source": [
    "Forest = RandomForestClassifier(n_estimators=150,\n",
    "                               criterion=\"gini\",\n",
    "                               max_features=\"sqrt\",\n",
    "                               bootstrap=True,\n",
    "                               max_samples=1/3,\n",
    "                               oob_score=True)\n",
    "Forest.fit(data2.values, data[\"Reached.on.Time_Y.N\"].values)"
   ]
  },
  {
   "cell_type": "markdown",
   "id": "6c1d0414-1bba-4205-b2ea-b2b63ae75359",
   "metadata": {},
   "source": [
    "#### Compruebo la precisión con los datos  que quedaron fuera de la bolsa(oob)  "
   ]
  },
  {
   "cell_type": "markdown",
   "id": "1e066e85-cec1-49aa-bc11-c0a6c8b74e2d",
   "metadata": {},
   "source": [
    "Datos que no se usaron para entrenar 2/3 de los totales"
   ]
  },
  {
   "cell_type": "code",
   "execution_count": 73,
   "id": "c710db00-6e64-48a6-b12b-fe1f4fab19e3",
   "metadata": {},
   "outputs": [
    {
     "name": "stdout",
     "output_type": "stream",
     "text": [
      "0.5934261658031088\n"
     ]
    }
   ],
   "source": [
    "print(Forest.oob_score_)"
   ]
  },
  {
   "cell_type": "markdown",
   "id": "e8c9af56-754b-421c-9a9f-ef8cb0d09d9d",
   "metadata": {},
   "source": [
    "#### Compruebo la precisión con el mismo df esperando obtener cerca al 100%  con 1/3"
   ]
  },
  {
   "cell_type": "code",
   "execution_count": 74,
   "id": "35967929-db3f-469c-a8b2-27fc209e5481",
   "metadata": {},
   "outputs": [
    {
     "name": "stdout",
     "output_type": "stream",
     "text": [
      "0.9690738341968912\n"
     ]
    }
   ],
   "source": [
    "print(Forest.score(data2.values,data[\"Reached.on.Time_Y.N\"].values))"
   ]
  },
  {
   "cell_type": "markdown",
   "id": "7b629e46",
   "metadata": {},
   "source": [
    "Un pequeño experimento con valores aleatorios"
   ]
  },
  {
   "cell_type": "code",
   "execution_count": 78,
   "id": "42c039a0-269b-43f3-aed3-a3f7fcf1d5da",
   "metadata": {},
   "outputs": [
    {
     "name": "stdout",
     "output_type": "stream",
     "text": [
      "[1]\n"
     ]
    }
   ],
   "source": [
    "print(Forest.predict([[0,1,1,1,4,0.171508,1.851428,2, 0.517114,0.339925,1,0.708286,0,0,0,0,1,0,1 ]]))"
   ]
  },
  {
   "cell_type": "markdown",
   "id": "bcfedbf0",
   "metadata": {},
   "source": [
    "Ahora predice los resultados para el dataframe \"data 2\""
   ]
  },
  {
   "cell_type": "code",
   "execution_count": 79,
   "id": "15f58e12-ce10-4ee2-8dc5-876874613b1b",
   "metadata": {},
   "outputs": [
    {
     "name": "stdout",
     "output_type": "stream",
     "text": [
      "[1 1 1 ... 0 0 0]\n"
     ]
    },
    {
     "name": "stderr",
     "output_type": "stream",
     "text": [
      "c:\\Users\\USER\\AppData\\Local\\Programs\\Python\\Python39\\lib\\site-packages\\sklearn\\base.py:443: UserWarning: X has feature names, but RandomForestClassifier was fitted without feature names\n",
      "  warnings.warn(\n"
     ]
    }
   ],
   "source": [
    "print(Forest.predict(data2[data2.columns[:]]))"
   ]
  },
  {
   "cell_type": "markdown",
   "id": "da1b1d2b",
   "metadata": {},
   "source": [
    "#### Usamos una matrix de confusion"
   ]
  },
  {
   "cell_type": "code",
   "execution_count": 80,
   "id": "5a7b1ba5",
   "metadata": {},
   "outputs": [],
   "source": [
    "from sklearn.metrics import confusion_matrix"
   ]
  },
  {
   "cell_type": "code",
   "execution_count": 81,
   "id": "791a1f8c",
   "metadata": {},
   "outputs": [
    {
     "name": "stderr",
     "output_type": "stream",
     "text": [
      "c:\\Users\\USER\\AppData\\Local\\Programs\\Python\\Python39\\lib\\site-packages\\sklearn\\base.py:443: UserWarning: X has feature names, but RandomForestClassifier was fitted without feature names\n",
      "  warnings.warn(\n"
     ]
    }
   ],
   "source": [
    "#matrix de confusion simple\n",
    "y_pred=(Forest.predict(data2[data2.columns[:]]))\n",
    "confm=confusion_matrix(data[\"Reached.on.Time_Y.N\"].values,y_pred)"
   ]
  },
  {
   "cell_type": "code",
   "execution_count": 82,
   "id": "943e12d4",
   "metadata": {},
   "outputs": [
    {
     "data": {
      "image/png": "[encoded data removed]",
      "text/plain": [
       "<Figure size 432x288 with 2 Axes>"
      ]
     },
     "metadata": {
      "needs_background": "light"
     },
     "output_type": "display_data"
    }
   ],
   "source": [
    "#matrix de confusion con grafica\n",
    "df_cm=pd.DataFrame(confm)\n",
    "grafica=sns.heatmap(df_cm,cmap=\"Pastel1\")\n",
    "grafica.set(xlabel=\"Verdaderos\",ylabel=\"Predicciones\")\n",
    "plt.show()"
   ]
  },
  {
   "cell_type": "markdown",
   "id": "360541a6-597f-47fb-b9f2-08df127fa70d",
   "metadata": {},
   "source": [
    "# Usaremos el archivo E-Commerce_test para predecir sus resultados"
   ]
  },
  {
   "cell_type": "markdown",
   "id": "1c1c505f",
   "metadata": {},
   "source": [
    "#### Haremos el Preprocesamiento de datos (sin detalles)"
   ]
  },
  {
   "cell_type": "code",
   "execution_count": 83,
   "id": "9760a371-2f2d-418e-aef6-d1e96927026f",
   "metadata": {},
   "outputs": [],
   "source": [
    "# Primero revisamos el archivo\n",
    "test = pd.read_excel(\"E-Commerce_test.xlsx\")"
   ]
  },
  {
   "cell_type": "code",
   "execution_count": 84,
   "id": "4dfca67b-425c-468f-a33f-5e845ef63136",
   "metadata": {},
   "outputs": [],
   "source": [
    "#Eliminamos la columna ID\n",
    "test.drop(\"ID\",axis=1,inplace=True)"
   ]
  },
  {
   "cell_type": "code",
   "execution_count": 85,
   "id": "619a3036-edb4-43ba-ba47-b5b1b8465831",
   "metadata": {},
   "outputs": [
    {
     "data": {
      "text/html": [
       "<div>\n",
       "<style scoped>\n",
       "    .dataframe tbody tr th:only-of-type {\n",
       "        vertical-align: middle;\n",
       "    }\n",
       "\n",
       "    .dataframe tbody tr th {\n",
       "        vertical-align: top;\n",
       "    }\n",
       "\n",
       "    .dataframe thead th {\n",
       "        text-align: right;\n",
       "    }\n",
       "</style>\n",
       "<table border=\"1\" class=\"dataframe\">\n",
       "  <thead>\n",
       "    <tr style=\"text-align: right;\">\n",
       "      <th></th>\n",
       "      <th>Warehouse_block</th>\n",
       "      <th>Mode_of_Shipment</th>\n",
       "      <th>Customer_care_calls</th>\n",
       "      <th>Customer_rating</th>\n",
       "      <th>Cost_of_the_Product</th>\n",
       "      <th>Prior_purchases</th>\n",
       "      <th>Product_importance</th>\n",
       "      <th>Gender</th>\n",
       "      <th>Discount_offered</th>\n",
       "      <th>Weight_in_gms</th>\n",
       "    </tr>\n",
       "  </thead>\n",
       "  <tbody>\n",
       "    <tr>\n",
       "      <th>0</th>\n",
       "      <td>F</td>\n",
       "      <td>Ship</td>\n",
       "      <td>5</td>\n",
       "      <td>1</td>\n",
       "      <td>189</td>\n",
       "      <td>2</td>\n",
       "      <td>medium</td>\n",
       "      <td>M</td>\n",
       "      <td>10</td>\n",
       "      <td>5248</td>\n",
       "    </tr>\n",
       "    <tr>\n",
       "      <th>1</th>\n",
       "      <td>D</td>\n",
       "      <td>Ship</td>\n",
       "      <td>5</td>\n",
       "      <td>3</td>\n",
       "      <td>150</td>\n",
       "      <td>2</td>\n",
       "      <td>high</td>\n",
       "      <td>F</td>\n",
       "      <td>9</td>\n",
       "      <td>4446</td>\n",
       "    </tr>\n",
       "    <tr>\n",
       "      <th>2</th>\n",
       "      <td>F</td>\n",
       "      <td>Ship</td>\n",
       "      <td>3</td>\n",
       "      <td>3</td>\n",
       "      <td>200</td>\n",
       "      <td>3</td>\n",
       "      <td>low</td>\n",
       "      <td>M</td>\n",
       "      <td>3</td>\n",
       "      <td>5739</td>\n",
       "    </tr>\n",
       "    <tr>\n",
       "      <th>3</th>\n",
       "      <td>A</td>\n",
       "      <td>Ship</td>\n",
       "      <td>5</td>\n",
       "      <td>1</td>\n",
       "      <td>133</td>\n",
       "      <td>2</td>\n",
       "      <td>medium</td>\n",
       "      <td>M</td>\n",
       "      <td>1</td>\n",
       "      <td>4643</td>\n",
       "    </tr>\n",
       "    <tr>\n",
       "      <th>4</th>\n",
       "      <td>B</td>\n",
       "      <td>Ship</td>\n",
       "      <td>4</td>\n",
       "      <td>2</td>\n",
       "      <td>260</td>\n",
       "      <td>3</td>\n",
       "      <td>low</td>\n",
       "      <td>M</td>\n",
       "      <td>4</td>\n",
       "      <td>5504</td>\n",
       "    </tr>\n",
       "    <tr>\n",
       "      <th>...</th>\n",
       "      <td>...</td>\n",
       "      <td>...</td>\n",
       "      <td>...</td>\n",
       "      <td>...</td>\n",
       "      <td>...</td>\n",
       "      <td>...</td>\n",
       "      <td>...</td>\n",
       "      <td>...</td>\n",
       "      <td>...</td>\n",
       "      <td>...</td>\n",
       "    </tr>\n",
       "    <tr>\n",
       "      <th>1995</th>\n",
       "      <td>A</td>\n",
       "      <td>Ship</td>\n",
       "      <td>4</td>\n",
       "      <td>1</td>\n",
       "      <td>252</td>\n",
       "      <td>5</td>\n",
       "      <td>medium</td>\n",
       "      <td>F</td>\n",
       "      <td>1</td>\n",
       "      <td>1538</td>\n",
       "    </tr>\n",
       "    <tr>\n",
       "      <th>1996</th>\n",
       "      <td>B</td>\n",
       "      <td>Ship</td>\n",
       "      <td>4</td>\n",
       "      <td>1</td>\n",
       "      <td>232</td>\n",
       "      <td>5</td>\n",
       "      <td>medium</td>\n",
       "      <td>F</td>\n",
       "      <td>6</td>\n",
       "      <td>1247</td>\n",
       "    </tr>\n",
       "    <tr>\n",
       "      <th>1997</th>\n",
       "      <td>C</td>\n",
       "      <td>Ship</td>\n",
       "      <td>5</td>\n",
       "      <td>4</td>\n",
       "      <td>242</td>\n",
       "      <td>5</td>\n",
       "      <td>low</td>\n",
       "      <td>F</td>\n",
       "      <td>4</td>\n",
       "      <td>1155</td>\n",
       "    </tr>\n",
       "    <tr>\n",
       "      <th>1998</th>\n",
       "      <td>F</td>\n",
       "      <td>Ship</td>\n",
       "      <td>5</td>\n",
       "      <td>2</td>\n",
       "      <td>223</td>\n",
       "      <td>6</td>\n",
       "      <td>medium</td>\n",
       "      <td>M</td>\n",
       "      <td>2</td>\n",
       "      <td>1210</td>\n",
       "    </tr>\n",
       "    <tr>\n",
       "      <th>1999</th>\n",
       "      <td>D</td>\n",
       "      <td>Ship</td>\n",
       "      <td>2</td>\n",
       "      <td>5</td>\n",
       "      <td>155</td>\n",
       "      <td>5</td>\n",
       "      <td>low</td>\n",
       "      <td>F</td>\n",
       "      <td>6</td>\n",
       "      <td>1639</td>\n",
       "    </tr>\n",
       "  </tbody>\n",
       "</table>\n",
       "<p>2000 rows × 10 columns</p>\n",
       "</div>"
      ],
      "text/plain": [
       "     Warehouse_block Mode_of_Shipment  Customer_care_calls  Customer_rating  \\\n",
       "0                  F             Ship                    5                1   \n",
       "1                  D             Ship                    5                3   \n",
       "2                  F             Ship                    3                3   \n",
       "3                  A             Ship                    5                1   \n",
       "4                  B             Ship                    4                2   \n",
       "...              ...              ...                  ...              ...   \n",
       "1995               A             Ship                    4                1   \n",
       "1996               B             Ship                    4                1   \n",
       "1997               C             Ship                    5                4   \n",
       "1998               F             Ship                    5                2   \n",
       "1999               D             Ship                    2                5   \n",
       "\n",
       "      Cost_of_the_Product  Prior_purchases Product_importance Gender  \\\n",
       "0                     189                2             medium      M   \n",
       "1                     150                2               high      F   \n",
       "2                     200                3                low      M   \n",
       "3                     133                2             medium      M   \n",
       "4                     260                3                low      M   \n",
       "...                   ...              ...                ...    ...   \n",
       "1995                  252                5             medium      F   \n",
       "1996                  232                5             medium      F   \n",
       "1997                  242                5                low      F   \n",
       "1998                  223                6             medium      M   \n",
       "1999                  155                5                low      F   \n",
       "\n",
       "      Discount_offered  Weight_in_gms  \n",
       "0                   10           5248  \n",
       "1                    9           4446  \n",
       "2                    3           5739  \n",
       "3                    1           4643  \n",
       "4                    4           5504  \n",
       "...                ...            ...  \n",
       "1995                 1           1538  \n",
       "1996                 6           1247  \n",
       "1997                 4           1155  \n",
       "1998                 2           1210  \n",
       "1999                 6           1639  \n",
       "\n",
       "[2000 rows x 10 columns]"
      ]
     },
     "execution_count": 85,
     "metadata": {},
     "output_type": "execute_result"
    }
   ],
   "source": [
    "test"
   ]
  },
  {
   "cell_type": "markdown",
   "id": "6458a5bb-f6d1-4f09-9207-71b7f033a797",
   "metadata": {},
   "source": [
    "#### Dejare los outliers por que en la consigna piden 2000 resultados"
   ]
  },
  {
   "cell_type": "code",
   "execution_count": 86,
   "id": "b8f26018-1e4c-483c-a882-bacfac60d707",
   "metadata": {},
   "outputs": [
    {
     "data": {
      "text/html": [
       "<div>\n",
       "<style scoped>\n",
       "    .dataframe tbody tr th:only-of-type {\n",
       "        vertical-align: middle;\n",
       "    }\n",
       "\n",
       "    .dataframe tbody tr th {\n",
       "        vertical-align: top;\n",
       "    }\n",
       "\n",
       "    .dataframe thead th {\n",
       "        text-align: right;\n",
       "    }\n",
       "</style>\n",
       "<table border=\"1\" class=\"dataframe\">\n",
       "  <thead>\n",
       "    <tr style=\"text-align: right;\">\n",
       "      <th></th>\n",
       "      <th>Warehouse_block</th>\n",
       "      <th>Mode_of_Shipment</th>\n",
       "      <th>Customer_care_calls</th>\n",
       "      <th>Customer_rating</th>\n",
       "      <th>Cost_of_the_Product</th>\n",
       "      <th>Prior_purchases</th>\n",
       "      <th>Product_importance</th>\n",
       "      <th>Gender</th>\n",
       "      <th>Discount_offered</th>\n",
       "      <th>Weight_in_gms</th>\n",
       "    </tr>\n",
       "  </thead>\n",
       "  <tbody>\n",
       "  </tbody>\n",
       "</table>\n",
       "</div>"
      ],
      "text/plain": [
       "Empty DataFrame\n",
       "Columns: [Warehouse_block, Mode_of_Shipment, Customer_care_calls, Customer_rating, Cost_of_the_Product, Prior_purchases, Product_importance, Gender, Discount_offered, Weight_in_gms]\n",
       "Index: []"
      ]
     },
     "execution_count": 86,
     "metadata": {},
     "output_type": "execute_result"
    }
   ],
   "source": [
    "#Buscamos si tenemos instancias duplicadas. Esto lo hacemos de la siguiente manera.\n",
    "test[test.duplicated()]"
   ]
  },
  {
   "cell_type": "code",
   "execution_count": 87,
   "id": "61361896-79fe-4ab8-acb0-4235acf0232e",
   "metadata": {},
   "outputs": [
    {
     "data": {
      "image/png": "[encoded data removed]",
      "text/plain": [
       "<Figure size 1800x720 with 3 Axes>"
      ]
     },
     "metadata": {
      "needs_background": "light"
     },
     "output_type": "display_data"
    }
   ],
   "source": [
    "#Reviso si hay valores faltantes\n",
    "msno.bar(test)\n",
    "plt.show()"
   ]
  },
  {
   "cell_type": "markdown",
   "id": "1bef6111-a99f-424a-b55f-28d2d43285c3",
   "metadata": {},
   "source": [
    "#### Escalado/normalización (Para este método, usamos MinMaxScaler de Scikit-learn)"
   ]
  },
  {
   "cell_type": "markdown",
   "id": "0cc2d858",
   "metadata": {},
   "source": [
    "######  Lo usamos para transformar todos los valores en el rango entre (0 a 1)"
   ]
  },
  {
   "cell_type": "code",
   "execution_count": 88,
   "id": "6b342dd1-aa96-4daa-b3fc-6b310e6de514",
   "metadata": {},
   "outputs": [],
   "source": [
    "# Escalamos Discount_offered(test)\n",
    "\n",
    "scaler = StandardScaler()\n",
    "\n",
    "scaler.fit(test[['Discount_offered']])\n",
    "\n",
    "test['Discount_offered'] = scaler.transform(test[['Discount_offered']])"
   ]
  },
  {
   "cell_type": "code",
   "execution_count": 89,
   "id": "f6e57c17-71b4-4c29-be06-266f796df4f6",
   "metadata": {},
   "outputs": [],
   "source": [
    "# Escalamos Prior_purchases(test)\n",
    "\n",
    "scaler = StandardScaler()\n",
    "\n",
    "scaler.fit(test[['Prior_purchases']])\n",
    "\n",
    "test[\"Prior_purchases\"] = scaler.transform(test[['Prior_purchases']])"
   ]
  },
  {
   "cell_type": "code",
   "execution_count": 90,
   "id": "a9644a10-eae0-4feb-9ce2-c0a762eb1f3f",
   "metadata": {},
   "outputs": [],
   "source": [
    "# Escalamos Cost_of_the_Product(test)\n",
    "\n",
    "scaler = StandardScaler()\n",
    "\n",
    "scaler.fit(test[['Cost_of_the_Product']])\n",
    "\n",
    "test[\"Cost_of_the_Product\"] = scaler.transform(test[['Cost_of_the_Product']])"
   ]
  },
  {
   "cell_type": "code",
   "execution_count": 91,
   "id": "ff2f2693-06cc-4816-be89-068d764a9024",
   "metadata": {},
   "outputs": [],
   "source": [
    "# Escalamos Customer_care_calls(test)\n",
    "\n",
    "scaler = StandardScaler()\n",
    "\n",
    "scaler.fit(test[['Customer_care_calls']])\n",
    "\n",
    "test[\"Customer_care_calls\"] = scaler.transform(test[['Customer_care_calls']])"
   ]
  },
  {
   "cell_type": "code",
   "execution_count": 92,
   "id": "db192305-e036-4d67-a083-b44acfebc170",
   "metadata": {},
   "outputs": [],
   "source": [
    "# Escalamos Customer_rating(test)\n",
    "\n",
    "scaler = StandardScaler()\n",
    "\n",
    "scaler.fit(test[['Customer_rating']])\n",
    "\n",
    "test[\"Customer_rating\"] = scaler.transform(test[['Customer_rating']])"
   ]
  },
  {
   "cell_type": "code",
   "execution_count": 93,
   "id": "6a587888-21fd-4e77-afe3-4d8ecee09a38",
   "metadata": {},
   "outputs": [],
   "source": [
    "# Escalamos Weight_in_gms(test)\n",
    "\n",
    "scaler = StandardScaler()\n",
    "\n",
    "scaler.fit(test[['Weight_in_gms']])\n",
    "\n",
    "test[\"Weight_in_gms\"] = scaler.transform(test[['Weight_in_gms']])"
   ]
  },
  {
   "cell_type": "code",
   "execution_count": 94,
   "id": "f4fa0165-6323-4714-8430-65515e5837d5",
   "metadata": {},
   "outputs": [
    {
     "data": {
      "text/html": [
       "<div>\n",
       "<style scoped>\n",
       "    .dataframe tbody tr th:only-of-type {\n",
       "        vertical-align: middle;\n",
       "    }\n",
       "\n",
       "    .dataframe tbody tr th {\n",
       "        vertical-align: top;\n",
       "    }\n",
       "\n",
       "    .dataframe thead th {\n",
       "        text-align: right;\n",
       "    }\n",
       "</style>\n",
       "<table border=\"1\" class=\"dataframe\">\n",
       "  <thead>\n",
       "    <tr style=\"text-align: right;\">\n",
       "      <th></th>\n",
       "      <th>Warehouse_block</th>\n",
       "      <th>Mode_of_Shipment</th>\n",
       "      <th>Customer_care_calls</th>\n",
       "      <th>Customer_rating</th>\n",
       "      <th>Cost_of_the_Product</th>\n",
       "      <th>Prior_purchases</th>\n",
       "      <th>Product_importance</th>\n",
       "      <th>Gender</th>\n",
       "      <th>Discount_offered</th>\n",
       "      <th>Weight_in_gms</th>\n",
       "    </tr>\n",
       "  </thead>\n",
       "  <tbody>\n",
       "    <tr>\n",
       "      <th>0</th>\n",
       "      <td>F</td>\n",
       "      <td>Ship</td>\n",
       "      <td>0.676389</td>\n",
       "      <td>-1.392091</td>\n",
       "      <td>-0.616410</td>\n",
       "      <td>-1.251576</td>\n",
       "      <td>medium</td>\n",
       "      <td>M</td>\n",
       "      <td>1.510350</td>\n",
       "      <td>0.814459</td>\n",
       "    </tr>\n",
       "    <tr>\n",
       "      <th>1</th>\n",
       "      <td>D</td>\n",
       "      <td>Ship</td>\n",
       "      <td>0.676389</td>\n",
       "      <td>0.020841</td>\n",
       "      <td>-1.458294</td>\n",
       "      <td>-1.251576</td>\n",
       "      <td>high</td>\n",
       "      <td>F</td>\n",
       "      <td>1.165993</td>\n",
       "      <td>0.344728</td>\n",
       "    </tr>\n",
       "    <tr>\n",
       "      <th>2</th>\n",
       "      <td>F</td>\n",
       "      <td>Ship</td>\n",
       "      <td>-1.083894</td>\n",
       "      <td>0.020841</td>\n",
       "      <td>-0.378956</td>\n",
       "      <td>-0.563897</td>\n",
       "      <td>low</td>\n",
       "      <td>M</td>\n",
       "      <td>-0.900149</td>\n",
       "      <td>1.102038</td>\n",
       "    </tr>\n",
       "    <tr>\n",
       "      <th>3</th>\n",
       "      <td>A</td>\n",
       "      <td>Ship</td>\n",
       "      <td>0.676389</td>\n",
       "      <td>-1.392091</td>\n",
       "      <td>-1.825269</td>\n",
       "      <td>-1.251576</td>\n",
       "      <td>medium</td>\n",
       "      <td>M</td>\n",
       "      <td>-1.588863</td>\n",
       "      <td>0.460111</td>\n",
       "    </tr>\n",
       "    <tr>\n",
       "      <th>4</th>\n",
       "      <td>B</td>\n",
       "      <td>Ship</td>\n",
       "      <td>-0.203753</td>\n",
       "      <td>-0.685625</td>\n",
       "      <td>0.916250</td>\n",
       "      <td>-0.563897</td>\n",
       "      <td>low</td>\n",
       "      <td>M</td>\n",
       "      <td>-0.555792</td>\n",
       "      <td>0.964399</td>\n",
       "    </tr>\n",
       "    <tr>\n",
       "      <th>...</th>\n",
       "      <td>...</td>\n",
       "      <td>...</td>\n",
       "      <td>...</td>\n",
       "      <td>...</td>\n",
       "      <td>...</td>\n",
       "      <td>...</td>\n",
       "      <td>...</td>\n",
       "      <td>...</td>\n",
       "      <td>...</td>\n",
       "      <td>...</td>\n",
       "    </tr>\n",
       "    <tr>\n",
       "      <th>1995</th>\n",
       "      <td>A</td>\n",
       "      <td>Ship</td>\n",
       "      <td>-0.203753</td>\n",
       "      <td>-1.392091</td>\n",
       "      <td>0.743556</td>\n",
       "      <td>0.811461</td>\n",
       "      <td>medium</td>\n",
       "      <td>F</td>\n",
       "      <td>-1.588863</td>\n",
       "      <td>-1.358489</td>\n",
       "    </tr>\n",
       "    <tr>\n",
       "      <th>1996</th>\n",
       "      <td>B</td>\n",
       "      <td>Ship</td>\n",
       "      <td>-0.203753</td>\n",
       "      <td>-1.392091</td>\n",
       "      <td>0.311821</td>\n",
       "      <td>0.811461</td>\n",
       "      <td>medium</td>\n",
       "      <td>F</td>\n",
       "      <td>0.132922</td>\n",
       "      <td>-1.528928</td>\n",
       "    </tr>\n",
       "    <tr>\n",
       "      <th>1997</th>\n",
       "      <td>C</td>\n",
       "      <td>Ship</td>\n",
       "      <td>0.676389</td>\n",
       "      <td>0.727307</td>\n",
       "      <td>0.527688</td>\n",
       "      <td>0.811461</td>\n",
       "      <td>low</td>\n",
       "      <td>F</td>\n",
       "      <td>-0.555792</td>\n",
       "      <td>-1.582812</td>\n",
       "    </tr>\n",
       "    <tr>\n",
       "      <th>1998</th>\n",
       "      <td>F</td>\n",
       "      <td>Ship</td>\n",
       "      <td>0.676389</td>\n",
       "      <td>-0.685625</td>\n",
       "      <td>0.117540</td>\n",
       "      <td>1.499141</td>\n",
       "      <td>medium</td>\n",
       "      <td>M</td>\n",
       "      <td>-1.244506</td>\n",
       "      <td>-1.550599</td>\n",
       "    </tr>\n",
       "    <tr>\n",
       "      <th>1999</th>\n",
       "      <td>D</td>\n",
       "      <td>Ship</td>\n",
       "      <td>-1.964035</td>\n",
       "      <td>1.433773</td>\n",
       "      <td>-1.350360</td>\n",
       "      <td>0.811461</td>\n",
       "      <td>low</td>\n",
       "      <td>F</td>\n",
       "      <td>0.132922</td>\n",
       "      <td>-1.299333</td>\n",
       "    </tr>\n",
       "  </tbody>\n",
       "</table>\n",
       "<p>2000 rows × 10 columns</p>\n",
       "</div>"
      ],
      "text/plain": [
       "     Warehouse_block Mode_of_Shipment  Customer_care_calls  Customer_rating  \\\n",
       "0                  F             Ship             0.676389        -1.392091   \n",
       "1                  D             Ship             0.676389         0.020841   \n",
       "2                  F             Ship            -1.083894         0.020841   \n",
       "3                  A             Ship             0.676389        -1.392091   \n",
       "4                  B             Ship            -0.203753        -0.685625   \n",
       "...              ...              ...                  ...              ...   \n",
       "1995               A             Ship            -0.203753        -1.392091   \n",
       "1996               B             Ship            -0.203753        -1.392091   \n",
       "1997               C             Ship             0.676389         0.727307   \n",
       "1998               F             Ship             0.676389        -0.685625   \n",
       "1999               D             Ship            -1.964035         1.433773   \n",
       "\n",
       "      Cost_of_the_Product  Prior_purchases Product_importance Gender  \\\n",
       "0               -0.616410        -1.251576             medium      M   \n",
       "1               -1.458294        -1.251576               high      F   \n",
       "2               -0.378956        -0.563897                low      M   \n",
       "3               -1.825269        -1.251576             medium      M   \n",
       "4                0.916250        -0.563897                low      M   \n",
       "...                   ...              ...                ...    ...   \n",
       "1995             0.743556         0.811461             medium      F   \n",
       "1996             0.311821         0.811461             medium      F   \n",
       "1997             0.527688         0.811461                low      F   \n",
       "1998             0.117540         1.499141             medium      M   \n",
       "1999            -1.350360         0.811461                low      F   \n",
       "\n",
       "      Discount_offered  Weight_in_gms  \n",
       "0             1.510350       0.814459  \n",
       "1             1.165993       0.344728  \n",
       "2            -0.900149       1.102038  \n",
       "3            -1.588863       0.460111  \n",
       "4            -0.555792       0.964399  \n",
       "...                ...            ...  \n",
       "1995         -1.588863      -1.358489  \n",
       "1996          0.132922      -1.528928  \n",
       "1997         -0.555792      -1.582812  \n",
       "1998         -1.244506      -1.550599  \n",
       "1999          0.132922      -1.299333  \n",
       "\n",
       "[2000 rows x 10 columns]"
      ]
     },
     "execution_count": 94,
     "metadata": {},
     "output_type": "execute_result"
    }
   ],
   "source": [
    "#revisamos el resultado\n",
    "test"
   ]
  },
  {
   "cell_type": "markdown",
   "id": "c62c9f25-a6cb-4618-80ee-9e256509dea8",
   "metadata": {},
   "source": [
    "#### Codificación de variables categóricas"
   ]
  },
  {
   "cell_type": "markdown",
   "id": "fbcb8ceb-1b8c-41c9-9a61-a57e3ec787f1",
   "metadata": {},
   "source": [
    "###### Warehouse_block"
   ]
  },
  {
   "cell_type": "code",
   "execution_count": 95,
   "id": "8802fdb8-6bdd-4caa-8548-9452f49354ee",
   "metadata": {},
   "outputs": [],
   "source": [
    "# Trabajaremos con la variable Warehouse_block generando variables dummy\n",
    "Warehouse_block_dummy=pd.get_dummies(test[\"Warehouse_block\"],prefix=\"Warehouse_block\")"
   ]
  },
  {
   "cell_type": "code",
   "execution_count": 96,
   "id": "2995a94c-a409-46b0-a64d-c5e5876d2f27",
   "metadata": {},
   "outputs": [],
   "source": [
    "test=pd.concat([test,Warehouse_block_dummy],axis=1)"
   ]
  },
  {
   "cell_type": "code",
   "execution_count": 97,
   "id": "2cb05d38-b144-4d40-a0dd-6fabbe52ad73",
   "metadata": {},
   "outputs": [],
   "source": [
    "test.drop(columns=\"Warehouse_block\",inplace=True)"
   ]
  },
  {
   "cell_type": "markdown",
   "id": "a7367ae6-0308-4138-ab3a-891593a04e0a",
   "metadata": {},
   "source": [
    "###### Gender"
   ]
  },
  {
   "cell_type": "code",
   "execution_count": 98,
   "id": "8f1f7750-29e8-4585-8b99-967dd4ce13d6",
   "metadata": {},
   "outputs": [],
   "source": [
    "# Trabajaremos con la variable Gender generando variables dummy\n",
    "Gender_dummy=pd.get_dummies(test[\"Gender\"],prefix=\"Gender\")"
   ]
  },
  {
   "cell_type": "code",
   "execution_count": 99,
   "id": "6f4d83b4-38dc-4c11-a491-171515b391f3",
   "metadata": {},
   "outputs": [],
   "source": [
    "test=pd.concat([test,Gender_dummy],axis=1)"
   ]
  },
  {
   "cell_type": "code",
   "execution_count": 100,
   "id": "dded2828-f135-47f8-9ba0-b1c4d3090778",
   "metadata": {},
   "outputs": [],
   "source": [
    "test.drop(columns=\"Gender\",inplace=True)"
   ]
  },
  {
   "cell_type": "markdown",
   "id": "3ec4398a-f520-4894-8588-2bdf903aeeb5",
   "metadata": {},
   "source": [
    "###### Product_importance"
   ]
  },
  {
   "cell_type": "code",
   "execution_count": 101,
   "id": "5261d75e",
   "metadata": {},
   "outputs": [],
   "source": [
    "# Trabajaremos con la variable Product_importance generando variables dummy\n",
    "Product_importance_dummy=pd.get_dummies(test[\"Product_importance\"],prefix=\"Product_importance\")"
   ]
  },
  {
   "cell_type": "code",
   "execution_count": 102,
   "id": "51a72454",
   "metadata": {},
   "outputs": [],
   "source": [
    "test=pd.concat([test,Product_importance_dummy],axis=1)"
   ]
  },
  {
   "cell_type": "code",
   "execution_count": 103,
   "id": "185cddaf",
   "metadata": {},
   "outputs": [],
   "source": [
    "test.drop(columns=\"Product_importance\",inplace=True)"
   ]
  },
  {
   "cell_type": "markdown",
   "id": "f91931f2-831d-483f-9640-c68c93924088",
   "metadata": {},
   "source": [
    "###### Mode_of_Shipment"
   ]
  },
  {
   "cell_type": "code",
   "execution_count": 104,
   "id": "7fb6e287",
   "metadata": {},
   "outputs": [],
   "source": [
    "# Trabajaremos con la variable Mode_of_Shipment generando variables dummy\n",
    "Mode_of_Shipment_dummy=pd.get_dummies(test[\"Mode_of_Shipment\"],prefix=\"Mode_of_Shipment\")"
   ]
  },
  {
   "cell_type": "code",
   "execution_count": 105,
   "id": "52246209",
   "metadata": {},
   "outputs": [],
   "source": [
    "test=pd.concat([test,Mode_of_Shipment_dummy],axis=1)"
   ]
  },
  {
   "cell_type": "code",
   "execution_count": 106,
   "id": "9c5e9710",
   "metadata": {},
   "outputs": [],
   "source": [
    "test.drop(columns=\"Mode_of_Shipment\",inplace=True)"
   ]
  },
  {
   "cell_type": "markdown",
   "id": "211673d1-0dc5-464a-85b0-4a6522bc50a1",
   "metadata": {},
   "source": [
    "# Predecimos los resultados de test"
   ]
  },
  {
   "cell_type": "code",
   "execution_count": 107,
   "id": "c8b10f0d-892b-44a3-848f-a27ebab882b3",
   "metadata": {},
   "outputs": [
    {
     "name": "stdout",
     "output_type": "stream",
     "text": [
      "[1 1 0 ... 0 0 1]\n"
     ]
    },
    {
     "name": "stderr",
     "output_type": "stream",
     "text": [
      "c:\\Users\\USER\\AppData\\Local\\Programs\\Python\\Python39\\lib\\site-packages\\sklearn\\base.py:443: UserWarning: X has feature names, but RandomForestClassifier was fitted without feature names\n",
      "  warnings.warn(\n"
     ]
    }
   ],
   "source": [
    "print(Forest.predict(test[test.columns[:]]))"
   ]
  },
  {
   "cell_type": "markdown",
   "id": "cb4b3768-6e6d-4492-88b2-9440d94fe4cf",
   "metadata": {},
   "source": [
    "#### Creo un df con los resultados como lo pide la consigna"
   ]
  },
  {
   "cell_type": "markdown",
   "id": "1892b781-4233-4852-935f-c47ae09e82a8",
   "metadata": {},
   "source": [
    "###### Creo una lista con los resultados para posteriormente guardarlo en un df"
   ]
  },
  {
   "cell_type": "code",
   "execution_count": 108,
   "id": "01777cfa-3684-4108-a216-b411e8a5c7bb",
   "metadata": {},
   "outputs": [
    {
     "name": "stderr",
     "output_type": "stream",
     "text": [
      "c:\\Users\\USER\\AppData\\Local\\Programs\\Python\\Python39\\lib\\site-packages\\sklearn\\base.py:443: UserWarning: X has feature names, but RandomForestClassifier was fitted without feature names\n",
      "  warnings.warn(\n"
     ]
    }
   ],
   "source": [
    "Lista=(Forest.predict(test[test.columns[:]]))"
   ]
  },
  {
   "cell_type": "code",
   "execution_count": 109,
   "id": "5a16b23c-a468-4f9c-9719-3533c68743a8",
   "metadata": {},
   "outputs": [
    {
     "name": "stdout",
     "output_type": "stream",
     "text": [
      "[1 1 0 ... 0 0 1]\n"
     ]
    }
   ],
   "source": [
    "print(Lista)"
   ]
  },
  {
   "cell_type": "code",
   "execution_count": 110,
   "id": "2172a617-707e-4ee2-816d-4b4bddb37de9",
   "metadata": {},
   "outputs": [],
   "source": [
    "Brakions=pd.DataFrame()"
   ]
  },
  {
   "cell_type": "code",
   "execution_count": 111,
   "id": "5b9d3cee-0f82-46db-9d08-6c8300218052",
   "metadata": {},
   "outputs": [],
   "source": [
    "Brakions[\"pred\"]=Lista"
   ]
  },
  {
   "cell_type": "code",
   "execution_count": 112,
   "id": "e4a7fcec-fb69-489a-b6c2-38d44e605282",
   "metadata": {},
   "outputs": [],
   "source": [
    "Brakions.set_index(\"pred\",inplace=True)"
   ]
  },
  {
   "cell_type": "markdown",
   "id": "566a3e4f-81bf-4564-9bd9-d89fbb52c1a4",
   "metadata": {},
   "source": [
    "## Finalmente creo un archivo csv con el df "
   ]
  },
  {
   "cell_type": "code",
   "execution_count": 113,
   "id": "cace6cf0-1759-48bf-9c4c-2193b534a0fa",
   "metadata": {},
   "outputs": [],
   "source": [
    "Brakions.to_csv(\"Brakions.csv\")"
   ]
  },
  {
   "cell_type": "code",
   "execution_count": 114,
   "id": "db92f181-f36f-44ed-a6a9-15211a7eccca",
   "metadata": {},
   "outputs": [
    {
     "data": {
      "text/html": [
       "<div>\n",
       "<style scoped>\n",
       "    .dataframe tbody tr th:only-of-type {\n",
       "        vertical-align: middle;\n",
       "    }\n",
       "\n",
       "    .dataframe tbody tr th {\n",
       "        vertical-align: top;\n",
       "    }\n",
       "\n",
       "    .dataframe thead th {\n",
       "        text-align: right;\n",
       "    }\n",
       "</style>\n",
       "<table border=\"1\" class=\"dataframe\">\n",
       "  <thead>\n",
       "    <tr style=\"text-align: right;\">\n",
       "      <th></th>\n",
       "    </tr>\n",
       "    <tr>\n",
       "      <th>pred</th>\n",
       "    </tr>\n",
       "  </thead>\n",
       "  <tbody>\n",
       "    <tr>\n",
       "      <th>1</th>\n",
       "    </tr>\n",
       "    <tr>\n",
       "      <th>1</th>\n",
       "    </tr>\n",
       "    <tr>\n",
       "      <th>0</th>\n",
       "    </tr>\n",
       "    <tr>\n",
       "      <th>0</th>\n",
       "    </tr>\n",
       "    <tr>\n",
       "      <th>0</th>\n",
       "    </tr>\n",
       "  </tbody>\n",
       "</table>\n",
       "</div>"
      ],
      "text/plain": [
       "Empty DataFrame\n",
       "Columns: []\n",
       "Index: [1, 1, 0, 0, 0]"
      ]
     },
     "execution_count": 114,
     "metadata": {},
     "output_type": "execute_result"
    }
   ],
   "source": [
    "Brakions.head()"
   ]
  },
  {
   "cell_type": "code",
   "execution_count": 115,
   "id": "05737879-cc2c-4282-ba61-643a56bf9eb4",
   "metadata": {},
   "outputs": [
    {
     "name": "stdout",
     "output_type": "stream",
     "text": [
      "<class 'pandas.core.frame.DataFrame'>\n",
      "Int64Index: 2000 entries, 1 to 1\n",
      "Empty DataFrame"
     ]
    }
   ],
   "source": [
    "Brakions.info()"
   ]
  },
  {
   "cell_type": "markdown",
   "id": "4d3ecb83",
   "metadata": {},
   "source": [
    "# Ahora Probaremos entrenar el Random Forest sin escalar los valores"
   ]
  },
  {
   "cell_type": "code",
   "execution_count": 117,
   "id": "1a0d9d20",
   "metadata": {},
   "outputs": [],
   "source": [
    "dsin = pd.read_excel(\"E-Commerce_train.xlsx\")"
   ]
  },
  {
   "cell_type": "markdown",
   "id": "73aee00d",
   "metadata": {},
   "source": [
    "#### Codificación de variables categóricas"
   ]
  },
  {
   "cell_type": "markdown",
   "id": "6ddb7e88",
   "metadata": {},
   "source": [
    "###### Warehouse_block"
   ]
  },
  {
   "cell_type": "code",
   "execution_count": 118,
   "id": "1bd99168",
   "metadata": {},
   "outputs": [],
   "source": [
    "# Trabajaremos con la variable Warehouse_block generando variables dummy\n",
    "Warehouse_block_dummy=pd.get_dummies(dsin[\"Warehouse_block\"],prefix=\"Warehouse_block\")\n",
    "dsin=pd.concat([dsin,Warehouse_block_dummy],axis=1)\n",
    "dsin.drop(columns=\"Warehouse_block\",inplace=True)\n"
   ]
  },
  {
   "cell_type": "markdown",
   "id": "6942cdaf",
   "metadata": {},
   "source": [
    "###### Gender"
   ]
  },
  {
   "cell_type": "code",
   "execution_count": 119,
   "id": "8104eab8",
   "metadata": {},
   "outputs": [],
   "source": [
    "# Trabajaremos con la variable Gender generando variables dummy\n",
    "Gender_dummy=pd.get_dummies(dsin[\"Gender\"],prefix=\"Gender\")\n",
    "dsin=pd.concat([dsin,Gender_dummy],axis=1)\n",
    "dsin.drop(columns=\"Gender\",inplace=True)"
   ]
  },
  {
   "cell_type": "markdown",
   "id": "e9aeeae5",
   "metadata": {},
   "source": [
    "###### Product_importance"
   ]
  },
  {
   "cell_type": "code",
   "execution_count": 120,
   "id": "e38bed72",
   "metadata": {},
   "outputs": [],
   "source": [
    "# Trabajaremos con la variable Product_importance generando variables dummy\n",
    "Product_importance_dummy=pd.get_dummies(dsin[\"Product_importance\"],prefix=\"Product_importance\")\n",
    "dsin=pd.concat([dsin,Product_importance_dummy],axis=1)\n",
    "dsin.drop(columns=\"Product_importance\",inplace=True)"
   ]
  },
  {
   "cell_type": "markdown",
   "id": "ede77d8a",
   "metadata": {},
   "source": [
    "###### Mode_of_Shipment"
   ]
  },
  {
   "cell_type": "code",
   "execution_count": 121,
   "id": "60dba17a",
   "metadata": {},
   "outputs": [],
   "source": [
    "# Trabajaremos con la variable Mode_of_Shipment generando variables dummy\n",
    "Mode_of_Shipment_dummy=pd.get_dummies(dsin[\"Mode_of_Shipment\"],prefix=\"Mode_of_Shipment\")\n",
    "dsin=pd.concat([dsin,Mode_of_Shipment_dummy],axis=1)\n",
    "dsin.drop(columns=\"Mode_of_Shipment\",inplace=True)"
   ]
  },
  {
   "cell_type": "markdown",
   "id": "f205ec0e",
   "metadata": {},
   "source": [
    "Borramos ID y la columna con los resultados"
   ]
  },
  {
   "cell_type": "code",
   "execution_count": 122,
   "id": "f2eeebda",
   "metadata": {},
   "outputs": [],
   "source": [
    "dsin2=dsin.drop([\"Reached.on.Time_Y.N\",\"ID\"],axis=1)"
   ]
  },
  {
   "cell_type": "markdown",
   "id": "d15ba9f6",
   "metadata": {},
   "source": [
    "Entrenamos con lo valores sin escalar y con outliers"
   ]
  },
  {
   "cell_type": "code",
   "execution_count": 123,
   "id": "99214ba6",
   "metadata": {},
   "outputs": [
    {
     "data": {
      "text/html": [
       "<style>#sk-container-id-2 {color: black;background-color: white;}#sk-container-id-2 pre{padding: 0;}#sk-container-id-2 div.sk-toggleable {background-color: white;}#sk-container-id-2 label.sk-toggleable__label {cursor: pointer;display: block;width: 100%;margin-bottom: 0;padding: 0.3em;box-sizing: border-box;text-align: center;}#sk-container-id-2 label.sk-toggleable__label-arrow:before {content: \"▸\";float: left;margin-right: 0.25em;color: #696969;}#sk-container-id-2 label.sk-toggleable__label-arrow:hover:before {color: black;}#sk-container-id-2 div.sk-estimator:hover label.sk-toggleable__label-arrow:before {color: black;}#sk-container-id-2 div.sk-toggleable__content {max-height: 0;max-width: 0;overflow: hidden;text-align: left;background-color: #f0f8ff;}#sk-container-id-2 div.sk-toggleable__content pre {margin: 0.2em;color: black;border-radius: 0.25em;background-color: #f0f8ff;}#sk-container-id-2 input.sk-toggleable__control:checked~div.sk-toggleable__content {max-height: 200px;max-width: 100%;overflow: auto;}#sk-container-id-2 input.sk-toggleable__control:checked~label.sk-toggleable__label-arrow:before {content: \"▾\";}#sk-container-id-2 div.sk-estimator input.sk-toggleable__control:checked~label.sk-toggleable__label {background-color: #d4ebff;}#sk-container-id-2 div.sk-label input.sk-toggleable__control:checked~label.sk-toggleable__label {background-color: #d4ebff;}#sk-container-id-2 input.sk-hidden--visually {border: 0;clip: rect(1px 1px 1px 1px);clip: rect(1px, 1px, 1px, 1px);height: 1px;margin: -1px;overflow: hidden;padding: 0;position: absolute;width: 1px;}#sk-container-id-2 div.sk-estimator {font-family: monospace;background-color: #f0f8ff;border: 1px dotted black;border-radius: 0.25em;box-sizing: border-box;margin-bottom: 0.5em;}#sk-container-id-2 div.sk-estimator:hover {background-color: #d4ebff;}#sk-container-id-2 div.sk-parallel-item::after {content: \"\";width: 100%;border-bottom: 1px solid gray;flex-grow: 1;}#sk-container-id-2 div.sk-label:hover label.sk-toggleable__label {background-color: #d4ebff;}#sk-container-id-2 div.sk-serial::before {content: \"\";position: absolute;border-left: 1px solid gray;box-sizing: border-box;top: 0;bottom: 0;left: 50%;z-index: 0;}#sk-container-id-2 div.sk-serial {display: flex;flex-direction: column;align-items: center;background-color: white;padding-right: 0.2em;padding-left: 0.2em;position: relative;}#sk-container-id-2 div.sk-item {position: relative;z-index: 1;}#sk-container-id-2 div.sk-parallel {display: flex;align-items: stretch;justify-content: center;background-color: white;position: relative;}#sk-container-id-2 div.sk-item::before, #sk-container-id-2 div.sk-parallel-item::before {content: \"\";position: absolute;border-left: 1px solid gray;box-sizing: border-box;top: 0;bottom: 0;left: 50%;z-index: -1;}#sk-container-id-2 div.sk-parallel-item {display: flex;flex-direction: column;z-index: 1;position: relative;background-color: white;}#sk-container-id-2 div.sk-parallel-item:first-child::after {align-self: flex-end;width: 50%;}#sk-container-id-2 div.sk-parallel-item:last-child::after {align-self: flex-start;width: 50%;}#sk-container-id-2 div.sk-parallel-item:only-child::after {width: 0;}#sk-container-id-2 div.sk-dashed-wrapped {border: 1px dashed gray;margin: 0 0.4em 0.5em 0.4em;box-sizing: border-box;padding-bottom: 0.4em;background-color: white;}#sk-container-id-2 div.sk-label label {font-family: monospace;font-weight: bold;display: inline-block;line-height: 1.2em;}#sk-container-id-2 div.sk-label-container {text-align: center;}#sk-container-id-2 div.sk-container {/* jupyter's `normalize.less` sets `[hidden] { display: none; }` but bootstrap.min.css set `[hidden] { display: none !important; }` so we also need the `!important` here to be able to override the default hidden behavior on the sphinx rendered scikit-learn.org. See: https://github.com/scikit-learn/scikit-learn/issues/21755 */display: inline-block !important;position: relative;}#sk-container-id-2 div.sk-text-repr-fallback {display: none;}</style><div id=\"sk-container-id-2\" class=\"sk-top-container\"><div class=\"sk-text-repr-fallback\"><pre>RandomForestClassifier(max_samples=0.3333333333333333, n_estimators=150,\n",
       "                       oob_score=True)</pre><b>In a Jupyter environment, please rerun this cell to show the HTML representation or trust the notebook. <br />On GitHub, the HTML representation is unable to render, please try loading this page with nbviewer.org.</b></div><div class=\"sk-container\" hidden><div class=\"sk-item\"><div class=\"sk-estimator sk-toggleable\"><input class=\"sk-toggleable__control sk-hidden--visually\" id=\"sk-estimator-id-2\" type=\"checkbox\" checked><label for=\"sk-estimator-id-2\" class=\"sk-toggleable__label sk-toggleable__label-arrow\">RandomForestClassifier</label><div class=\"sk-toggleable__content\"><pre>RandomForestClassifier(max_samples=0.3333333333333333, n_estimators=150,\n",
       "                       oob_score=True)</pre></div></div></div></div></div>"
      ],
      "text/plain": [
       "RandomForestClassifier(max_samples=0.3333333333333333, n_estimators=150,\n",
       "                       oob_score=True)"
      ]
     },
     "execution_count": 123,
     "metadata": {},
     "output_type": "execute_result"
    }
   ],
   "source": [
    "Forest2 = RandomForestClassifier(n_estimators=150,\n",
    "                               criterion=\"gini\",\n",
    "                               max_features=\"sqrt\",\n",
    "                               bootstrap=True,\n",
    "                               max_samples=1/3,\n",
    "                               oob_score=True)\n",
    "Forest2.fit(dsin2.values, dsin[\"Reached.on.Time_Y.N\"].values)"
   ]
  },
  {
   "cell_type": "code",
   "execution_count": 125,
   "id": "bcd902b0",
   "metadata": {},
   "outputs": [
    {
     "name": "stdout",
     "output_type": "stream",
     "text": [
      "0.6936326258473163\n"
     ]
    }
   ],
   "source": [
    "#Imprimimos las instancias que clasifico correctamente a los 2/3 que quedaron\n",
    "print(Forest2.oob_score_)"
   ]
  },
  {
   "cell_type": "code",
   "execution_count": 130,
   "id": "19b5a0bf",
   "metadata": {},
   "outputs": [
    {
     "name": "stdout",
     "output_type": "stream",
     "text": [
      "Puntuacion nueva 0.6936326258473163\n",
      "Puntuacion anterior 0.5934261658031088\n",
      "Diferencia 0.10020646004420752\n",
      "Aumento un  10.020646004420753 %\n"
     ]
    }
   ],
   "source": [
    "print(\"Puntuacion nueva\",Forest2.oob_score_)\n",
    "print(\"Puntuacion anterior\",Forest.oob_score_)\n",
    "print(\"Diferencia\",(Forest2.oob_score_ - Forest.oob_score_))\n",
    "print(\"Aumento un \",(Forest2.oob_score_ - Forest.oob_score_)*100,\"%\")"
   ]
  },
  {
   "cell_type": "markdown",
   "id": "55186c5c",
   "metadata": {},
   "source": [
    "#### Conclucion: \n",
    "Al parecer en Random Forest mientras mas varien sus arboles y menos sobreajustados esten incrementa la precision de la predicion."
   ]
  }
 ],
 "metadata": {
  "kernelspec": {
   "display_name": "Python 3.9.4 64-bit",
   "language": "python",
   "name": "python3"
  },
  "language_info": {
   "codemirror_mode": {
    "name": "ipython",
    "version": 3
   },
   "file_extension": ".py",
   "mimetype": "text/x-python",
   "name": "python",
   "nbconvert_exporter": "python",
   "pygments_lexer": "ipython3",
   "version": "3.9.4"
  },
  "vscode": {
   "interpreter": {
    "hash": "1d5c1156327dacead463cc502c55ebae8ce9c8c01979cf154173ff808e75bf55"
   }
  }
 },
 "nbformat": 4,
 "nbformat_minor": 5
}
